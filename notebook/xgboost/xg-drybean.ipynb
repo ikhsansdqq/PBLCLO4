{
 "cells": [
  {
   "cell_type": "markdown",
   "source": [
    "# DryBeanDataset\n",
    "\n",
    "The **XGBoost** and **Random Forest** models are employed for the classification of the DryBeanDataset, a tabular dataset representing various bean types. \n",
    "\n",
    "1. Ikhsan Assidiqie\n",
    "2. Zharfan Dawud Harwiraputera\n",
    "3. Helmi Wira Tahta Haikal"
   ],
   "metadata": {
    "collapsed": false
   },
   "id": "27c4a92927209a12"
  },
  {
   "cell_type": "markdown",
   "source": [
    "## Method Summary\n",
    "\n",
    "1. **XGBOOST** \n",
    "Known for its efficiency and accuracy, XGBoost is a gradient boosting algorithm that sequentially builds multiple decision trees and optimizes their collective predictive power. It's particularly effective for tabular data classification, making it well-suited for discerning different types of beans in the DryBeanDataset.\n",
    "\n",
    "2. **Random Forest** \n",
    "This model involves constructing multiple decision trees using random subsets of the training data. Each tree contributes to the final prediction, and the Random Forest model excels in handling complex datasets. In the context of DryBeanDataset, Random Forest proves valuable for accurate classification, leveraging the diversity of decision trees to enhance overall performance."
   ],
   "metadata": {
    "collapsed": false
   },
   "id": "261ff3ac79c2cad2"
  },
  {
   "cell_type": "code",
   "execution_count": 1,
   "id": "initial_id",
   "metadata": {
    "collapsed": true,
    "ExecuteTime": {
     "end_time": "2023-12-28T14:20:30.554197800Z",
     "start_time": "2023-12-28T14:20:29.398903500Z"
    }
   },
   "outputs": [],
   "source": [
    "import pandas as pd\n",
    "import seaborn as sns\n",
    "import matplotlib.pyplot as plt\n",
    "import numpy as np\n",
    "\n",
    "from xgboost import XGBClassifier\n",
    "\n",
    "from sklearn.model_selection import train_test_split\n",
    "from sklearn.metrics import accuracy_score, classification_report\n",
    "from sklearn.preprocessing import LabelEncoder\n"
   ]
  },
  {
   "cell_type": "code",
   "execution_count": 2,
   "outputs": [
    {
     "data": {
      "text/plain": "        Area Perimeter MajorAxisLength MinorAxisLength AspectRation  \\\n0      28395   610.291     208.1781167      173.888747  1.197191424   \n1      28734   638.018     200.5247957     182.7344194  1.097356461   \n2      29380    624.11     212.8261299     175.9311426  1.209712656   \n3      30008   645.884      210.557999     182.5165157  1.153638059   \n4      30140   620.134     201.8478822     190.2792788   1.06079802   \n...      ...       ...             ...             ...          ...   \n13606  42097   759.696      288.721612     185.9447054   1.55272833   \n13607  42101   757.499     281.5763923     190.7131365  1.476439419   \n13608  42139   759.321     281.5399279     191.1879789  1.472581747   \n13609  42147   763.779     283.3826364     190.2757308  1.489326228   \n13610  42159   772.237      295.142741     182.2047159  1.619841394   \n\n      Eccentricity  ConvexArea EquivDiameter       Extent     Solidity  \\\n0      0.549812187       28715   190.1410973  0.763922518  0.988855999   \n1      0.411785251       29172   191.2727505  0.783968133  0.984985603   \n2      0.562727317       29690   193.4109041  0.778113248  0.989558774   \n3      0.498615976       30724   195.4670618  0.782681273  0.976695743   \n4      0.333679658       30417    195.896503  0.773098035   0.99089325   \n...            ...         ...           ...          ...          ...   \n13606  0.765002201       42508   231.5157988   0.71457428  0.990331232   \n13607  0.735702218       42494   231.5267977  0.799942998  0.990751636   \n13608  0.734064781       42569   231.6312612  0.729932444  0.989898753   \n13609  0.741054787       42667   231.6532475  0.705389121  0.987812595   \n13610  0.786693016       42600   231.6862231  0.788962497  0.989647887   \n\n         roundness  Compactness ShapeFactor1 ShapeFactor2 ShapeFactor3  \\\n0      0.958027126  0.913357755  0.007331506  0.003147289  0.834222388   \n1      0.887033637  0.953860842  0.006978659  0.003563624  0.909850506   \n2      0.947849473  0.908774239  0.007243912  0.003047733  0.825870617   \n3      0.903936374  0.928328835  0.007016729  0.003214562  0.861794425   \n4      0.984877069  0.970515523   0.00669701  0.003664972  0.941900381   \n...            ...          ...          ...          ...          ...   \n13606  0.916603122   0.80186515  0.006858484  0.001749094  0.642987719   \n13607  0.922015342  0.822252163  0.006688116  0.001885835   0.67609862   \n13608  0.918424091  0.822729703   0.00668122  0.001888271  0.676884164   \n13609  0.907906457  0.817457451  0.006723673  0.001852025  0.668236684   \n13610  0.888380369  0.784997193  0.007000705  0.001639812  0.616220592   \n\n      ShapeFactor4     Class  \n0      0.998723889     SEKER  \n1      0.998430331     SEKER  \n2      0.999066137     SEKER  \n3      0.994198849     SEKER  \n4      0.999166059     SEKER  \n...            ...       ...  \n13606  0.998385248  DERMASON  \n13607  0.998218654  DERMASON  \n13608  0.996767264  DERMASON  \n13609   0.99522242  DERMASON  \n13610  0.998179623  DERMASON  \n\n[13611 rows x 17 columns]",
      "text/html": "<div>\n<style scoped>\n    .dataframe tbody tr th:only-of-type {\n        vertical-align: middle;\n    }\n\n    .dataframe tbody tr th {\n        vertical-align: top;\n    }\n\n    .dataframe thead th {\n        text-align: right;\n    }\n</style>\n<table border=\"1\" class=\"dataframe\">\n  <thead>\n    <tr style=\"text-align: right;\">\n      <th></th>\n      <th>Area</th>\n      <th>Perimeter</th>\n      <th>MajorAxisLength</th>\n      <th>MinorAxisLength</th>\n      <th>AspectRation</th>\n      <th>Eccentricity</th>\n      <th>ConvexArea</th>\n      <th>EquivDiameter</th>\n      <th>Extent</th>\n      <th>Solidity</th>\n      <th>roundness</th>\n      <th>Compactness</th>\n      <th>ShapeFactor1</th>\n      <th>ShapeFactor2</th>\n      <th>ShapeFactor3</th>\n      <th>ShapeFactor4</th>\n      <th>Class</th>\n    </tr>\n  </thead>\n  <tbody>\n    <tr>\n      <th>0</th>\n      <td>28395</td>\n      <td>610.291</td>\n      <td>208.1781167</td>\n      <td>173.888747</td>\n      <td>1.197191424</td>\n      <td>0.549812187</td>\n      <td>28715</td>\n      <td>190.1410973</td>\n      <td>0.763922518</td>\n      <td>0.988855999</td>\n      <td>0.958027126</td>\n      <td>0.913357755</td>\n      <td>0.007331506</td>\n      <td>0.003147289</td>\n      <td>0.834222388</td>\n      <td>0.998723889</td>\n      <td>SEKER</td>\n    </tr>\n    <tr>\n      <th>1</th>\n      <td>28734</td>\n      <td>638.018</td>\n      <td>200.5247957</td>\n      <td>182.7344194</td>\n      <td>1.097356461</td>\n      <td>0.411785251</td>\n      <td>29172</td>\n      <td>191.2727505</td>\n      <td>0.783968133</td>\n      <td>0.984985603</td>\n      <td>0.887033637</td>\n      <td>0.953860842</td>\n      <td>0.006978659</td>\n      <td>0.003563624</td>\n      <td>0.909850506</td>\n      <td>0.998430331</td>\n      <td>SEKER</td>\n    </tr>\n    <tr>\n      <th>2</th>\n      <td>29380</td>\n      <td>624.11</td>\n      <td>212.8261299</td>\n      <td>175.9311426</td>\n      <td>1.209712656</td>\n      <td>0.562727317</td>\n      <td>29690</td>\n      <td>193.4109041</td>\n      <td>0.778113248</td>\n      <td>0.989558774</td>\n      <td>0.947849473</td>\n      <td>0.908774239</td>\n      <td>0.007243912</td>\n      <td>0.003047733</td>\n      <td>0.825870617</td>\n      <td>0.999066137</td>\n      <td>SEKER</td>\n    </tr>\n    <tr>\n      <th>3</th>\n      <td>30008</td>\n      <td>645.884</td>\n      <td>210.557999</td>\n      <td>182.5165157</td>\n      <td>1.153638059</td>\n      <td>0.498615976</td>\n      <td>30724</td>\n      <td>195.4670618</td>\n      <td>0.782681273</td>\n      <td>0.976695743</td>\n      <td>0.903936374</td>\n      <td>0.928328835</td>\n      <td>0.007016729</td>\n      <td>0.003214562</td>\n      <td>0.861794425</td>\n      <td>0.994198849</td>\n      <td>SEKER</td>\n    </tr>\n    <tr>\n      <th>4</th>\n      <td>30140</td>\n      <td>620.134</td>\n      <td>201.8478822</td>\n      <td>190.2792788</td>\n      <td>1.06079802</td>\n      <td>0.333679658</td>\n      <td>30417</td>\n      <td>195.896503</td>\n      <td>0.773098035</td>\n      <td>0.99089325</td>\n      <td>0.984877069</td>\n      <td>0.970515523</td>\n      <td>0.00669701</td>\n      <td>0.003664972</td>\n      <td>0.941900381</td>\n      <td>0.999166059</td>\n      <td>SEKER</td>\n    </tr>\n    <tr>\n      <th>...</th>\n      <td>...</td>\n      <td>...</td>\n      <td>...</td>\n      <td>...</td>\n      <td>...</td>\n      <td>...</td>\n      <td>...</td>\n      <td>...</td>\n      <td>...</td>\n      <td>...</td>\n      <td>...</td>\n      <td>...</td>\n      <td>...</td>\n      <td>...</td>\n      <td>...</td>\n      <td>...</td>\n      <td>...</td>\n    </tr>\n    <tr>\n      <th>13606</th>\n      <td>42097</td>\n      <td>759.696</td>\n      <td>288.721612</td>\n      <td>185.9447054</td>\n      <td>1.55272833</td>\n      <td>0.765002201</td>\n      <td>42508</td>\n      <td>231.5157988</td>\n      <td>0.71457428</td>\n      <td>0.990331232</td>\n      <td>0.916603122</td>\n      <td>0.80186515</td>\n      <td>0.006858484</td>\n      <td>0.001749094</td>\n      <td>0.642987719</td>\n      <td>0.998385248</td>\n      <td>DERMASON</td>\n    </tr>\n    <tr>\n      <th>13607</th>\n      <td>42101</td>\n      <td>757.499</td>\n      <td>281.5763923</td>\n      <td>190.7131365</td>\n      <td>1.476439419</td>\n      <td>0.735702218</td>\n      <td>42494</td>\n      <td>231.5267977</td>\n      <td>0.799942998</td>\n      <td>0.990751636</td>\n      <td>0.922015342</td>\n      <td>0.822252163</td>\n      <td>0.006688116</td>\n      <td>0.001885835</td>\n      <td>0.67609862</td>\n      <td>0.998218654</td>\n      <td>DERMASON</td>\n    </tr>\n    <tr>\n      <th>13608</th>\n      <td>42139</td>\n      <td>759.321</td>\n      <td>281.5399279</td>\n      <td>191.1879789</td>\n      <td>1.472581747</td>\n      <td>0.734064781</td>\n      <td>42569</td>\n      <td>231.6312612</td>\n      <td>0.729932444</td>\n      <td>0.989898753</td>\n      <td>0.918424091</td>\n      <td>0.822729703</td>\n      <td>0.00668122</td>\n      <td>0.001888271</td>\n      <td>0.676884164</td>\n      <td>0.996767264</td>\n      <td>DERMASON</td>\n    </tr>\n    <tr>\n      <th>13609</th>\n      <td>42147</td>\n      <td>763.779</td>\n      <td>283.3826364</td>\n      <td>190.2757308</td>\n      <td>1.489326228</td>\n      <td>0.741054787</td>\n      <td>42667</td>\n      <td>231.6532475</td>\n      <td>0.705389121</td>\n      <td>0.987812595</td>\n      <td>0.907906457</td>\n      <td>0.817457451</td>\n      <td>0.006723673</td>\n      <td>0.001852025</td>\n      <td>0.668236684</td>\n      <td>0.99522242</td>\n      <td>DERMASON</td>\n    </tr>\n    <tr>\n      <th>13610</th>\n      <td>42159</td>\n      <td>772.237</td>\n      <td>295.142741</td>\n      <td>182.2047159</td>\n      <td>1.619841394</td>\n      <td>0.786693016</td>\n      <td>42600</td>\n      <td>231.6862231</td>\n      <td>0.788962497</td>\n      <td>0.989647887</td>\n      <td>0.888380369</td>\n      <td>0.784997193</td>\n      <td>0.007000705</td>\n      <td>0.001639812</td>\n      <td>0.616220592</td>\n      <td>0.998179623</td>\n      <td>DERMASON</td>\n    </tr>\n  </tbody>\n</table>\n<p>13611 rows × 17 columns</p>\n</div>"
     },
     "execution_count": 2,
     "metadata": {},
     "output_type": "execute_result"
    }
   ],
   "source": [
    "df = pd.read_csv('../../data/raw/DryBeanDataset/Dry_Bean_Dataset.csv', delimiter=';')\n",
    "df = df.replace(',', '.', regex=True)\n",
    "\n",
    "df"
   ],
   "metadata": {
    "collapsed": false,
    "ExecuteTime": {
     "end_time": "2023-12-28T14:20:30.795434Z",
     "start_time": "2023-12-28T14:20:30.552197100Z"
    }
   },
   "id": "5b807dceb89406bf"
  },
  {
   "cell_type": "code",
   "execution_count": 3,
   "outputs": [
    {
     "data": {
      "text/plain": "    Area Perimeter MajorAxisLength MinorAxisLength AspectRation Eccentricity  \\\n0  28395   610.291     208.1781167      173.888747  1.197191424  0.549812187   \n1  28734   638.018     200.5247957     182.7344194  1.097356461  0.411785251   \n2  29380    624.11     212.8261299     175.9311426  1.209712656  0.562727317   \n3  30008   645.884      210.557999     182.5165157  1.153638059  0.498615976   \n4  30140   620.134     201.8478822     190.2792788   1.06079802  0.333679658   \n5  30279   634.927     212.5605564     181.5101816  1.171066849   0.52040066   \n\n   ConvexArea EquivDiameter       Extent     Solidity    roundness  \\\n0       28715   190.1410973  0.763922518  0.988855999  0.958027126   \n1       29172   191.2727505  0.783968133  0.984985603  0.887033637   \n2       29690   193.4109041  0.778113248  0.989558774  0.947849473   \n3       30724   195.4670618  0.782681273  0.976695743  0.903936374   \n4       30417    195.896503  0.773098035   0.99089325  0.984877069   \n5       30600   196.3477022  0.775688485  0.989509804  0.943851783   \n\n   Compactness ShapeFactor1 ShapeFactor2 ShapeFactor3 ShapeFactor4  Class  \n0  0.913357755  0.007331506  0.003147289  0.834222388  0.998723889  SEKER  \n1  0.953860842  0.006978659  0.003563624  0.909850506  0.998430331  SEKER  \n2  0.908774239  0.007243912  0.003047733  0.825870617  0.999066137  SEKER  \n3  0.928328835  0.007016729  0.003214562  0.861794425  0.994198849  SEKER  \n4  0.970515523   0.00669701  0.003664972  0.941900381  0.999166059  SEKER  \n5  0.923725952  0.007020065  0.003152779  0.853269634  0.999235781  SEKER  ",
      "text/html": "<div>\n<style scoped>\n    .dataframe tbody tr th:only-of-type {\n        vertical-align: middle;\n    }\n\n    .dataframe tbody tr th {\n        vertical-align: top;\n    }\n\n    .dataframe thead th {\n        text-align: right;\n    }\n</style>\n<table border=\"1\" class=\"dataframe\">\n  <thead>\n    <tr style=\"text-align: right;\">\n      <th></th>\n      <th>Area</th>\n      <th>Perimeter</th>\n      <th>MajorAxisLength</th>\n      <th>MinorAxisLength</th>\n      <th>AspectRation</th>\n      <th>Eccentricity</th>\n      <th>ConvexArea</th>\n      <th>EquivDiameter</th>\n      <th>Extent</th>\n      <th>Solidity</th>\n      <th>roundness</th>\n      <th>Compactness</th>\n      <th>ShapeFactor1</th>\n      <th>ShapeFactor2</th>\n      <th>ShapeFactor3</th>\n      <th>ShapeFactor4</th>\n      <th>Class</th>\n    </tr>\n  </thead>\n  <tbody>\n    <tr>\n      <th>0</th>\n      <td>28395</td>\n      <td>610.291</td>\n      <td>208.1781167</td>\n      <td>173.888747</td>\n      <td>1.197191424</td>\n      <td>0.549812187</td>\n      <td>28715</td>\n      <td>190.1410973</td>\n      <td>0.763922518</td>\n      <td>0.988855999</td>\n      <td>0.958027126</td>\n      <td>0.913357755</td>\n      <td>0.007331506</td>\n      <td>0.003147289</td>\n      <td>0.834222388</td>\n      <td>0.998723889</td>\n      <td>SEKER</td>\n    </tr>\n    <tr>\n      <th>1</th>\n      <td>28734</td>\n      <td>638.018</td>\n      <td>200.5247957</td>\n      <td>182.7344194</td>\n      <td>1.097356461</td>\n      <td>0.411785251</td>\n      <td>29172</td>\n      <td>191.2727505</td>\n      <td>0.783968133</td>\n      <td>0.984985603</td>\n      <td>0.887033637</td>\n      <td>0.953860842</td>\n      <td>0.006978659</td>\n      <td>0.003563624</td>\n      <td>0.909850506</td>\n      <td>0.998430331</td>\n      <td>SEKER</td>\n    </tr>\n    <tr>\n      <th>2</th>\n      <td>29380</td>\n      <td>624.11</td>\n      <td>212.8261299</td>\n      <td>175.9311426</td>\n      <td>1.209712656</td>\n      <td>0.562727317</td>\n      <td>29690</td>\n      <td>193.4109041</td>\n      <td>0.778113248</td>\n      <td>0.989558774</td>\n      <td>0.947849473</td>\n      <td>0.908774239</td>\n      <td>0.007243912</td>\n      <td>0.003047733</td>\n      <td>0.825870617</td>\n      <td>0.999066137</td>\n      <td>SEKER</td>\n    </tr>\n    <tr>\n      <th>3</th>\n      <td>30008</td>\n      <td>645.884</td>\n      <td>210.557999</td>\n      <td>182.5165157</td>\n      <td>1.153638059</td>\n      <td>0.498615976</td>\n      <td>30724</td>\n      <td>195.4670618</td>\n      <td>0.782681273</td>\n      <td>0.976695743</td>\n      <td>0.903936374</td>\n      <td>0.928328835</td>\n      <td>0.007016729</td>\n      <td>0.003214562</td>\n      <td>0.861794425</td>\n      <td>0.994198849</td>\n      <td>SEKER</td>\n    </tr>\n    <tr>\n      <th>4</th>\n      <td>30140</td>\n      <td>620.134</td>\n      <td>201.8478822</td>\n      <td>190.2792788</td>\n      <td>1.06079802</td>\n      <td>0.333679658</td>\n      <td>30417</td>\n      <td>195.896503</td>\n      <td>0.773098035</td>\n      <td>0.99089325</td>\n      <td>0.984877069</td>\n      <td>0.970515523</td>\n      <td>0.00669701</td>\n      <td>0.003664972</td>\n      <td>0.941900381</td>\n      <td>0.999166059</td>\n      <td>SEKER</td>\n    </tr>\n    <tr>\n      <th>5</th>\n      <td>30279</td>\n      <td>634.927</td>\n      <td>212.5605564</td>\n      <td>181.5101816</td>\n      <td>1.171066849</td>\n      <td>0.52040066</td>\n      <td>30600</td>\n      <td>196.3477022</td>\n      <td>0.775688485</td>\n      <td>0.989509804</td>\n      <td>0.943851783</td>\n      <td>0.923725952</td>\n      <td>0.007020065</td>\n      <td>0.003152779</td>\n      <td>0.853269634</td>\n      <td>0.999235781</td>\n      <td>SEKER</td>\n    </tr>\n  </tbody>\n</table>\n</div>"
     },
     "execution_count": 3,
     "metadata": {},
     "output_type": "execute_result"
    }
   ],
   "source": [
    "df.head(6)"
   ],
   "metadata": {
    "collapsed": false,
    "ExecuteTime": {
     "end_time": "2023-12-28T14:20:30.801996500Z",
     "start_time": "2023-12-28T14:20:30.788434400Z"
    }
   },
   "id": "54decd8beef8ade3"
  },
  {
   "cell_type": "code",
   "execution_count": 4,
   "outputs": [
    {
     "data": {
      "text/plain": "        Area Perimeter MajorAxisLength MinorAxisLength AspectRation  \\\n13605  42070   760.701     276.6916506     193.9453665  1.426647389   \n13606  42097   759.696      288.721612     185.9447054   1.55272833   \n13607  42101   757.499     281.5763923     190.7131365  1.476439419   \n13608  42139   759.321     281.5399279     191.1879789  1.472581747   \n13609  42147   763.779     283.3826364     190.2757308  1.489326228   \n13610  42159   772.237      295.142741     182.2047159  1.619841394   \n\n      Eccentricity  ConvexArea EquivDiameter       Extent     Solidity  \\\n13605  0.713216263       42458   231.4415426  0.730813327  0.990861557   \n13606  0.765002201       42508   231.5157988   0.71457428  0.990331232   \n13607  0.735702218       42494   231.5267977  0.799942998  0.990751636   \n13608  0.734064781       42569   231.6312612  0.729932444  0.989898753   \n13609  0.741054787       42667   231.6532475  0.705389121  0.987812595   \n13610  0.786693016       42600   231.6862231  0.788962497  0.989647887   \n\n         roundness  Compactness ShapeFactor1 ShapeFactor2 ShapeFactor3  \\\n13605  0.913596447  0.836460161  0.006576935  0.001986023  0.699665601   \n13606  0.916603122   0.80186515  0.006858484  0.001749094  0.642987719   \n13607  0.922015342  0.822252163  0.006688116  0.001885835   0.67609862   \n13608  0.918424091  0.822729703   0.00668122  0.001888271  0.676884164   \n13609  0.907906457  0.817457451  0.006723673  0.001852025  0.668236684   \n13610  0.888380369  0.784997193  0.007000705  0.001639812  0.616220592   \n\n      ShapeFactor4     Class  \n13605  0.998176102  DERMASON  \n13606  0.998385248  DERMASON  \n13607  0.998218654  DERMASON  \n13608  0.996767264  DERMASON  \n13609   0.99522242  DERMASON  \n13610  0.998179623  DERMASON  ",
      "text/html": "<div>\n<style scoped>\n    .dataframe tbody tr th:only-of-type {\n        vertical-align: middle;\n    }\n\n    .dataframe tbody tr th {\n        vertical-align: top;\n    }\n\n    .dataframe thead th {\n        text-align: right;\n    }\n</style>\n<table border=\"1\" class=\"dataframe\">\n  <thead>\n    <tr style=\"text-align: right;\">\n      <th></th>\n      <th>Area</th>\n      <th>Perimeter</th>\n      <th>MajorAxisLength</th>\n      <th>MinorAxisLength</th>\n      <th>AspectRation</th>\n      <th>Eccentricity</th>\n      <th>ConvexArea</th>\n      <th>EquivDiameter</th>\n      <th>Extent</th>\n      <th>Solidity</th>\n      <th>roundness</th>\n      <th>Compactness</th>\n      <th>ShapeFactor1</th>\n      <th>ShapeFactor2</th>\n      <th>ShapeFactor3</th>\n      <th>ShapeFactor4</th>\n      <th>Class</th>\n    </tr>\n  </thead>\n  <tbody>\n    <tr>\n      <th>13605</th>\n      <td>42070</td>\n      <td>760.701</td>\n      <td>276.6916506</td>\n      <td>193.9453665</td>\n      <td>1.426647389</td>\n      <td>0.713216263</td>\n      <td>42458</td>\n      <td>231.4415426</td>\n      <td>0.730813327</td>\n      <td>0.990861557</td>\n      <td>0.913596447</td>\n      <td>0.836460161</td>\n      <td>0.006576935</td>\n      <td>0.001986023</td>\n      <td>0.699665601</td>\n      <td>0.998176102</td>\n      <td>DERMASON</td>\n    </tr>\n    <tr>\n      <th>13606</th>\n      <td>42097</td>\n      <td>759.696</td>\n      <td>288.721612</td>\n      <td>185.9447054</td>\n      <td>1.55272833</td>\n      <td>0.765002201</td>\n      <td>42508</td>\n      <td>231.5157988</td>\n      <td>0.71457428</td>\n      <td>0.990331232</td>\n      <td>0.916603122</td>\n      <td>0.80186515</td>\n      <td>0.006858484</td>\n      <td>0.001749094</td>\n      <td>0.642987719</td>\n      <td>0.998385248</td>\n      <td>DERMASON</td>\n    </tr>\n    <tr>\n      <th>13607</th>\n      <td>42101</td>\n      <td>757.499</td>\n      <td>281.5763923</td>\n      <td>190.7131365</td>\n      <td>1.476439419</td>\n      <td>0.735702218</td>\n      <td>42494</td>\n      <td>231.5267977</td>\n      <td>0.799942998</td>\n      <td>0.990751636</td>\n      <td>0.922015342</td>\n      <td>0.822252163</td>\n      <td>0.006688116</td>\n      <td>0.001885835</td>\n      <td>0.67609862</td>\n      <td>0.998218654</td>\n      <td>DERMASON</td>\n    </tr>\n    <tr>\n      <th>13608</th>\n      <td>42139</td>\n      <td>759.321</td>\n      <td>281.5399279</td>\n      <td>191.1879789</td>\n      <td>1.472581747</td>\n      <td>0.734064781</td>\n      <td>42569</td>\n      <td>231.6312612</td>\n      <td>0.729932444</td>\n      <td>0.989898753</td>\n      <td>0.918424091</td>\n      <td>0.822729703</td>\n      <td>0.00668122</td>\n      <td>0.001888271</td>\n      <td>0.676884164</td>\n      <td>0.996767264</td>\n      <td>DERMASON</td>\n    </tr>\n    <tr>\n      <th>13609</th>\n      <td>42147</td>\n      <td>763.779</td>\n      <td>283.3826364</td>\n      <td>190.2757308</td>\n      <td>1.489326228</td>\n      <td>0.741054787</td>\n      <td>42667</td>\n      <td>231.6532475</td>\n      <td>0.705389121</td>\n      <td>0.987812595</td>\n      <td>0.907906457</td>\n      <td>0.817457451</td>\n      <td>0.006723673</td>\n      <td>0.001852025</td>\n      <td>0.668236684</td>\n      <td>0.99522242</td>\n      <td>DERMASON</td>\n    </tr>\n    <tr>\n      <th>13610</th>\n      <td>42159</td>\n      <td>772.237</td>\n      <td>295.142741</td>\n      <td>182.2047159</td>\n      <td>1.619841394</td>\n      <td>0.786693016</td>\n      <td>42600</td>\n      <td>231.6862231</td>\n      <td>0.788962497</td>\n      <td>0.989647887</td>\n      <td>0.888380369</td>\n      <td>0.784997193</td>\n      <td>0.007000705</td>\n      <td>0.001639812</td>\n      <td>0.616220592</td>\n      <td>0.998179623</td>\n      <td>DERMASON</td>\n    </tr>\n  </tbody>\n</table>\n</div>"
     },
     "execution_count": 4,
     "metadata": {},
     "output_type": "execute_result"
    }
   ],
   "source": [
    "df.tail(6)"
   ],
   "metadata": {
    "collapsed": false,
    "ExecuteTime": {
     "end_time": "2023-12-28T14:20:30.826646300Z",
     "start_time": "2023-12-28T14:20:30.801996500Z"
    }
   },
   "id": "5e4bf6ccdca476"
  },
  {
   "cell_type": "code",
   "outputs": [
    {
     "data": {
      "text/plain": "Class\nDERMASON    3546\nSIRA        2636\nSEKER       2027\nHOROZ       1928\nCALI        1630\nBARBUNYA    1322\nBOMBAY       522\nName: count, dtype: int64"
     },
     "execution_count": 5,
     "metadata": {},
     "output_type": "execute_result"
    }
   ],
   "source": [
    "df['Class'].value_counts()"
   ],
   "metadata": {
    "collapsed": false,
    "ExecuteTime": {
     "end_time": "2023-12-28T14:20:30.828643Z",
     "start_time": "2023-12-28T14:20:30.815768100Z"
    }
   },
   "id": "1aeec680fd92281",
   "execution_count": 5
  },
  {
   "cell_type": "code",
   "execution_count": 6,
   "outputs": [
    {
     "data": {
      "text/plain": "Area               0\nPerimeter          0\nMajorAxisLength    0\nMinorAxisLength    0\nAspectRation       0\nEccentricity       0\nConvexArea         0\nEquivDiameter      0\nExtent             0\nSolidity           0\nroundness          0\nCompactness        0\nShapeFactor1       0\nShapeFactor2       0\nShapeFactor3       0\nShapeFactor4       0\nClass              0\ndtype: int64"
     },
     "execution_count": 6,
     "metadata": {},
     "output_type": "execute_result"
    }
   ],
   "source": [
    "df.isnull().sum()"
   ],
   "metadata": {
    "collapsed": false,
    "ExecuteTime": {
     "end_time": "2023-12-28T14:20:30.944641100Z",
     "start_time": "2023-12-28T14:20:30.823646600Z"
    }
   },
   "id": "994e61c04c3428aa"
  },
  {
   "cell_type": "code",
   "execution_count": 7,
   "outputs": [
    {
     "data": {
      "text/plain": "Area                int64\nPerimeter          object\nMajorAxisLength    object\nMinorAxisLength    object\nAspectRation       object\nEccentricity       object\nConvexArea          int64\nEquivDiameter      object\nExtent             object\nSolidity           object\nroundness          object\nCompactness        object\nShapeFactor1       object\nShapeFactor2       object\nShapeFactor3       object\nShapeFactor4       object\nClass              object\ndtype: object"
     },
     "execution_count": 7,
     "metadata": {},
     "output_type": "execute_result"
    }
   ],
   "source": [
    "df.dtypes"
   ],
   "metadata": {
    "collapsed": false,
    "ExecuteTime": {
     "end_time": "2023-12-28T14:20:30.945642200Z",
     "start_time": "2023-12-28T14:20:30.838476100Z"
    }
   },
   "id": "223cc236770de993"
  },
  {
   "cell_type": "code",
   "execution_count": 8,
   "outputs": [
    {
     "data": {
      "text/plain": "(13611, 17)"
     },
     "execution_count": 8,
     "metadata": {},
     "output_type": "execute_result"
    }
   ],
   "source": [
    "df.shape"
   ],
   "metadata": {
    "collapsed": false,
    "ExecuteTime": {
     "end_time": "2023-12-28T14:20:30.972228Z",
     "start_time": "2023-12-28T14:20:30.844770400Z"
    }
   },
   "id": "ac8bedfc5bea06ec"
  },
  {
   "cell_type": "markdown",
   "source": [
    "## Preprocess Data"
   ],
   "metadata": {
    "collapsed": false
   },
   "id": "732d8828a63de08a"
  },
  {
   "cell_type": "code",
   "execution_count": 9,
   "outputs": [],
   "source": [
    "le = LabelEncoder()\n",
    "df['Class'] = le.fit_transform(df['Class'])"
   ],
   "metadata": {
    "collapsed": false,
    "ExecuteTime": {
     "end_time": "2023-12-28T14:20:31.000231400Z",
     "start_time": "2023-12-28T14:20:30.850630Z"
    }
   },
   "id": "a1ceaf07336763c0"
  },
  {
   "cell_type": "code",
   "execution_count": 10,
   "outputs": [],
   "source": [
    "X = df.drop('Class', axis=1)\n",
    "y = df['Class']"
   ],
   "metadata": {
    "collapsed": false,
    "ExecuteTime": {
     "end_time": "2023-12-28T14:20:31.006228200Z",
     "start_time": "2023-12-28T14:20:30.860277200Z"
    }
   },
   "id": "ee0f18dc879e1757"
  },
  {
   "cell_type": "code",
   "execution_count": 11,
   "outputs": [],
   "source": [
    "X[['Perimeter', 'MajorAxisLength', 'MinorAxisLength', 'AspectRation', 'Eccentricity', 'EquivDiameter', 'Extent', 'Solidity', 'roundness', 'Compactness', 'ShapeFactor1', 'ShapeFactor2', 'ShapeFactor3', 'ShapeFactor4']] = X[ ['Perimeter', 'MajorAxisLength', 'MinorAxisLength', 'AspectRation', 'Eccentricity', 'EquivDiameter', 'Extent', 'Solidity', 'roundness', 'Compactness', 'ShapeFactor1', 'ShapeFactor2', 'ShapeFactor3', 'ShapeFactor4']].astype(float)"
   ],
   "metadata": {
    "collapsed": false,
    "ExecuteTime": {
     "end_time": "2023-12-28T14:20:31.114226100Z",
     "start_time": "2023-12-28T14:20:30.870203500Z"
    }
   },
   "id": "ff96f14b92163b60"
  },
  {
   "cell_type": "code",
   "execution_count": 12,
   "outputs": [
    {
     "data": {
      "text/plain": "Area                 int64\nPerimeter          float64\nMajorAxisLength    float64\nMinorAxisLength    float64\nAspectRation       float64\nEccentricity       float64\nConvexArea           int64\nEquivDiameter      float64\nExtent             float64\nSolidity           float64\nroundness          float64\nCompactness        float64\nShapeFactor1       float64\nShapeFactor2       float64\nShapeFactor3       float64\nShapeFactor4       float64\ndtype: object"
     },
     "execution_count": 12,
     "metadata": {},
     "output_type": "execute_result"
    }
   ],
   "source": [
    "X.dtypes"
   ],
   "metadata": {
    "collapsed": false,
    "ExecuteTime": {
     "end_time": "2023-12-28T14:20:31.115225300Z",
     "start_time": "2023-12-28T14:20:30.935568900Z"
    }
   },
   "id": "9f3b2f39a7e995d5"
  },
  {
   "cell_type": "code",
   "execution_count": 13,
   "outputs": [],
   "source": [
    "X_train, X_test, y_train, y_test = train_test_split(X, y, random_state=42, test_size=0.22)"
   ],
   "metadata": {
    "collapsed": false,
    "ExecuteTime": {
     "end_time": "2023-12-28T14:20:31.118226500Z",
     "start_time": "2023-12-28T14:20:30.942643900Z"
    }
   },
   "id": "f81c8e28fcf5aab4"
  },
  {
   "cell_type": "code",
   "execution_count": 14,
   "outputs": [
    {
     "data": {
      "text/plain": "XGBClassifier(base_score=None, booster=None, callbacks=None,\n              colsample_bylevel=None, colsample_bynode=None,\n              colsample_bytree=None, device=None, early_stopping_rounds=None,\n              enable_categorical=False, eval_metric=None, feature_types=None,\n              gamma=None, grow_policy=None, importance_type=None,\n              interaction_constraints=None, learning_rate=None, max_bin=None,\n              max_cat_threshold=None, max_cat_to_onehot=None,\n              max_delta_step=None, max_depth=None, max_leaves=None,\n              min_child_weight=None, missing=nan, monotone_constraints=None,\n              multi_strategy=None, n_estimators=None, n_jobs=None,\n              num_parallel_tree=None, objective='multi:softprob', ...)",
      "text/html": "<style>#sk-container-id-1 {color: black;}#sk-container-id-1 pre{padding: 0;}#sk-container-id-1 div.sk-toggleable {background-color: white;}#sk-container-id-1 label.sk-toggleable__label {cursor: pointer;display: block;width: 100%;margin-bottom: 0;padding: 0.3em;box-sizing: border-box;text-align: center;}#sk-container-id-1 label.sk-toggleable__label-arrow:before {content: \"▸\";float: left;margin-right: 0.25em;color: #696969;}#sk-container-id-1 label.sk-toggleable__label-arrow:hover:before {color: black;}#sk-container-id-1 div.sk-estimator:hover label.sk-toggleable__label-arrow:before {color: black;}#sk-container-id-1 div.sk-toggleable__content {max-height: 0;max-width: 0;overflow: hidden;text-align: left;background-color: #f0f8ff;}#sk-container-id-1 div.sk-toggleable__content pre {margin: 0.2em;color: black;border-radius: 0.25em;background-color: #f0f8ff;}#sk-container-id-1 input.sk-toggleable__control:checked~div.sk-toggleable__content {max-height: 200px;max-width: 100%;overflow: auto;}#sk-container-id-1 input.sk-toggleable__control:checked~label.sk-toggleable__label-arrow:before {content: \"▾\";}#sk-container-id-1 div.sk-estimator input.sk-toggleable__control:checked~label.sk-toggleable__label {background-color: #d4ebff;}#sk-container-id-1 div.sk-label input.sk-toggleable__control:checked~label.sk-toggleable__label {background-color: #d4ebff;}#sk-container-id-1 input.sk-hidden--visually {border: 0;clip: rect(1px 1px 1px 1px);clip: rect(1px, 1px, 1px, 1px);height: 1px;margin: -1px;overflow: hidden;padding: 0;position: absolute;width: 1px;}#sk-container-id-1 div.sk-estimator {font-family: monospace;background-color: #f0f8ff;border: 1px dotted black;border-radius: 0.25em;box-sizing: border-box;margin-bottom: 0.5em;}#sk-container-id-1 div.sk-estimator:hover {background-color: #d4ebff;}#sk-container-id-1 div.sk-parallel-item::after {content: \"\";width: 100%;border-bottom: 1px solid gray;flex-grow: 1;}#sk-container-id-1 div.sk-label:hover label.sk-toggleable__label {background-color: #d4ebff;}#sk-container-id-1 div.sk-serial::before {content: \"\";position: absolute;border-left: 1px solid gray;box-sizing: border-box;top: 0;bottom: 0;left: 50%;z-index: 0;}#sk-container-id-1 div.sk-serial {display: flex;flex-direction: column;align-items: center;background-color: white;padding-right: 0.2em;padding-left: 0.2em;position: relative;}#sk-container-id-1 div.sk-item {position: relative;z-index: 1;}#sk-container-id-1 div.sk-parallel {display: flex;align-items: stretch;justify-content: center;background-color: white;position: relative;}#sk-container-id-1 div.sk-item::before, #sk-container-id-1 div.sk-parallel-item::before {content: \"\";position: absolute;border-left: 1px solid gray;box-sizing: border-box;top: 0;bottom: 0;left: 50%;z-index: -1;}#sk-container-id-1 div.sk-parallel-item {display: flex;flex-direction: column;z-index: 1;position: relative;background-color: white;}#sk-container-id-1 div.sk-parallel-item:first-child::after {align-self: flex-end;width: 50%;}#sk-container-id-1 div.sk-parallel-item:last-child::after {align-self: flex-start;width: 50%;}#sk-container-id-1 div.sk-parallel-item:only-child::after {width: 0;}#sk-container-id-1 div.sk-dashed-wrapped {border: 1px dashed gray;margin: 0 0.4em 0.5em 0.4em;box-sizing: border-box;padding-bottom: 0.4em;background-color: white;}#sk-container-id-1 div.sk-label label {font-family: monospace;font-weight: bold;display: inline-block;line-height: 1.2em;}#sk-container-id-1 div.sk-label-container {text-align: center;}#sk-container-id-1 div.sk-container {/* jupyter's `normalize.less` sets `[hidden] { display: none; }` but bootstrap.min.css set `[hidden] { display: none !important; }` so we also need the `!important` here to be able to override the default hidden behavior on the sphinx rendered scikit-learn.org. See: https://github.com/scikit-learn/scikit-learn/issues/21755 */display: inline-block !important;position: relative;}#sk-container-id-1 div.sk-text-repr-fallback {display: none;}</style><div id=\"sk-container-id-1\" class=\"sk-top-container\"><div class=\"sk-text-repr-fallback\"><pre>XGBClassifier(base_score=None, booster=None, callbacks=None,\n              colsample_bylevel=None, colsample_bynode=None,\n              colsample_bytree=None, device=None, early_stopping_rounds=None,\n              enable_categorical=False, eval_metric=None, feature_types=None,\n              gamma=None, grow_policy=None, importance_type=None,\n              interaction_constraints=None, learning_rate=None, max_bin=None,\n              max_cat_threshold=None, max_cat_to_onehot=None,\n              max_delta_step=None, max_depth=None, max_leaves=None,\n              min_child_weight=None, missing=nan, monotone_constraints=None,\n              multi_strategy=None, n_estimators=None, n_jobs=None,\n              num_parallel_tree=None, objective=&#x27;multi:softprob&#x27;, ...)</pre><b>In a Jupyter environment, please rerun this cell to show the HTML representation or trust the notebook. <br />On GitHub, the HTML representation is unable to render, please try loading this page with nbviewer.org.</b></div><div class=\"sk-container\" hidden><div class=\"sk-item\"><div class=\"sk-estimator sk-toggleable\"><input class=\"sk-toggleable__control sk-hidden--visually\" id=\"sk-estimator-id-1\" type=\"checkbox\" checked><label for=\"sk-estimator-id-1\" class=\"sk-toggleable__label sk-toggleable__label-arrow\">XGBClassifier</label><div class=\"sk-toggleable__content\"><pre>XGBClassifier(base_score=None, booster=None, callbacks=None,\n              colsample_bylevel=None, colsample_bynode=None,\n              colsample_bytree=None, device=None, early_stopping_rounds=None,\n              enable_categorical=False, eval_metric=None, feature_types=None,\n              gamma=None, grow_policy=None, importance_type=None,\n              interaction_constraints=None, learning_rate=None, max_bin=None,\n              max_cat_threshold=None, max_cat_to_onehot=None,\n              max_delta_step=None, max_depth=None, max_leaves=None,\n              min_child_weight=None, missing=nan, monotone_constraints=None,\n              multi_strategy=None, n_estimators=None, n_jobs=None,\n              num_parallel_tree=None, objective=&#x27;multi:softprob&#x27;, ...)</pre></div></div></div></div></div>"
     },
     "execution_count": 14,
     "metadata": {},
     "output_type": "execute_result"
    }
   ],
   "source": [
    "model = XGBClassifier()\n",
    "model.fit(X_train, y_train)"
   ],
   "metadata": {
    "collapsed": false,
    "ExecuteTime": {
     "end_time": "2023-12-28T14:20:33.036074700Z",
     "start_time": "2023-12-28T14:20:30.952226900Z"
    }
   },
   "id": "8437b59e098ae69"
  },
  {
   "cell_type": "code",
   "execution_count": 15,
   "outputs": [],
   "source": [
    "y_pred = model.predict(X_test)"
   ],
   "metadata": {
    "collapsed": false,
    "ExecuteTime": {
     "end_time": "2023-12-28T14:20:33.054373900Z",
     "start_time": "2023-12-28T14:20:33.036074700Z"
    }
   },
   "id": "6d6f67920a45f420"
  },
  {
   "cell_type": "code",
   "execution_count": 16,
   "outputs": [
    {
     "name": "stdout",
     "output_type": "stream",
     "text": [
      "Accuracy: 0.93\n"
     ]
    }
   ],
   "source": [
    "accuracy = accuracy_score(y_test, y_pred)\n",
    "print(f\"Accuracy: {accuracy:.2f}\")"
   ],
   "metadata": {
    "collapsed": false,
    "ExecuteTime": {
     "end_time": "2023-12-28T14:20:33.065362500Z",
     "start_time": "2023-12-28T14:20:33.054373900Z"
    }
   },
   "id": "52dd421827490469"
  },
  {
   "cell_type": "code",
   "execution_count": 17,
   "outputs": [
    {
     "name": "stdout",
     "output_type": "stream",
     "text": [
      "              precision    recall  f1-score   support\n",
      "\n",
      "           0       0.93      0.92      0.93       295\n",
      "           1       1.00      1.00      1.00       123\n",
      "           2       0.94      0.94      0.94       348\n",
      "           3       0.91      0.92      0.91       757\n",
      "           4       0.97      0.96      0.97       434\n",
      "           5       0.95      0.95      0.95       445\n",
      "           6       0.87      0.88      0.88       593\n",
      "\n",
      "    accuracy                           0.93      2995\n",
      "   macro avg       0.94      0.94      0.94      2995\n",
      "weighted avg       0.93      0.93      0.93      2995\n"
     ]
    }
   ],
   "source": [
    "print(classification_report(y_test, y_pred))"
   ],
   "metadata": {
    "collapsed": false,
    "ExecuteTime": {
     "end_time": "2023-12-28T14:20:33.087416500Z",
     "start_time": "2023-12-28T14:20:33.062365200Z"
    }
   },
   "id": "34acd3edac582e4f"
  },
  {
   "cell_type": "code",
   "execution_count": 18,
   "outputs": [],
   "source": [
    "from sklearn.metrics import confusion_matrix"
   ],
   "metadata": {
    "collapsed": false,
    "ExecuteTime": {
     "end_time": "2023-12-28T14:20:33.088426100Z",
     "start_time": "2023-12-28T14:20:33.078810400Z"
    }
   },
   "id": "aba10e152c59037f"
  },
  {
   "cell_type": "code",
   "execution_count": 19,
   "outputs": [
    {
     "name": "stdout",
     "output_type": "stream",
     "text": [
      "Confusion matrix:\n",
      " [[271   0  14   0   0   3   7]\n",
      " [  0 123   0   0   0   0   0]\n",
      " [  9   0 328   0   7   2   2]\n",
      " [  0   0   0 697   1   8  51]\n",
      " [  2   0   4   3 418   0   7]\n",
      " [  7   0   0   9   0 421   8]\n",
      " [  1   0   3  58   4   7 520]]\n"
     ]
    }
   ],
   "source": [
    "cm = confusion_matrix(y_test, y_pred)\n",
    "print(\"Confusion matrix:\\n\", cm)"
   ],
   "metadata": {
    "collapsed": false,
    "ExecuteTime": {
     "end_time": "2023-12-28T14:20:33.118425300Z",
     "start_time": "2023-12-28T14:20:33.082898100Z"
    }
   },
   "id": "940b4149dde3ebd9"
  },
  {
   "cell_type": "markdown",
   "source": [],
   "metadata": {
    "collapsed": false
   },
   "id": "d93306dc6a5b1bef"
  },
  {
   "cell_type": "code",
   "execution_count": 20,
   "outputs": [
    {
     "name": "stdout",
     "output_type": "stream",
     "text": [
      "Best Hyperparameters: {'learning_rate': 0.1, 'max_depth': 4, 'n_estimators': 200}\n"
     ]
    }
   ],
   "source": [
    "from sklearn.model_selection import GridSearchCV\n",
    "\n",
    "param_grid = {\n",
    "    'learning_rate': [0.001, 0.01, 0.1, 1, 10, 100],\n",
    "    'max_depth': [2, 3, 4, 5, 6, 7, 8, 9, 10],\n",
    "    'n_estimators': [50, 100, 200, 300]\n",
    "}\n",
    "\n",
    "grid_search = GridSearchCV(XGBClassifier(), param_grid=param_grid, cv=5)\n",
    "grid_search.fit(X_train, y_train)\n",
    "\n",
    "best_params = grid_search.best_params_\n",
    "print(\"Best Hyperparameters:\", best_params)"
   ],
   "metadata": {
    "collapsed": false,
    "ExecuteTime": {
     "end_time": "2023-12-28T14:45:07.096791300Z",
     "start_time": "2023-12-28T14:20:33.091426900Z"
    }
   },
   "id": "669e3381cbb06c61"
  },
  {
   "cell_type": "code",
   "execution_count": 21,
   "outputs": [],
   "source": [
    "best_model = grid_search.best_estimator_\n",
    "y_pred_tuned = best_model.predict(X_test)"
   ],
   "metadata": {
    "collapsed": false,
    "ExecuteTime": {
     "end_time": "2023-12-28T14:45:07.120163400Z",
     "start_time": "2023-12-28T14:45:07.098791900Z"
    }
   },
   "id": "a011d0f41d7550f6"
  },
  {
   "cell_type": "markdown",
   "source": [],
   "metadata": {
    "collapsed": false
   },
   "id": "cd49dc9855963cab"
  },
  {
   "cell_type": "markdown",
   "source": [
    "## Results and Analysis\n",
    "\n",
    "Following the code execution above, the project outcomes will encompass model performance metrics, aided by visualizations and insights derived from the application of XGBoost on the DryBean Dataset."
   ],
   "metadata": {
    "collapsed": false
   },
   "id": "89eafcb5871913af"
  },
  {
   "cell_type": "markdown",
   "source": [
    "## Conclusion\n",
    "\n",
    "with the available results and our team’s analysis, we concluded that dry bean classification is an astounding success with all types of models having high percentages of precision and F1-score. Our greatest result could be seen in schema four using XGBoost with a precision score of 93%, followed closely by random forest schemas with 92%."
   ],
   "metadata": {
    "collapsed": false
   },
   "id": "94defb315cb1d5c7"
  }
 ],
 "metadata": {
  "kernelspec": {
   "display_name": "Python 3",
   "language": "python",
   "name": "python3"
  },
  "language_info": {
   "codemirror_mode": {
    "name": "ipython",
    "version": 2
   },
   "file_extension": ".py",
   "mimetype": "text/x-python",
   "name": "python",
   "nbconvert_exporter": "python",
   "pygments_lexer": "ipython2",
   "version": "2.7.6"
  }
 },
 "nbformat": 4,
 "nbformat_minor": 5
}
