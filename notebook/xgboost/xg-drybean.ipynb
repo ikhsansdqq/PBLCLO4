{
 "cells": [
  {
   "cell_type": "code",
   "execution_count": 1,
   "id": "initial_id",
   "metadata": {
    "collapsed": true,
    "ExecuteTime": {
     "end_time": "2023-12-28T12:21:14.827079200Z",
     "start_time": "2023-12-28T12:21:13.655055Z"
    }
   },
   "outputs": [],
   "source": [
    "import pandas as pd\n",
    "import seaborn as sns\n",
    "import matplotlib.pyplot as plt\n",
    "import numpy as np\n",
    "\n",
    "from xgboost import XGBClassifier, XGBRegressor\n",
    "\n",
    "from sklearn.model_selection import train_test_split\n",
    "from sklearn.metrics import accuracy_score, classification_report, mean_absolute_error, mean_squared_error, r2_score\n",
    "from sklearn.preprocessing import LabelEncoder\n"
   ]
  },
  {
   "cell_type": "code",
   "execution_count": 2,
   "outputs": [
    {
     "data": {
      "text/plain": "        Area Perimeter MajorAxisLength MinorAxisLength AspectRation  \\\n0      28395   610.291     208.1781167      173.888747  1.197191424   \n1      28734   638.018     200.5247957     182.7344194  1.097356461   \n2      29380    624.11     212.8261299     175.9311426  1.209712656   \n3      30008   645.884      210.557999     182.5165157  1.153638059   \n4      30140   620.134     201.8478822     190.2792788   1.06079802   \n...      ...       ...             ...             ...          ...   \n13606  42097   759.696      288.721612     185.9447054   1.55272833   \n13607  42101   757.499     281.5763923     190.7131365  1.476439419   \n13608  42139   759.321     281.5399279     191.1879789  1.472581747   \n13609  42147   763.779     283.3826364     190.2757308  1.489326228   \n13610  42159   772.237      295.142741     182.2047159  1.619841394   \n\n      Eccentricity  ConvexArea EquivDiameter       Extent     Solidity  \\\n0      0.549812187       28715   190.1410973  0.763922518  0.988855999   \n1      0.411785251       29172   191.2727505  0.783968133  0.984985603   \n2      0.562727317       29690   193.4109041  0.778113248  0.989558774   \n3      0.498615976       30724   195.4670618  0.782681273  0.976695743   \n4      0.333679658       30417    195.896503  0.773098035   0.99089325   \n...            ...         ...           ...          ...          ...   \n13606  0.765002201       42508   231.5157988   0.71457428  0.990331232   \n13607  0.735702218       42494   231.5267977  0.799942998  0.990751636   \n13608  0.734064781       42569   231.6312612  0.729932444  0.989898753   \n13609  0.741054787       42667   231.6532475  0.705389121  0.987812595   \n13610  0.786693016       42600   231.6862231  0.788962497  0.989647887   \n\n         roundness  Compactness ShapeFactor1 ShapeFactor2 ShapeFactor3  \\\n0      0.958027126  0.913357755  0.007331506  0.003147289  0.834222388   \n1      0.887033637  0.953860842  0.006978659  0.003563624  0.909850506   \n2      0.947849473  0.908774239  0.007243912  0.003047733  0.825870617   \n3      0.903936374  0.928328835  0.007016729  0.003214562  0.861794425   \n4      0.984877069  0.970515523   0.00669701  0.003664972  0.941900381   \n...            ...          ...          ...          ...          ...   \n13606  0.916603122   0.80186515  0.006858484  0.001749094  0.642987719   \n13607  0.922015342  0.822252163  0.006688116  0.001885835   0.67609862   \n13608  0.918424091  0.822729703   0.00668122  0.001888271  0.676884164   \n13609  0.907906457  0.817457451  0.006723673  0.001852025  0.668236684   \n13610  0.888380369  0.784997193  0.007000705  0.001639812  0.616220592   \n\n      ShapeFactor4     Class  \n0      0.998723889     SEKER  \n1      0.998430331     SEKER  \n2      0.999066137     SEKER  \n3      0.994198849     SEKER  \n4      0.999166059     SEKER  \n...            ...       ...  \n13606  0.998385248  DERMASON  \n13607  0.998218654  DERMASON  \n13608  0.996767264  DERMASON  \n13609   0.99522242  DERMASON  \n13610  0.998179623  DERMASON  \n\n[13611 rows x 17 columns]",
      "text/html": "<div>\n<style scoped>\n    .dataframe tbody tr th:only-of-type {\n        vertical-align: middle;\n    }\n\n    .dataframe tbody tr th {\n        vertical-align: top;\n    }\n\n    .dataframe thead th {\n        text-align: right;\n    }\n</style>\n<table border=\"1\" class=\"dataframe\">\n  <thead>\n    <tr style=\"text-align: right;\">\n      <th></th>\n      <th>Area</th>\n      <th>Perimeter</th>\n      <th>MajorAxisLength</th>\n      <th>MinorAxisLength</th>\n      <th>AspectRation</th>\n      <th>Eccentricity</th>\n      <th>ConvexArea</th>\n      <th>EquivDiameter</th>\n      <th>Extent</th>\n      <th>Solidity</th>\n      <th>roundness</th>\n      <th>Compactness</th>\n      <th>ShapeFactor1</th>\n      <th>ShapeFactor2</th>\n      <th>ShapeFactor3</th>\n      <th>ShapeFactor4</th>\n      <th>Class</th>\n    </tr>\n  </thead>\n  <tbody>\n    <tr>\n      <th>0</th>\n      <td>28395</td>\n      <td>610.291</td>\n      <td>208.1781167</td>\n      <td>173.888747</td>\n      <td>1.197191424</td>\n      <td>0.549812187</td>\n      <td>28715</td>\n      <td>190.1410973</td>\n      <td>0.763922518</td>\n      <td>0.988855999</td>\n      <td>0.958027126</td>\n      <td>0.913357755</td>\n      <td>0.007331506</td>\n      <td>0.003147289</td>\n      <td>0.834222388</td>\n      <td>0.998723889</td>\n      <td>SEKER</td>\n    </tr>\n    <tr>\n      <th>1</th>\n      <td>28734</td>\n      <td>638.018</td>\n      <td>200.5247957</td>\n      <td>182.7344194</td>\n      <td>1.097356461</td>\n      <td>0.411785251</td>\n      <td>29172</td>\n      <td>191.2727505</td>\n      <td>0.783968133</td>\n      <td>0.984985603</td>\n      <td>0.887033637</td>\n      <td>0.953860842</td>\n      <td>0.006978659</td>\n      <td>0.003563624</td>\n      <td>0.909850506</td>\n      <td>0.998430331</td>\n      <td>SEKER</td>\n    </tr>\n    <tr>\n      <th>2</th>\n      <td>29380</td>\n      <td>624.11</td>\n      <td>212.8261299</td>\n      <td>175.9311426</td>\n      <td>1.209712656</td>\n      <td>0.562727317</td>\n      <td>29690</td>\n      <td>193.4109041</td>\n      <td>0.778113248</td>\n      <td>0.989558774</td>\n      <td>0.947849473</td>\n      <td>0.908774239</td>\n      <td>0.007243912</td>\n      <td>0.003047733</td>\n      <td>0.825870617</td>\n      <td>0.999066137</td>\n      <td>SEKER</td>\n    </tr>\n    <tr>\n      <th>3</th>\n      <td>30008</td>\n      <td>645.884</td>\n      <td>210.557999</td>\n      <td>182.5165157</td>\n      <td>1.153638059</td>\n      <td>0.498615976</td>\n      <td>30724</td>\n      <td>195.4670618</td>\n      <td>0.782681273</td>\n      <td>0.976695743</td>\n      <td>0.903936374</td>\n      <td>0.928328835</td>\n      <td>0.007016729</td>\n      <td>0.003214562</td>\n      <td>0.861794425</td>\n      <td>0.994198849</td>\n      <td>SEKER</td>\n    </tr>\n    <tr>\n      <th>4</th>\n      <td>30140</td>\n      <td>620.134</td>\n      <td>201.8478822</td>\n      <td>190.2792788</td>\n      <td>1.06079802</td>\n      <td>0.333679658</td>\n      <td>30417</td>\n      <td>195.896503</td>\n      <td>0.773098035</td>\n      <td>0.99089325</td>\n      <td>0.984877069</td>\n      <td>0.970515523</td>\n      <td>0.00669701</td>\n      <td>0.003664972</td>\n      <td>0.941900381</td>\n      <td>0.999166059</td>\n      <td>SEKER</td>\n    </tr>\n    <tr>\n      <th>...</th>\n      <td>...</td>\n      <td>...</td>\n      <td>...</td>\n      <td>...</td>\n      <td>...</td>\n      <td>...</td>\n      <td>...</td>\n      <td>...</td>\n      <td>...</td>\n      <td>...</td>\n      <td>...</td>\n      <td>...</td>\n      <td>...</td>\n      <td>...</td>\n      <td>...</td>\n      <td>...</td>\n      <td>...</td>\n    </tr>\n    <tr>\n      <th>13606</th>\n      <td>42097</td>\n      <td>759.696</td>\n      <td>288.721612</td>\n      <td>185.9447054</td>\n      <td>1.55272833</td>\n      <td>0.765002201</td>\n      <td>42508</td>\n      <td>231.5157988</td>\n      <td>0.71457428</td>\n      <td>0.990331232</td>\n      <td>0.916603122</td>\n      <td>0.80186515</td>\n      <td>0.006858484</td>\n      <td>0.001749094</td>\n      <td>0.642987719</td>\n      <td>0.998385248</td>\n      <td>DERMASON</td>\n    </tr>\n    <tr>\n      <th>13607</th>\n      <td>42101</td>\n      <td>757.499</td>\n      <td>281.5763923</td>\n      <td>190.7131365</td>\n      <td>1.476439419</td>\n      <td>0.735702218</td>\n      <td>42494</td>\n      <td>231.5267977</td>\n      <td>0.799942998</td>\n      <td>0.990751636</td>\n      <td>0.922015342</td>\n      <td>0.822252163</td>\n      <td>0.006688116</td>\n      <td>0.001885835</td>\n      <td>0.67609862</td>\n      <td>0.998218654</td>\n      <td>DERMASON</td>\n    </tr>\n    <tr>\n      <th>13608</th>\n      <td>42139</td>\n      <td>759.321</td>\n      <td>281.5399279</td>\n      <td>191.1879789</td>\n      <td>1.472581747</td>\n      <td>0.734064781</td>\n      <td>42569</td>\n      <td>231.6312612</td>\n      <td>0.729932444</td>\n      <td>0.989898753</td>\n      <td>0.918424091</td>\n      <td>0.822729703</td>\n      <td>0.00668122</td>\n      <td>0.001888271</td>\n      <td>0.676884164</td>\n      <td>0.996767264</td>\n      <td>DERMASON</td>\n    </tr>\n    <tr>\n      <th>13609</th>\n      <td>42147</td>\n      <td>763.779</td>\n      <td>283.3826364</td>\n      <td>190.2757308</td>\n      <td>1.489326228</td>\n      <td>0.741054787</td>\n      <td>42667</td>\n      <td>231.6532475</td>\n      <td>0.705389121</td>\n      <td>0.987812595</td>\n      <td>0.907906457</td>\n      <td>0.817457451</td>\n      <td>0.006723673</td>\n      <td>0.001852025</td>\n      <td>0.668236684</td>\n      <td>0.99522242</td>\n      <td>DERMASON</td>\n    </tr>\n    <tr>\n      <th>13610</th>\n      <td>42159</td>\n      <td>772.237</td>\n      <td>295.142741</td>\n      <td>182.2047159</td>\n      <td>1.619841394</td>\n      <td>0.786693016</td>\n      <td>42600</td>\n      <td>231.6862231</td>\n      <td>0.788962497</td>\n      <td>0.989647887</td>\n      <td>0.888380369</td>\n      <td>0.784997193</td>\n      <td>0.007000705</td>\n      <td>0.001639812</td>\n      <td>0.616220592</td>\n      <td>0.998179623</td>\n      <td>DERMASON</td>\n    </tr>\n  </tbody>\n</table>\n<p>13611 rows × 17 columns</p>\n</div>"
     },
     "execution_count": 2,
     "metadata": {},
     "output_type": "execute_result"
    }
   ],
   "source": [
    "df = pd.read_csv('../../data/raw/DryBeanDataset/Dry_Bean_Dataset.csv', delimiter=';')\n",
    "df = df.replace(',', '.', regex=True)\n",
    "\n",
    "df"
   ],
   "metadata": {
    "collapsed": false,
    "ExecuteTime": {
     "end_time": "2023-12-28T12:21:15.562395800Z",
     "start_time": "2023-12-28T12:21:14.824079400Z"
    }
   },
   "id": "5b807dceb89406bf"
  },
  {
   "cell_type": "code",
   "execution_count": 3,
   "outputs": [
    {
     "data": {
      "text/plain": "    Area Perimeter MajorAxisLength MinorAxisLength AspectRation Eccentricity  \\\n0  28395   610.291     208.1781167      173.888747  1.197191424  0.549812187   \n1  28734   638.018     200.5247957     182.7344194  1.097356461  0.411785251   \n2  29380    624.11     212.8261299     175.9311426  1.209712656  0.562727317   \n3  30008   645.884      210.557999     182.5165157  1.153638059  0.498615976   \n4  30140   620.134     201.8478822     190.2792788   1.06079802  0.333679658   \n5  30279   634.927     212.5605564     181.5101816  1.171066849   0.52040066   \n\n   ConvexArea EquivDiameter       Extent     Solidity    roundness  \\\n0       28715   190.1410973  0.763922518  0.988855999  0.958027126   \n1       29172   191.2727505  0.783968133  0.984985603  0.887033637   \n2       29690   193.4109041  0.778113248  0.989558774  0.947849473   \n3       30724   195.4670618  0.782681273  0.976695743  0.903936374   \n4       30417    195.896503  0.773098035   0.99089325  0.984877069   \n5       30600   196.3477022  0.775688485  0.989509804  0.943851783   \n\n   Compactness ShapeFactor1 ShapeFactor2 ShapeFactor3 ShapeFactor4  Class  \n0  0.913357755  0.007331506  0.003147289  0.834222388  0.998723889  SEKER  \n1  0.953860842  0.006978659  0.003563624  0.909850506  0.998430331  SEKER  \n2  0.908774239  0.007243912  0.003047733  0.825870617  0.999066137  SEKER  \n3  0.928328835  0.007016729  0.003214562  0.861794425  0.994198849  SEKER  \n4  0.970515523   0.00669701  0.003664972  0.941900381  0.999166059  SEKER  \n5  0.923725952  0.007020065  0.003152779  0.853269634  0.999235781  SEKER  ",
      "text/html": "<div>\n<style scoped>\n    .dataframe tbody tr th:only-of-type {\n        vertical-align: middle;\n    }\n\n    .dataframe tbody tr th {\n        vertical-align: top;\n    }\n\n    .dataframe thead th {\n        text-align: right;\n    }\n</style>\n<table border=\"1\" class=\"dataframe\">\n  <thead>\n    <tr style=\"text-align: right;\">\n      <th></th>\n      <th>Area</th>\n      <th>Perimeter</th>\n      <th>MajorAxisLength</th>\n      <th>MinorAxisLength</th>\n      <th>AspectRation</th>\n      <th>Eccentricity</th>\n      <th>ConvexArea</th>\n      <th>EquivDiameter</th>\n      <th>Extent</th>\n      <th>Solidity</th>\n      <th>roundness</th>\n      <th>Compactness</th>\n      <th>ShapeFactor1</th>\n      <th>ShapeFactor2</th>\n      <th>ShapeFactor3</th>\n      <th>ShapeFactor4</th>\n      <th>Class</th>\n    </tr>\n  </thead>\n  <tbody>\n    <tr>\n      <th>0</th>\n      <td>28395</td>\n      <td>610.291</td>\n      <td>208.1781167</td>\n      <td>173.888747</td>\n      <td>1.197191424</td>\n      <td>0.549812187</td>\n      <td>28715</td>\n      <td>190.1410973</td>\n      <td>0.763922518</td>\n      <td>0.988855999</td>\n      <td>0.958027126</td>\n      <td>0.913357755</td>\n      <td>0.007331506</td>\n      <td>0.003147289</td>\n      <td>0.834222388</td>\n      <td>0.998723889</td>\n      <td>SEKER</td>\n    </tr>\n    <tr>\n      <th>1</th>\n      <td>28734</td>\n      <td>638.018</td>\n      <td>200.5247957</td>\n      <td>182.7344194</td>\n      <td>1.097356461</td>\n      <td>0.411785251</td>\n      <td>29172</td>\n      <td>191.2727505</td>\n      <td>0.783968133</td>\n      <td>0.984985603</td>\n      <td>0.887033637</td>\n      <td>0.953860842</td>\n      <td>0.006978659</td>\n      <td>0.003563624</td>\n      <td>0.909850506</td>\n      <td>0.998430331</td>\n      <td>SEKER</td>\n    </tr>\n    <tr>\n      <th>2</th>\n      <td>29380</td>\n      <td>624.11</td>\n      <td>212.8261299</td>\n      <td>175.9311426</td>\n      <td>1.209712656</td>\n      <td>0.562727317</td>\n      <td>29690</td>\n      <td>193.4109041</td>\n      <td>0.778113248</td>\n      <td>0.989558774</td>\n      <td>0.947849473</td>\n      <td>0.908774239</td>\n      <td>0.007243912</td>\n      <td>0.003047733</td>\n      <td>0.825870617</td>\n      <td>0.999066137</td>\n      <td>SEKER</td>\n    </tr>\n    <tr>\n      <th>3</th>\n      <td>30008</td>\n      <td>645.884</td>\n      <td>210.557999</td>\n      <td>182.5165157</td>\n      <td>1.153638059</td>\n      <td>0.498615976</td>\n      <td>30724</td>\n      <td>195.4670618</td>\n      <td>0.782681273</td>\n      <td>0.976695743</td>\n      <td>0.903936374</td>\n      <td>0.928328835</td>\n      <td>0.007016729</td>\n      <td>0.003214562</td>\n      <td>0.861794425</td>\n      <td>0.994198849</td>\n      <td>SEKER</td>\n    </tr>\n    <tr>\n      <th>4</th>\n      <td>30140</td>\n      <td>620.134</td>\n      <td>201.8478822</td>\n      <td>190.2792788</td>\n      <td>1.06079802</td>\n      <td>0.333679658</td>\n      <td>30417</td>\n      <td>195.896503</td>\n      <td>0.773098035</td>\n      <td>0.99089325</td>\n      <td>0.984877069</td>\n      <td>0.970515523</td>\n      <td>0.00669701</td>\n      <td>0.003664972</td>\n      <td>0.941900381</td>\n      <td>0.999166059</td>\n      <td>SEKER</td>\n    </tr>\n    <tr>\n      <th>5</th>\n      <td>30279</td>\n      <td>634.927</td>\n      <td>212.5605564</td>\n      <td>181.5101816</td>\n      <td>1.171066849</td>\n      <td>0.52040066</td>\n      <td>30600</td>\n      <td>196.3477022</td>\n      <td>0.775688485</td>\n      <td>0.989509804</td>\n      <td>0.943851783</td>\n      <td>0.923725952</td>\n      <td>0.007020065</td>\n      <td>0.003152779</td>\n      <td>0.853269634</td>\n      <td>0.999235781</td>\n      <td>SEKER</td>\n    </tr>\n  </tbody>\n</table>\n</div>"
     },
     "execution_count": 3,
     "metadata": {},
     "output_type": "execute_result"
    }
   ],
   "source": [
    "df.head(6)"
   ],
   "metadata": {
    "collapsed": false,
    "ExecuteTime": {
     "end_time": "2023-12-28T12:21:15.626549600Z",
     "start_time": "2023-12-28T12:21:15.555386800Z"
    }
   },
   "id": "54decd8beef8ade3"
  },
  {
   "cell_type": "code",
   "execution_count": 4,
   "outputs": [
    {
     "data": {
      "text/plain": "        Area Perimeter MajorAxisLength MinorAxisLength AspectRation  \\\n13605  42070   760.701     276.6916506     193.9453665  1.426647389   \n13606  42097   759.696      288.721612     185.9447054   1.55272833   \n13607  42101   757.499     281.5763923     190.7131365  1.476439419   \n13608  42139   759.321     281.5399279     191.1879789  1.472581747   \n13609  42147   763.779     283.3826364     190.2757308  1.489326228   \n13610  42159   772.237      295.142741     182.2047159  1.619841394   \n\n      Eccentricity  ConvexArea EquivDiameter       Extent     Solidity  \\\n13605  0.713216263       42458   231.4415426  0.730813327  0.990861557   \n13606  0.765002201       42508   231.5157988   0.71457428  0.990331232   \n13607  0.735702218       42494   231.5267977  0.799942998  0.990751636   \n13608  0.734064781       42569   231.6312612  0.729932444  0.989898753   \n13609  0.741054787       42667   231.6532475  0.705389121  0.987812595   \n13610  0.786693016       42600   231.6862231  0.788962497  0.989647887   \n\n         roundness  Compactness ShapeFactor1 ShapeFactor2 ShapeFactor3  \\\n13605  0.913596447  0.836460161  0.006576935  0.001986023  0.699665601   \n13606  0.916603122   0.80186515  0.006858484  0.001749094  0.642987719   \n13607  0.922015342  0.822252163  0.006688116  0.001885835   0.67609862   \n13608  0.918424091  0.822729703   0.00668122  0.001888271  0.676884164   \n13609  0.907906457  0.817457451  0.006723673  0.001852025  0.668236684   \n13610  0.888380369  0.784997193  0.007000705  0.001639812  0.616220592   \n\n      ShapeFactor4     Class  \n13605  0.998176102  DERMASON  \n13606  0.998385248  DERMASON  \n13607  0.998218654  DERMASON  \n13608  0.996767264  DERMASON  \n13609   0.99522242  DERMASON  \n13610  0.998179623  DERMASON  ",
      "text/html": "<div>\n<style scoped>\n    .dataframe tbody tr th:only-of-type {\n        vertical-align: middle;\n    }\n\n    .dataframe tbody tr th {\n        vertical-align: top;\n    }\n\n    .dataframe thead th {\n        text-align: right;\n    }\n</style>\n<table border=\"1\" class=\"dataframe\">\n  <thead>\n    <tr style=\"text-align: right;\">\n      <th></th>\n      <th>Area</th>\n      <th>Perimeter</th>\n      <th>MajorAxisLength</th>\n      <th>MinorAxisLength</th>\n      <th>AspectRation</th>\n      <th>Eccentricity</th>\n      <th>ConvexArea</th>\n      <th>EquivDiameter</th>\n      <th>Extent</th>\n      <th>Solidity</th>\n      <th>roundness</th>\n      <th>Compactness</th>\n      <th>ShapeFactor1</th>\n      <th>ShapeFactor2</th>\n      <th>ShapeFactor3</th>\n      <th>ShapeFactor4</th>\n      <th>Class</th>\n    </tr>\n  </thead>\n  <tbody>\n    <tr>\n      <th>13605</th>\n      <td>42070</td>\n      <td>760.701</td>\n      <td>276.6916506</td>\n      <td>193.9453665</td>\n      <td>1.426647389</td>\n      <td>0.713216263</td>\n      <td>42458</td>\n      <td>231.4415426</td>\n      <td>0.730813327</td>\n      <td>0.990861557</td>\n      <td>0.913596447</td>\n      <td>0.836460161</td>\n      <td>0.006576935</td>\n      <td>0.001986023</td>\n      <td>0.699665601</td>\n      <td>0.998176102</td>\n      <td>DERMASON</td>\n    </tr>\n    <tr>\n      <th>13606</th>\n      <td>42097</td>\n      <td>759.696</td>\n      <td>288.721612</td>\n      <td>185.9447054</td>\n      <td>1.55272833</td>\n      <td>0.765002201</td>\n      <td>42508</td>\n      <td>231.5157988</td>\n      <td>0.71457428</td>\n      <td>0.990331232</td>\n      <td>0.916603122</td>\n      <td>0.80186515</td>\n      <td>0.006858484</td>\n      <td>0.001749094</td>\n      <td>0.642987719</td>\n      <td>0.998385248</td>\n      <td>DERMASON</td>\n    </tr>\n    <tr>\n      <th>13607</th>\n      <td>42101</td>\n      <td>757.499</td>\n      <td>281.5763923</td>\n      <td>190.7131365</td>\n      <td>1.476439419</td>\n      <td>0.735702218</td>\n      <td>42494</td>\n      <td>231.5267977</td>\n      <td>0.799942998</td>\n      <td>0.990751636</td>\n      <td>0.922015342</td>\n      <td>0.822252163</td>\n      <td>0.006688116</td>\n      <td>0.001885835</td>\n      <td>0.67609862</td>\n      <td>0.998218654</td>\n      <td>DERMASON</td>\n    </tr>\n    <tr>\n      <th>13608</th>\n      <td>42139</td>\n      <td>759.321</td>\n      <td>281.5399279</td>\n      <td>191.1879789</td>\n      <td>1.472581747</td>\n      <td>0.734064781</td>\n      <td>42569</td>\n      <td>231.6312612</td>\n      <td>0.729932444</td>\n      <td>0.989898753</td>\n      <td>0.918424091</td>\n      <td>0.822729703</td>\n      <td>0.00668122</td>\n      <td>0.001888271</td>\n      <td>0.676884164</td>\n      <td>0.996767264</td>\n      <td>DERMASON</td>\n    </tr>\n    <tr>\n      <th>13609</th>\n      <td>42147</td>\n      <td>763.779</td>\n      <td>283.3826364</td>\n      <td>190.2757308</td>\n      <td>1.489326228</td>\n      <td>0.741054787</td>\n      <td>42667</td>\n      <td>231.6532475</td>\n      <td>0.705389121</td>\n      <td>0.987812595</td>\n      <td>0.907906457</td>\n      <td>0.817457451</td>\n      <td>0.006723673</td>\n      <td>0.001852025</td>\n      <td>0.668236684</td>\n      <td>0.99522242</td>\n      <td>DERMASON</td>\n    </tr>\n    <tr>\n      <th>13610</th>\n      <td>42159</td>\n      <td>772.237</td>\n      <td>295.142741</td>\n      <td>182.2047159</td>\n      <td>1.619841394</td>\n      <td>0.786693016</td>\n      <td>42600</td>\n      <td>231.6862231</td>\n      <td>0.788962497</td>\n      <td>0.989647887</td>\n      <td>0.888380369</td>\n      <td>0.784997193</td>\n      <td>0.007000705</td>\n      <td>0.001639812</td>\n      <td>0.616220592</td>\n      <td>0.998179623</td>\n      <td>DERMASON</td>\n    </tr>\n  </tbody>\n</table>\n</div>"
     },
     "execution_count": 4,
     "metadata": {},
     "output_type": "execute_result"
    }
   ],
   "source": [
    "df.tail(6)"
   ],
   "metadata": {
    "collapsed": false,
    "ExecuteTime": {
     "end_time": "2023-12-28T12:21:15.658260200Z",
     "start_time": "2023-12-28T12:21:15.581459500Z"
    }
   },
   "id": "5e4bf6ccdca476"
  },
  {
   "cell_type": "code",
   "outputs": [
    {
     "data": {
      "text/plain": "Class\nDERMASON    3546\nSIRA        2636\nSEKER       2027\nHOROZ       1928\nCALI        1630\nBARBUNYA    1322\nBOMBAY       522\nName: count, dtype: int64"
     },
     "execution_count": 5,
     "metadata": {},
     "output_type": "execute_result"
    }
   ],
   "source": [
    "df['Class'].value_counts()"
   ],
   "metadata": {
    "collapsed": false,
    "ExecuteTime": {
     "end_time": "2023-12-28T12:21:15.745053900Z",
     "start_time": "2023-12-28T12:21:15.611765900Z"
    }
   },
   "id": "1aeec680fd92281",
   "execution_count": 5
  },
  {
   "cell_type": "code",
   "execution_count": 6,
   "outputs": [
    {
     "data": {
      "text/plain": "Area               0\nPerimeter          0\nMajorAxisLength    0\nMinorAxisLength    0\nAspectRation       0\nEccentricity       0\nConvexArea         0\nEquivDiameter      0\nExtent             0\nSolidity           0\nroundness          0\nCompactness        0\nShapeFactor1       0\nShapeFactor2       0\nShapeFactor3       0\nShapeFactor4       0\nClass              0\ndtype: int64"
     },
     "execution_count": 6,
     "metadata": {},
     "output_type": "execute_result"
    }
   ],
   "source": [
    "df.isnull().sum()"
   ],
   "metadata": {
    "collapsed": false,
    "ExecuteTime": {
     "end_time": "2023-12-28T12:21:15.944215300Z",
     "start_time": "2023-12-28T12:21:15.628549600Z"
    }
   },
   "id": "994e61c04c3428aa"
  },
  {
   "cell_type": "code",
   "execution_count": 7,
   "outputs": [
    {
     "data": {
      "text/plain": "Area                int64\nPerimeter          object\nMajorAxisLength    object\nMinorAxisLength    object\nAspectRation       object\nEccentricity       object\nConvexArea          int64\nEquivDiameter      object\nExtent             object\nSolidity           object\nroundness          object\nCompactness        object\nShapeFactor1       object\nShapeFactor2       object\nShapeFactor3       object\nShapeFactor4       object\nClass              object\ndtype: object"
     },
     "execution_count": 7,
     "metadata": {},
     "output_type": "execute_result"
    }
   ],
   "source": [
    "df.dtypes"
   ],
   "metadata": {
    "collapsed": false,
    "ExecuteTime": {
     "end_time": "2023-12-28T12:21:15.981214200Z",
     "start_time": "2023-12-28T12:21:15.651174500Z"
    }
   },
   "id": "223cc236770de993"
  },
  {
   "cell_type": "code",
   "execution_count": 8,
   "outputs": [
    {
     "data": {
      "text/plain": "(13611, 17)"
     },
     "execution_count": 8,
     "metadata": {},
     "output_type": "execute_result"
    }
   ],
   "source": [
    "df.shape"
   ],
   "metadata": {
    "collapsed": false,
    "ExecuteTime": {
     "end_time": "2023-12-28T12:21:15.984219900Z",
     "start_time": "2023-12-28T12:21:15.663258500Z"
    }
   },
   "id": "ac8bedfc5bea06ec"
  },
  {
   "cell_type": "markdown",
   "source": [
    "## Preprocess Data"
   ],
   "metadata": {
    "collapsed": false
   },
   "id": "732d8828a63de08a"
  },
  {
   "cell_type": "code",
   "execution_count": 9,
   "outputs": [],
   "source": [
    "le = LabelEncoder()\n",
    "df['Class'] = le.fit_transform(df['Class'])"
   ],
   "metadata": {
    "collapsed": false,
    "ExecuteTime": {
     "end_time": "2023-12-28T12:21:16.013218500Z",
     "start_time": "2023-12-28T12:21:15.676613600Z"
    }
   },
   "id": "a1ceaf07336763c0"
  },
  {
   "cell_type": "code",
   "execution_count": 10,
   "outputs": [],
   "source": [
    "X = df.drop('Class', axis=1)\n",
    "y = df['Class']"
   ],
   "metadata": {
    "collapsed": false,
    "ExecuteTime": {
     "end_time": "2023-12-28T12:21:16.015217800Z",
     "start_time": "2023-12-28T12:21:15.689141800Z"
    }
   },
   "id": "ee0f18dc879e1757"
  },
  {
   "cell_type": "code",
   "execution_count": 11,
   "outputs": [],
   "source": [
    "X[['Perimeter', 'MajorAxisLength', 'MinorAxisLength', 'AspectRation', 'Eccentricity', 'EquivDiameter', 'Extent', 'Solidity', 'roundness', 'Compactness', 'ShapeFactor1', 'ShapeFactor2', 'ShapeFactor3', 'ShapeFactor4']] = X[ ['Perimeter', 'MajorAxisLength', 'MinorAxisLength', 'AspectRation', 'Eccentricity', 'EquivDiameter', 'Extent', 'Solidity', 'roundness', 'Compactness', 'ShapeFactor1', 'ShapeFactor2', 'ShapeFactor3', 'ShapeFactor4']].astype(float)"
   ],
   "metadata": {
    "collapsed": false,
    "ExecuteTime": {
     "end_time": "2023-12-28T12:21:16.290868Z",
     "start_time": "2023-12-28T12:21:15.708054800Z"
    }
   },
   "id": "ff96f14b92163b60"
  },
  {
   "cell_type": "code",
   "execution_count": 12,
   "outputs": [
    {
     "data": {
      "text/plain": "Area                 int64\nPerimeter          float64\nMajorAxisLength    float64\nMinorAxisLength    float64\nAspectRation       float64\nEccentricity       float64\nConvexArea           int64\nEquivDiameter      float64\nExtent             float64\nSolidity           float64\nroundness          float64\nCompactness        float64\nShapeFactor1       float64\nShapeFactor2       float64\nShapeFactor3       float64\nShapeFactor4       float64\ndtype: object"
     },
     "execution_count": 12,
     "metadata": {},
     "output_type": "execute_result"
    }
   ],
   "source": [
    "X.dtypes"
   ],
   "metadata": {
    "collapsed": false,
    "ExecuteTime": {
     "end_time": "2023-12-28T12:21:16.292867600Z",
     "start_time": "2023-12-28T12:21:15.804637Z"
    }
   },
   "id": "9f3b2f39a7e995d5"
  },
  {
   "cell_type": "code",
   "execution_count": 13,
   "outputs": [],
   "source": [
    "X_train, X_test, y_train, y_test = train_test_split(X, y, random_state=42, test_size=0.22)"
   ],
   "metadata": {
    "collapsed": false,
    "ExecuteTime": {
     "end_time": "2023-12-28T12:21:16.294866600Z",
     "start_time": "2023-12-28T12:21:15.819750700Z"
    }
   },
   "id": "f81c8e28fcf5aab4"
  },
  {
   "cell_type": "code",
   "execution_count": 14,
   "outputs": [
    {
     "data": {
      "text/plain": "XGBClassifier(base_score=None, booster=None, callbacks=None,\n              colsample_bylevel=None, colsample_bynode=None,\n              colsample_bytree=None, device=None, early_stopping_rounds=None,\n              enable_categorical=False, eval_metric=None, feature_types=None,\n              gamma=None, grow_policy=None, importance_type=None,\n              interaction_constraints=None, learning_rate=None, max_bin=None,\n              max_cat_threshold=None, max_cat_to_onehot=None,\n              max_delta_step=None, max_depth=None, max_leaves=None,\n              min_child_weight=None, missing=nan, monotone_constraints=None,\n              multi_strategy=None, n_estimators=None, n_jobs=None,\n              num_parallel_tree=None, objective='multi:softprob', ...)",
      "text/html": "<style>#sk-container-id-1 {color: black;}#sk-container-id-1 pre{padding: 0;}#sk-container-id-1 div.sk-toggleable {background-color: white;}#sk-container-id-1 label.sk-toggleable__label {cursor: pointer;display: block;width: 100%;margin-bottom: 0;padding: 0.3em;box-sizing: border-box;text-align: center;}#sk-container-id-1 label.sk-toggleable__label-arrow:before {content: \"▸\";float: left;margin-right: 0.25em;color: #696969;}#sk-container-id-1 label.sk-toggleable__label-arrow:hover:before {color: black;}#sk-container-id-1 div.sk-estimator:hover label.sk-toggleable__label-arrow:before {color: black;}#sk-container-id-1 div.sk-toggleable__content {max-height: 0;max-width: 0;overflow: hidden;text-align: left;background-color: #f0f8ff;}#sk-container-id-1 div.sk-toggleable__content pre {margin: 0.2em;color: black;border-radius: 0.25em;background-color: #f0f8ff;}#sk-container-id-1 input.sk-toggleable__control:checked~div.sk-toggleable__content {max-height: 200px;max-width: 100%;overflow: auto;}#sk-container-id-1 input.sk-toggleable__control:checked~label.sk-toggleable__label-arrow:before {content: \"▾\";}#sk-container-id-1 div.sk-estimator input.sk-toggleable__control:checked~label.sk-toggleable__label {background-color: #d4ebff;}#sk-container-id-1 div.sk-label input.sk-toggleable__control:checked~label.sk-toggleable__label {background-color: #d4ebff;}#sk-container-id-1 input.sk-hidden--visually {border: 0;clip: rect(1px 1px 1px 1px);clip: rect(1px, 1px, 1px, 1px);height: 1px;margin: -1px;overflow: hidden;padding: 0;position: absolute;width: 1px;}#sk-container-id-1 div.sk-estimator {font-family: monospace;background-color: #f0f8ff;border: 1px dotted black;border-radius: 0.25em;box-sizing: border-box;margin-bottom: 0.5em;}#sk-container-id-1 div.sk-estimator:hover {background-color: #d4ebff;}#sk-container-id-1 div.sk-parallel-item::after {content: \"\";width: 100%;border-bottom: 1px solid gray;flex-grow: 1;}#sk-container-id-1 div.sk-label:hover label.sk-toggleable__label {background-color: #d4ebff;}#sk-container-id-1 div.sk-serial::before {content: \"\";position: absolute;border-left: 1px solid gray;box-sizing: border-box;top: 0;bottom: 0;left: 50%;z-index: 0;}#sk-container-id-1 div.sk-serial {display: flex;flex-direction: column;align-items: center;background-color: white;padding-right: 0.2em;padding-left: 0.2em;position: relative;}#sk-container-id-1 div.sk-item {position: relative;z-index: 1;}#sk-container-id-1 div.sk-parallel {display: flex;align-items: stretch;justify-content: center;background-color: white;position: relative;}#sk-container-id-1 div.sk-item::before, #sk-container-id-1 div.sk-parallel-item::before {content: \"\";position: absolute;border-left: 1px solid gray;box-sizing: border-box;top: 0;bottom: 0;left: 50%;z-index: -1;}#sk-container-id-1 div.sk-parallel-item {display: flex;flex-direction: column;z-index: 1;position: relative;background-color: white;}#sk-container-id-1 div.sk-parallel-item:first-child::after {align-self: flex-end;width: 50%;}#sk-container-id-1 div.sk-parallel-item:last-child::after {align-self: flex-start;width: 50%;}#sk-container-id-1 div.sk-parallel-item:only-child::after {width: 0;}#sk-container-id-1 div.sk-dashed-wrapped {border: 1px dashed gray;margin: 0 0.4em 0.5em 0.4em;box-sizing: border-box;padding-bottom: 0.4em;background-color: white;}#sk-container-id-1 div.sk-label label {font-family: monospace;font-weight: bold;display: inline-block;line-height: 1.2em;}#sk-container-id-1 div.sk-label-container {text-align: center;}#sk-container-id-1 div.sk-container {/* jupyter's `normalize.less` sets `[hidden] { display: none; }` but bootstrap.min.css set `[hidden] { display: none !important; }` so we also need the `!important` here to be able to override the default hidden behavior on the sphinx rendered scikit-learn.org. See: https://github.com/scikit-learn/scikit-learn/issues/21755 */display: inline-block !important;position: relative;}#sk-container-id-1 div.sk-text-repr-fallback {display: none;}</style><div id=\"sk-container-id-1\" class=\"sk-top-container\"><div class=\"sk-text-repr-fallback\"><pre>XGBClassifier(base_score=None, booster=None, callbacks=None,\n              colsample_bylevel=None, colsample_bynode=None,\n              colsample_bytree=None, device=None, early_stopping_rounds=None,\n              enable_categorical=False, eval_metric=None, feature_types=None,\n              gamma=None, grow_policy=None, importance_type=None,\n              interaction_constraints=None, learning_rate=None, max_bin=None,\n              max_cat_threshold=None, max_cat_to_onehot=None,\n              max_delta_step=None, max_depth=None, max_leaves=None,\n              min_child_weight=None, missing=nan, monotone_constraints=None,\n              multi_strategy=None, n_estimators=None, n_jobs=None,\n              num_parallel_tree=None, objective=&#x27;multi:softprob&#x27;, ...)</pre><b>In a Jupyter environment, please rerun this cell to show the HTML representation or trust the notebook. <br />On GitHub, the HTML representation is unable to render, please try loading this page with nbviewer.org.</b></div><div class=\"sk-container\" hidden><div class=\"sk-item\"><div class=\"sk-estimator sk-toggleable\"><input class=\"sk-toggleable__control sk-hidden--visually\" id=\"sk-estimator-id-1\" type=\"checkbox\" checked><label for=\"sk-estimator-id-1\" class=\"sk-toggleable__label sk-toggleable__label-arrow\">XGBClassifier</label><div class=\"sk-toggleable__content\"><pre>XGBClassifier(base_score=None, booster=None, callbacks=None,\n              colsample_bylevel=None, colsample_bynode=None,\n              colsample_bytree=None, device=None, early_stopping_rounds=None,\n              enable_categorical=False, eval_metric=None, feature_types=None,\n              gamma=None, grow_policy=None, importance_type=None,\n              interaction_constraints=None, learning_rate=None, max_bin=None,\n              max_cat_threshold=None, max_cat_to_onehot=None,\n              max_delta_step=None, max_depth=None, max_leaves=None,\n              min_child_weight=None, missing=nan, monotone_constraints=None,\n              multi_strategy=None, n_estimators=None, n_jobs=None,\n              num_parallel_tree=None, objective=&#x27;multi:softprob&#x27;, ...)</pre></div></div></div></div></div>"
     },
     "execution_count": 14,
     "metadata": {},
     "output_type": "execute_result"
    }
   ],
   "source": [
    "model = XGBClassifier()\n",
    "model.fit(X_train, y_train)"
   ],
   "metadata": {
    "collapsed": false,
    "ExecuteTime": {
     "end_time": "2023-12-28T12:21:19.355964500Z",
     "start_time": "2023-12-28T12:21:15.837417Z"
    }
   },
   "id": "8437b59e098ae69"
  },
  {
   "cell_type": "code",
   "execution_count": 15,
   "outputs": [],
   "source": [
    "y_pred = model.predict(X_test)"
   ],
   "metadata": {
    "collapsed": false,
    "ExecuteTime": {
     "end_time": "2023-12-28T12:21:19.476518800Z",
     "start_time": "2023-12-28T12:21:19.356963500Z"
    }
   },
   "id": "6d6f67920a45f420"
  },
  {
   "cell_type": "code",
   "execution_count": 16,
   "outputs": [
    {
     "name": "stdout",
     "output_type": "stream",
     "text": [
      "Accuracy: 0.93\n"
     ]
    }
   ],
   "source": [
    "accuracy = accuracy_score(y_test, y_pred)\n",
    "print(f\"Accuracy: {accuracy:.2f}\")"
   ],
   "metadata": {
    "collapsed": false,
    "ExecuteTime": {
     "end_time": "2023-12-28T12:21:19.481520600Z",
     "start_time": "2023-12-28T12:21:19.400416700Z"
    }
   },
   "id": "52dd421827490469"
  },
  {
   "cell_type": "code",
   "execution_count": 17,
   "outputs": [
    {
     "name": "stdout",
     "output_type": "stream",
     "text": [
      "              precision    recall  f1-score   support\n",
      "\n",
      "           0       0.93      0.92      0.93       295\n",
      "           1       1.00      1.00      1.00       123\n",
      "           2       0.94      0.94      0.94       348\n",
      "           3       0.91      0.92      0.91       757\n",
      "           4       0.97      0.96      0.97       434\n",
      "           5       0.95      0.95      0.95       445\n",
      "           6       0.87      0.88      0.88       593\n",
      "\n",
      "    accuracy                           0.93      2995\n",
      "   macro avg       0.94      0.94      0.94      2995\n",
      "weighted avg       0.93      0.93      0.93      2995\n"
     ]
    }
   ],
   "source": [
    "print(classification_report(y_test, y_pred))"
   ],
   "metadata": {
    "collapsed": false,
    "ExecuteTime": {
     "end_time": "2023-12-28T12:21:19.654503400Z",
     "start_time": "2023-12-28T12:21:19.419754900Z"
    }
   },
   "id": "34acd3edac582e4f"
  },
  {
   "cell_type": "code",
   "execution_count": 18,
   "outputs": [],
   "source": [
    "from sklearn.metrics import confusion_matrix"
   ],
   "metadata": {
    "collapsed": false,
    "ExecuteTime": {
     "end_time": "2023-12-28T12:21:19.712506600Z",
     "start_time": "2023-12-28T12:21:19.469418900Z"
    }
   },
   "id": "aba10e152c59037f"
  },
  {
   "cell_type": "code",
   "execution_count": 19,
   "outputs": [
    {
     "name": "stdout",
     "output_type": "stream",
     "text": [
      "Confusion matrix:\n",
      " [[271   0  14   0   0   3   7]\n",
      " [  0 123   0   0   0   0   0]\n",
      " [  9   0 328   0   7   2   2]\n",
      " [  0   0   0 697   1   8  51]\n",
      " [  2   0   4   3 418   0   7]\n",
      " [  7   0   0   9   0 421   8]\n",
      " [  1   0   3  58   4   7 520]]\n"
     ]
    }
   ],
   "source": [
    "cm = confusion_matrix(y_test, y_pred)\n",
    "print(\"Confusion matrix:\\n\", cm)"
   ],
   "metadata": {
    "collapsed": false,
    "ExecuteTime": {
     "end_time": "2023-12-28T12:21:19.781513500Z",
     "start_time": "2023-12-28T12:21:19.480521200Z"
    }
   },
   "id": "940b4149dde3ebd9"
  },
  {
   "cell_type": "markdown",
   "source": [],
   "metadata": {
    "collapsed": false
   },
   "id": "d93306dc6a5b1bef"
  },
  {
   "cell_type": "code",
   "execution_count": 20,
   "outputs": [
    {
     "ename": "KeyboardInterrupt",
     "evalue": "",
     "output_type": "error",
     "traceback": [
      "\u001B[1;31m---------------------------------------------------------------------------\u001B[0m",
      "\u001B[1;31mKeyboardInterrupt\u001B[0m                         Traceback (most recent call last)",
      "Cell \u001B[1;32mIn[20], line 10\u001B[0m\n\u001B[0;32m      3\u001B[0m param_grid \u001B[38;5;241m=\u001B[39m {\n\u001B[0;32m      4\u001B[0m     \u001B[38;5;124m'\u001B[39m\u001B[38;5;124mlearning_rate\u001B[39m\u001B[38;5;124m'\u001B[39m: [\u001B[38;5;241m0.001\u001B[39m, \u001B[38;5;241m0.01\u001B[39m, \u001B[38;5;241m0.1\u001B[39m, \u001B[38;5;241m1\u001B[39m, \u001B[38;5;241m10\u001B[39m, \u001B[38;5;241m100\u001B[39m],\n\u001B[0;32m      5\u001B[0m     \u001B[38;5;124m'\u001B[39m\u001B[38;5;124mmax_depth\u001B[39m\u001B[38;5;124m'\u001B[39m: [\u001B[38;5;241m2\u001B[39m, \u001B[38;5;241m3\u001B[39m, \u001B[38;5;241m4\u001B[39m, \u001B[38;5;241m5\u001B[39m, \u001B[38;5;241m6\u001B[39m, \u001B[38;5;241m7\u001B[39m, \u001B[38;5;241m8\u001B[39m, \u001B[38;5;241m9\u001B[39m, \u001B[38;5;241m10\u001B[39m],\n\u001B[0;32m      6\u001B[0m     \u001B[38;5;124m'\u001B[39m\u001B[38;5;124mn_estimators\u001B[39m\u001B[38;5;124m'\u001B[39m: [\u001B[38;5;241m50\u001B[39m, \u001B[38;5;241m100\u001B[39m, \u001B[38;5;241m200\u001B[39m, \u001B[38;5;241m300\u001B[39m]\n\u001B[0;32m      7\u001B[0m }\n\u001B[0;32m      9\u001B[0m grid_search \u001B[38;5;241m=\u001B[39m GridSearchCV(XGBClassifier(), param_grid\u001B[38;5;241m=\u001B[39mparam_grid, cv\u001B[38;5;241m=\u001B[39m\u001B[38;5;241m5\u001B[39m)\n\u001B[1;32m---> 10\u001B[0m \u001B[43mgrid_search\u001B[49m\u001B[38;5;241;43m.\u001B[39;49m\u001B[43mfit\u001B[49m\u001B[43m(\u001B[49m\u001B[43mX_train\u001B[49m\u001B[43m,\u001B[49m\u001B[43m \u001B[49m\u001B[43my_train\u001B[49m\u001B[43m)\u001B[49m\n\u001B[0;32m     12\u001B[0m best_params \u001B[38;5;241m=\u001B[39m grid_search\u001B[38;5;241m.\u001B[39mbest_params_\n\u001B[0;32m     13\u001B[0m \u001B[38;5;28mprint\u001B[39m(\u001B[38;5;124m\"\u001B[39m\u001B[38;5;124mBest Hyperparameters:\u001B[39m\u001B[38;5;124m\"\u001B[39m, best_params)\n",
      "File \u001B[1;32m~\\AppData\\Local\\Programs\\Python\\Python312\\Lib\\site-packages\\sklearn\\base.py:1152\u001B[0m, in \u001B[0;36m_fit_context.<locals>.decorator.<locals>.wrapper\u001B[1;34m(estimator, *args, **kwargs)\u001B[0m\n\u001B[0;32m   1145\u001B[0m     estimator\u001B[38;5;241m.\u001B[39m_validate_params()\n\u001B[0;32m   1147\u001B[0m \u001B[38;5;28;01mwith\u001B[39;00m config_context(\n\u001B[0;32m   1148\u001B[0m     skip_parameter_validation\u001B[38;5;241m=\u001B[39m(\n\u001B[0;32m   1149\u001B[0m         prefer_skip_nested_validation \u001B[38;5;129;01mor\u001B[39;00m global_skip_validation\n\u001B[0;32m   1150\u001B[0m     )\n\u001B[0;32m   1151\u001B[0m ):\n\u001B[1;32m-> 1152\u001B[0m     \u001B[38;5;28;01mreturn\u001B[39;00m \u001B[43mfit_method\u001B[49m\u001B[43m(\u001B[49m\u001B[43mestimator\u001B[49m\u001B[43m,\u001B[49m\u001B[43m \u001B[49m\u001B[38;5;241;43m*\u001B[39;49m\u001B[43margs\u001B[49m\u001B[43m,\u001B[49m\u001B[43m \u001B[49m\u001B[38;5;241;43m*\u001B[39;49m\u001B[38;5;241;43m*\u001B[39;49m\u001B[43mkwargs\u001B[49m\u001B[43m)\u001B[49m\n",
      "File \u001B[1;32m~\\AppData\\Local\\Programs\\Python\\Python312\\Lib\\site-packages\\sklearn\\model_selection\\_search.py:898\u001B[0m, in \u001B[0;36mBaseSearchCV.fit\u001B[1;34m(self, X, y, groups, **fit_params)\u001B[0m\n\u001B[0;32m    892\u001B[0m     results \u001B[38;5;241m=\u001B[39m \u001B[38;5;28mself\u001B[39m\u001B[38;5;241m.\u001B[39m_format_results(\n\u001B[0;32m    893\u001B[0m         all_candidate_params, n_splits, all_out, all_more_results\n\u001B[0;32m    894\u001B[0m     )\n\u001B[0;32m    896\u001B[0m     \u001B[38;5;28;01mreturn\u001B[39;00m results\n\u001B[1;32m--> 898\u001B[0m \u001B[38;5;28;43mself\u001B[39;49m\u001B[38;5;241;43m.\u001B[39;49m\u001B[43m_run_search\u001B[49m\u001B[43m(\u001B[49m\u001B[43mevaluate_candidates\u001B[49m\u001B[43m)\u001B[49m\n\u001B[0;32m    900\u001B[0m \u001B[38;5;66;03m# multimetric is determined here because in the case of a callable\u001B[39;00m\n\u001B[0;32m    901\u001B[0m \u001B[38;5;66;03m# self.scoring the return type is only known after calling\u001B[39;00m\n\u001B[0;32m    902\u001B[0m first_test_score \u001B[38;5;241m=\u001B[39m all_out[\u001B[38;5;241m0\u001B[39m][\u001B[38;5;124m\"\u001B[39m\u001B[38;5;124mtest_scores\u001B[39m\u001B[38;5;124m\"\u001B[39m]\n",
      "File \u001B[1;32m~\\AppData\\Local\\Programs\\Python\\Python312\\Lib\\site-packages\\sklearn\\model_selection\\_search.py:1422\u001B[0m, in \u001B[0;36mGridSearchCV._run_search\u001B[1;34m(self, evaluate_candidates)\u001B[0m\n\u001B[0;32m   1420\u001B[0m \u001B[38;5;28;01mdef\u001B[39;00m \u001B[38;5;21m_run_search\u001B[39m(\u001B[38;5;28mself\u001B[39m, evaluate_candidates):\n\u001B[0;32m   1421\u001B[0m \u001B[38;5;250m    \u001B[39m\u001B[38;5;124;03m\"\"\"Search all candidates in param_grid\"\"\"\u001B[39;00m\n\u001B[1;32m-> 1422\u001B[0m     \u001B[43mevaluate_candidates\u001B[49m\u001B[43m(\u001B[49m\u001B[43mParameterGrid\u001B[49m\u001B[43m(\u001B[49m\u001B[38;5;28;43mself\u001B[39;49m\u001B[38;5;241;43m.\u001B[39;49m\u001B[43mparam_grid\u001B[49m\u001B[43m)\u001B[49m\u001B[43m)\u001B[49m\n",
      "File \u001B[1;32m~\\AppData\\Local\\Programs\\Python\\Python312\\Lib\\site-packages\\sklearn\\model_selection\\_search.py:845\u001B[0m, in \u001B[0;36mBaseSearchCV.fit.<locals>.evaluate_candidates\u001B[1;34m(candidate_params, cv, more_results)\u001B[0m\n\u001B[0;32m    837\u001B[0m \u001B[38;5;28;01mif\u001B[39;00m \u001B[38;5;28mself\u001B[39m\u001B[38;5;241m.\u001B[39mverbose \u001B[38;5;241m>\u001B[39m \u001B[38;5;241m0\u001B[39m:\n\u001B[0;32m    838\u001B[0m     \u001B[38;5;28mprint\u001B[39m(\n\u001B[0;32m    839\u001B[0m         \u001B[38;5;124m\"\u001B[39m\u001B[38;5;124mFitting \u001B[39m\u001B[38;5;132;01m{0}\u001B[39;00m\u001B[38;5;124m folds for each of \u001B[39m\u001B[38;5;132;01m{1}\u001B[39;00m\u001B[38;5;124m candidates,\u001B[39m\u001B[38;5;124m\"\u001B[39m\n\u001B[0;32m    840\u001B[0m         \u001B[38;5;124m\"\u001B[39m\u001B[38;5;124m totalling \u001B[39m\u001B[38;5;132;01m{2}\u001B[39;00m\u001B[38;5;124m fits\u001B[39m\u001B[38;5;124m\"\u001B[39m\u001B[38;5;241m.\u001B[39mformat(\n\u001B[0;32m    841\u001B[0m             n_splits, n_candidates, n_candidates \u001B[38;5;241m*\u001B[39m n_splits\n\u001B[0;32m    842\u001B[0m         )\n\u001B[0;32m    843\u001B[0m     )\n\u001B[1;32m--> 845\u001B[0m out \u001B[38;5;241m=\u001B[39m \u001B[43mparallel\u001B[49m\u001B[43m(\u001B[49m\n\u001B[0;32m    846\u001B[0m \u001B[43m    \u001B[49m\u001B[43mdelayed\u001B[49m\u001B[43m(\u001B[49m\u001B[43m_fit_and_score\u001B[49m\u001B[43m)\u001B[49m\u001B[43m(\u001B[49m\n\u001B[0;32m    847\u001B[0m \u001B[43m        \u001B[49m\u001B[43mclone\u001B[49m\u001B[43m(\u001B[49m\u001B[43mbase_estimator\u001B[49m\u001B[43m)\u001B[49m\u001B[43m,\u001B[49m\n\u001B[0;32m    848\u001B[0m \u001B[43m        \u001B[49m\u001B[43mX\u001B[49m\u001B[43m,\u001B[49m\n\u001B[0;32m    849\u001B[0m \u001B[43m        \u001B[49m\u001B[43my\u001B[49m\u001B[43m,\u001B[49m\n\u001B[0;32m    850\u001B[0m \u001B[43m        \u001B[49m\u001B[43mtrain\u001B[49m\u001B[38;5;241;43m=\u001B[39;49m\u001B[43mtrain\u001B[49m\u001B[43m,\u001B[49m\n\u001B[0;32m    851\u001B[0m \u001B[43m        \u001B[49m\u001B[43mtest\u001B[49m\u001B[38;5;241;43m=\u001B[39;49m\u001B[43mtest\u001B[49m\u001B[43m,\u001B[49m\n\u001B[0;32m    852\u001B[0m \u001B[43m        \u001B[49m\u001B[43mparameters\u001B[49m\u001B[38;5;241;43m=\u001B[39;49m\u001B[43mparameters\u001B[49m\u001B[43m,\u001B[49m\n\u001B[0;32m    853\u001B[0m \u001B[43m        \u001B[49m\u001B[43msplit_progress\u001B[49m\u001B[38;5;241;43m=\u001B[39;49m\u001B[43m(\u001B[49m\u001B[43msplit_idx\u001B[49m\u001B[43m,\u001B[49m\u001B[43m \u001B[49m\u001B[43mn_splits\u001B[49m\u001B[43m)\u001B[49m\u001B[43m,\u001B[49m\n\u001B[0;32m    854\u001B[0m \u001B[43m        \u001B[49m\u001B[43mcandidate_progress\u001B[49m\u001B[38;5;241;43m=\u001B[39;49m\u001B[43m(\u001B[49m\u001B[43mcand_idx\u001B[49m\u001B[43m,\u001B[49m\u001B[43m \u001B[49m\u001B[43mn_candidates\u001B[49m\u001B[43m)\u001B[49m\u001B[43m,\u001B[49m\n\u001B[0;32m    855\u001B[0m \u001B[43m        \u001B[49m\u001B[38;5;241;43m*\u001B[39;49m\u001B[38;5;241;43m*\u001B[39;49m\u001B[43mfit_and_score_kwargs\u001B[49m\u001B[43m,\u001B[49m\n\u001B[0;32m    856\u001B[0m \u001B[43m    \u001B[49m\u001B[43m)\u001B[49m\n\u001B[0;32m    857\u001B[0m \u001B[43m    \u001B[49m\u001B[38;5;28;43;01mfor\u001B[39;49;00m\u001B[43m \u001B[49m\u001B[43m(\u001B[49m\u001B[43mcand_idx\u001B[49m\u001B[43m,\u001B[49m\u001B[43m \u001B[49m\u001B[43mparameters\u001B[49m\u001B[43m)\u001B[49m\u001B[43m,\u001B[49m\u001B[43m \u001B[49m\u001B[43m(\u001B[49m\u001B[43msplit_idx\u001B[49m\u001B[43m,\u001B[49m\u001B[43m \u001B[49m\u001B[43m(\u001B[49m\u001B[43mtrain\u001B[49m\u001B[43m,\u001B[49m\u001B[43m \u001B[49m\u001B[43mtest\u001B[49m\u001B[43m)\u001B[49m\u001B[43m)\u001B[49m\u001B[43m \u001B[49m\u001B[38;5;129;43;01min\u001B[39;49;00m\u001B[43m \u001B[49m\u001B[43mproduct\u001B[49m\u001B[43m(\u001B[49m\n\u001B[0;32m    858\u001B[0m \u001B[43m        \u001B[49m\u001B[38;5;28;43menumerate\u001B[39;49m\u001B[43m(\u001B[49m\u001B[43mcandidate_params\u001B[49m\u001B[43m)\u001B[49m\u001B[43m,\u001B[49m\u001B[43m \u001B[49m\u001B[38;5;28;43menumerate\u001B[39;49m\u001B[43m(\u001B[49m\u001B[43mcv\u001B[49m\u001B[38;5;241;43m.\u001B[39;49m\u001B[43msplit\u001B[49m\u001B[43m(\u001B[49m\u001B[43mX\u001B[49m\u001B[43m,\u001B[49m\u001B[43m \u001B[49m\u001B[43my\u001B[49m\u001B[43m,\u001B[49m\u001B[43m \u001B[49m\u001B[43mgroups\u001B[49m\u001B[43m)\u001B[49m\u001B[43m)\u001B[49m\n\u001B[0;32m    859\u001B[0m \u001B[43m    \u001B[49m\u001B[43m)\u001B[49m\n\u001B[0;32m    860\u001B[0m \u001B[43m\u001B[49m\u001B[43m)\u001B[49m\n\u001B[0;32m    862\u001B[0m \u001B[38;5;28;01mif\u001B[39;00m \u001B[38;5;28mlen\u001B[39m(out) \u001B[38;5;241m<\u001B[39m \u001B[38;5;241m1\u001B[39m:\n\u001B[0;32m    863\u001B[0m     \u001B[38;5;28;01mraise\u001B[39;00m \u001B[38;5;167;01mValueError\u001B[39;00m(\n\u001B[0;32m    864\u001B[0m         \u001B[38;5;124m\"\u001B[39m\u001B[38;5;124mNo fits were performed. \u001B[39m\u001B[38;5;124m\"\u001B[39m\n\u001B[0;32m    865\u001B[0m         \u001B[38;5;124m\"\u001B[39m\u001B[38;5;124mWas the CV iterator empty? \u001B[39m\u001B[38;5;124m\"\u001B[39m\n\u001B[0;32m    866\u001B[0m         \u001B[38;5;124m\"\u001B[39m\u001B[38;5;124mWere there no candidates?\u001B[39m\u001B[38;5;124m\"\u001B[39m\n\u001B[0;32m    867\u001B[0m     )\n",
      "File \u001B[1;32m~\\AppData\\Local\\Programs\\Python\\Python312\\Lib\\site-packages\\sklearn\\utils\\parallel.py:65\u001B[0m, in \u001B[0;36mParallel.__call__\u001B[1;34m(self, iterable)\u001B[0m\n\u001B[0;32m     60\u001B[0m config \u001B[38;5;241m=\u001B[39m get_config()\n\u001B[0;32m     61\u001B[0m iterable_with_config \u001B[38;5;241m=\u001B[39m (\n\u001B[0;32m     62\u001B[0m     (_with_config(delayed_func, config), args, kwargs)\n\u001B[0;32m     63\u001B[0m     \u001B[38;5;28;01mfor\u001B[39;00m delayed_func, args, kwargs \u001B[38;5;129;01min\u001B[39;00m iterable\n\u001B[0;32m     64\u001B[0m )\n\u001B[1;32m---> 65\u001B[0m \u001B[38;5;28;01mreturn\u001B[39;00m \u001B[38;5;28;43msuper\u001B[39;49m\u001B[43m(\u001B[49m\u001B[43m)\u001B[49m\u001B[38;5;241;43m.\u001B[39;49m\u001B[38;5;21;43m__call__\u001B[39;49m\u001B[43m(\u001B[49m\u001B[43miterable_with_config\u001B[49m\u001B[43m)\u001B[49m\n",
      "File \u001B[1;32m~\\AppData\\Local\\Programs\\Python\\Python312\\Lib\\site-packages\\joblib\\parallel.py:1863\u001B[0m, in \u001B[0;36mParallel.__call__\u001B[1;34m(self, iterable)\u001B[0m\n\u001B[0;32m   1861\u001B[0m     output \u001B[38;5;241m=\u001B[39m \u001B[38;5;28mself\u001B[39m\u001B[38;5;241m.\u001B[39m_get_sequential_output(iterable)\n\u001B[0;32m   1862\u001B[0m     \u001B[38;5;28mnext\u001B[39m(output)\n\u001B[1;32m-> 1863\u001B[0m     \u001B[38;5;28;01mreturn\u001B[39;00m output \u001B[38;5;28;01mif\u001B[39;00m \u001B[38;5;28mself\u001B[39m\u001B[38;5;241m.\u001B[39mreturn_generator \u001B[38;5;28;01melse\u001B[39;00m \u001B[38;5;28;43mlist\u001B[39;49m\u001B[43m(\u001B[49m\u001B[43moutput\u001B[49m\u001B[43m)\u001B[49m\n\u001B[0;32m   1865\u001B[0m \u001B[38;5;66;03m# Let's create an ID that uniquely identifies the current call. If the\u001B[39;00m\n\u001B[0;32m   1866\u001B[0m \u001B[38;5;66;03m# call is interrupted early and that the same instance is immediately\u001B[39;00m\n\u001B[0;32m   1867\u001B[0m \u001B[38;5;66;03m# re-used, this id will be used to prevent workers that were\u001B[39;00m\n\u001B[0;32m   1868\u001B[0m \u001B[38;5;66;03m# concurrently finalizing a task from the previous call to run the\u001B[39;00m\n\u001B[0;32m   1869\u001B[0m \u001B[38;5;66;03m# callback.\u001B[39;00m\n\u001B[0;32m   1870\u001B[0m \u001B[38;5;28;01mwith\u001B[39;00m \u001B[38;5;28mself\u001B[39m\u001B[38;5;241m.\u001B[39m_lock:\n",
      "File \u001B[1;32m~\\AppData\\Local\\Programs\\Python\\Python312\\Lib\\site-packages\\joblib\\parallel.py:1792\u001B[0m, in \u001B[0;36mParallel._get_sequential_output\u001B[1;34m(self, iterable)\u001B[0m\n\u001B[0;32m   1790\u001B[0m \u001B[38;5;28mself\u001B[39m\u001B[38;5;241m.\u001B[39mn_dispatched_batches \u001B[38;5;241m+\u001B[39m\u001B[38;5;241m=\u001B[39m \u001B[38;5;241m1\u001B[39m\n\u001B[0;32m   1791\u001B[0m \u001B[38;5;28mself\u001B[39m\u001B[38;5;241m.\u001B[39mn_dispatched_tasks \u001B[38;5;241m+\u001B[39m\u001B[38;5;241m=\u001B[39m \u001B[38;5;241m1\u001B[39m\n\u001B[1;32m-> 1792\u001B[0m res \u001B[38;5;241m=\u001B[39m \u001B[43mfunc\u001B[49m\u001B[43m(\u001B[49m\u001B[38;5;241;43m*\u001B[39;49m\u001B[43margs\u001B[49m\u001B[43m,\u001B[49m\u001B[43m \u001B[49m\u001B[38;5;241;43m*\u001B[39;49m\u001B[38;5;241;43m*\u001B[39;49m\u001B[43mkwargs\u001B[49m\u001B[43m)\u001B[49m\n\u001B[0;32m   1793\u001B[0m \u001B[38;5;28mself\u001B[39m\u001B[38;5;241m.\u001B[39mn_completed_tasks \u001B[38;5;241m+\u001B[39m\u001B[38;5;241m=\u001B[39m \u001B[38;5;241m1\u001B[39m\n\u001B[0;32m   1794\u001B[0m \u001B[38;5;28mself\u001B[39m\u001B[38;5;241m.\u001B[39mprint_progress()\n",
      "File \u001B[1;32m~\\AppData\\Local\\Programs\\Python\\Python312\\Lib\\site-packages\\sklearn\\utils\\parallel.py:127\u001B[0m, in \u001B[0;36m_FuncWrapper.__call__\u001B[1;34m(self, *args, **kwargs)\u001B[0m\n\u001B[0;32m    125\u001B[0m     config \u001B[38;5;241m=\u001B[39m {}\n\u001B[0;32m    126\u001B[0m \u001B[38;5;28;01mwith\u001B[39;00m config_context(\u001B[38;5;241m*\u001B[39m\u001B[38;5;241m*\u001B[39mconfig):\n\u001B[1;32m--> 127\u001B[0m     \u001B[38;5;28;01mreturn\u001B[39;00m \u001B[38;5;28;43mself\u001B[39;49m\u001B[38;5;241;43m.\u001B[39;49m\u001B[43mfunction\u001B[49m\u001B[43m(\u001B[49m\u001B[38;5;241;43m*\u001B[39;49m\u001B[43margs\u001B[49m\u001B[43m,\u001B[49m\u001B[43m \u001B[49m\u001B[38;5;241;43m*\u001B[39;49m\u001B[38;5;241;43m*\u001B[39;49m\u001B[43mkwargs\u001B[49m\u001B[43m)\u001B[49m\n",
      "File \u001B[1;32m~\\AppData\\Local\\Programs\\Python\\Python312\\Lib\\site-packages\\sklearn\\model_selection\\_validation.py:729\u001B[0m, in \u001B[0;36m_fit_and_score\u001B[1;34m(estimator, X, y, scorer, train, test, verbose, parameters, fit_params, return_train_score, return_parameters, return_n_test_samples, return_times, return_estimator, split_progress, candidate_progress, error_score)\u001B[0m\n\u001B[0;32m    727\u001B[0m         estimator\u001B[38;5;241m.\u001B[39mfit(X_train, \u001B[38;5;241m*\u001B[39m\u001B[38;5;241m*\u001B[39mfit_params)\n\u001B[0;32m    728\u001B[0m     \u001B[38;5;28;01melse\u001B[39;00m:\n\u001B[1;32m--> 729\u001B[0m         \u001B[43mestimator\u001B[49m\u001B[38;5;241;43m.\u001B[39;49m\u001B[43mfit\u001B[49m\u001B[43m(\u001B[49m\u001B[43mX_train\u001B[49m\u001B[43m,\u001B[49m\u001B[43m \u001B[49m\u001B[43my_train\u001B[49m\u001B[43m,\u001B[49m\u001B[43m \u001B[49m\u001B[38;5;241;43m*\u001B[39;49m\u001B[38;5;241;43m*\u001B[39;49m\u001B[43mfit_params\u001B[49m\u001B[43m)\u001B[49m\n\u001B[0;32m    731\u001B[0m \u001B[38;5;28;01mexcept\u001B[39;00m \u001B[38;5;167;01mException\u001B[39;00m:\n\u001B[0;32m    732\u001B[0m     \u001B[38;5;66;03m# Note fit time as time until error\u001B[39;00m\n\u001B[0;32m    733\u001B[0m     fit_time \u001B[38;5;241m=\u001B[39m time\u001B[38;5;241m.\u001B[39mtime() \u001B[38;5;241m-\u001B[39m start_time\n",
      "File \u001B[1;32m~\\AppData\\Local\\Programs\\Python\\Python312\\Lib\\site-packages\\xgboost\\core.py:729\u001B[0m, in \u001B[0;36mrequire_keyword_args.<locals>.throw_if.<locals>.inner_f\u001B[1;34m(*args, **kwargs)\u001B[0m\n\u001B[0;32m    727\u001B[0m \u001B[38;5;28;01mfor\u001B[39;00m k, arg \u001B[38;5;129;01min\u001B[39;00m \u001B[38;5;28mzip\u001B[39m(sig\u001B[38;5;241m.\u001B[39mparameters, args):\n\u001B[0;32m    728\u001B[0m     kwargs[k] \u001B[38;5;241m=\u001B[39m arg\n\u001B[1;32m--> 729\u001B[0m \u001B[38;5;28;01mreturn\u001B[39;00m \u001B[43mfunc\u001B[49m\u001B[43m(\u001B[49m\u001B[38;5;241;43m*\u001B[39;49m\u001B[38;5;241;43m*\u001B[39;49m\u001B[43mkwargs\u001B[49m\u001B[43m)\u001B[49m\n",
      "File \u001B[1;32m~\\AppData\\Local\\Programs\\Python\\Python312\\Lib\\site-packages\\xgboost\\sklearn.py:1515\u001B[0m, in \u001B[0;36mXGBClassifier.fit\u001B[1;34m(self, X, y, sample_weight, base_margin, eval_set, eval_metric, early_stopping_rounds, verbose, xgb_model, sample_weight_eval_set, base_margin_eval_set, feature_weights, callbacks)\u001B[0m\n\u001B[0;32m   1487\u001B[0m (\n\u001B[0;32m   1488\u001B[0m     model,\n\u001B[0;32m   1489\u001B[0m     metric,\n\u001B[1;32m   (...)\u001B[0m\n\u001B[0;32m   1494\u001B[0m     xgb_model, eval_metric, params, early_stopping_rounds, callbacks\n\u001B[0;32m   1495\u001B[0m )\n\u001B[0;32m   1496\u001B[0m train_dmatrix, evals \u001B[38;5;241m=\u001B[39m _wrap_evaluation_matrices(\n\u001B[0;32m   1497\u001B[0m     missing\u001B[38;5;241m=\u001B[39m\u001B[38;5;28mself\u001B[39m\u001B[38;5;241m.\u001B[39mmissing,\n\u001B[0;32m   1498\u001B[0m     X\u001B[38;5;241m=\u001B[39mX,\n\u001B[1;32m   (...)\u001B[0m\n\u001B[0;32m   1512\u001B[0m     feature_types\u001B[38;5;241m=\u001B[39m\u001B[38;5;28mself\u001B[39m\u001B[38;5;241m.\u001B[39mfeature_types,\n\u001B[0;32m   1513\u001B[0m )\n\u001B[1;32m-> 1515\u001B[0m \u001B[38;5;28mself\u001B[39m\u001B[38;5;241m.\u001B[39m_Booster \u001B[38;5;241m=\u001B[39m \u001B[43mtrain\u001B[49m\u001B[43m(\u001B[49m\n\u001B[0;32m   1516\u001B[0m \u001B[43m    \u001B[49m\u001B[43mparams\u001B[49m\u001B[43m,\u001B[49m\n\u001B[0;32m   1517\u001B[0m \u001B[43m    \u001B[49m\u001B[43mtrain_dmatrix\u001B[49m\u001B[43m,\u001B[49m\n\u001B[0;32m   1518\u001B[0m \u001B[43m    \u001B[49m\u001B[38;5;28;43mself\u001B[39;49m\u001B[38;5;241;43m.\u001B[39;49m\u001B[43mget_num_boosting_rounds\u001B[49m\u001B[43m(\u001B[49m\u001B[43m)\u001B[49m\u001B[43m,\u001B[49m\n\u001B[0;32m   1519\u001B[0m \u001B[43m    \u001B[49m\u001B[43mevals\u001B[49m\u001B[38;5;241;43m=\u001B[39;49m\u001B[43mevals\u001B[49m\u001B[43m,\u001B[49m\n\u001B[0;32m   1520\u001B[0m \u001B[43m    \u001B[49m\u001B[43mearly_stopping_rounds\u001B[49m\u001B[38;5;241;43m=\u001B[39;49m\u001B[43mearly_stopping_rounds\u001B[49m\u001B[43m,\u001B[49m\n\u001B[0;32m   1521\u001B[0m \u001B[43m    \u001B[49m\u001B[43mevals_result\u001B[49m\u001B[38;5;241;43m=\u001B[39;49m\u001B[43mevals_result\u001B[49m\u001B[43m,\u001B[49m\n\u001B[0;32m   1522\u001B[0m \u001B[43m    \u001B[49m\u001B[43mobj\u001B[49m\u001B[38;5;241;43m=\u001B[39;49m\u001B[43mobj\u001B[49m\u001B[43m,\u001B[49m\n\u001B[0;32m   1523\u001B[0m \u001B[43m    \u001B[49m\u001B[43mcustom_metric\u001B[49m\u001B[38;5;241;43m=\u001B[39;49m\u001B[43mmetric\u001B[49m\u001B[43m,\u001B[49m\n\u001B[0;32m   1524\u001B[0m \u001B[43m    \u001B[49m\u001B[43mverbose_eval\u001B[49m\u001B[38;5;241;43m=\u001B[39;49m\u001B[43mverbose\u001B[49m\u001B[43m,\u001B[49m\n\u001B[0;32m   1525\u001B[0m \u001B[43m    \u001B[49m\u001B[43mxgb_model\u001B[49m\u001B[38;5;241;43m=\u001B[39;49m\u001B[43mmodel\u001B[49m\u001B[43m,\u001B[49m\n\u001B[0;32m   1526\u001B[0m \u001B[43m    \u001B[49m\u001B[43mcallbacks\u001B[49m\u001B[38;5;241;43m=\u001B[39;49m\u001B[43mcallbacks\u001B[49m\u001B[43m,\u001B[49m\n\u001B[0;32m   1527\u001B[0m \u001B[43m\u001B[49m\u001B[43m)\u001B[49m\n\u001B[0;32m   1529\u001B[0m \u001B[38;5;28;01mif\u001B[39;00m \u001B[38;5;129;01mnot\u001B[39;00m \u001B[38;5;28mcallable\u001B[39m(\u001B[38;5;28mself\u001B[39m\u001B[38;5;241m.\u001B[39mobjective):\n\u001B[0;32m   1530\u001B[0m     \u001B[38;5;28mself\u001B[39m\u001B[38;5;241m.\u001B[39mobjective \u001B[38;5;241m=\u001B[39m params[\u001B[38;5;124m\"\u001B[39m\u001B[38;5;124mobjective\u001B[39m\u001B[38;5;124m\"\u001B[39m]\n",
      "File \u001B[1;32m~\\AppData\\Local\\Programs\\Python\\Python312\\Lib\\site-packages\\xgboost\\core.py:729\u001B[0m, in \u001B[0;36mrequire_keyword_args.<locals>.throw_if.<locals>.inner_f\u001B[1;34m(*args, **kwargs)\u001B[0m\n\u001B[0;32m    727\u001B[0m \u001B[38;5;28;01mfor\u001B[39;00m k, arg \u001B[38;5;129;01min\u001B[39;00m \u001B[38;5;28mzip\u001B[39m(sig\u001B[38;5;241m.\u001B[39mparameters, args):\n\u001B[0;32m    728\u001B[0m     kwargs[k] \u001B[38;5;241m=\u001B[39m arg\n\u001B[1;32m--> 729\u001B[0m \u001B[38;5;28;01mreturn\u001B[39;00m \u001B[43mfunc\u001B[49m\u001B[43m(\u001B[49m\u001B[38;5;241;43m*\u001B[39;49m\u001B[38;5;241;43m*\u001B[39;49m\u001B[43mkwargs\u001B[49m\u001B[43m)\u001B[49m\n",
      "File \u001B[1;32m~\\AppData\\Local\\Programs\\Python\\Python312\\Lib\\site-packages\\xgboost\\training.py:181\u001B[0m, in \u001B[0;36mtrain\u001B[1;34m(params, dtrain, num_boost_round, evals, obj, feval, maximize, early_stopping_rounds, evals_result, verbose_eval, xgb_model, callbacks, custom_metric)\u001B[0m\n\u001B[0;32m    179\u001B[0m \u001B[38;5;28;01mif\u001B[39;00m cb_container\u001B[38;5;241m.\u001B[39mbefore_iteration(bst, i, dtrain, evals):\n\u001B[0;32m    180\u001B[0m     \u001B[38;5;28;01mbreak\u001B[39;00m\n\u001B[1;32m--> 181\u001B[0m \u001B[43mbst\u001B[49m\u001B[38;5;241;43m.\u001B[39;49m\u001B[43mupdate\u001B[49m\u001B[43m(\u001B[49m\u001B[43mdtrain\u001B[49m\u001B[43m,\u001B[49m\u001B[43m \u001B[49m\u001B[43mi\u001B[49m\u001B[43m,\u001B[49m\u001B[43m \u001B[49m\u001B[43mobj\u001B[49m\u001B[43m)\u001B[49m\n\u001B[0;32m    182\u001B[0m \u001B[38;5;28;01mif\u001B[39;00m cb_container\u001B[38;5;241m.\u001B[39mafter_iteration(bst, i, dtrain, evals):\n\u001B[0;32m    183\u001B[0m     \u001B[38;5;28;01mbreak\u001B[39;00m\n",
      "File \u001B[1;32m~\\AppData\\Local\\Programs\\Python\\Python312\\Lib\\site-packages\\xgboost\\core.py:2050\u001B[0m, in \u001B[0;36mBooster.update\u001B[1;34m(self, dtrain, iteration, fobj)\u001B[0m\n\u001B[0;32m   2046\u001B[0m \u001B[38;5;28mself\u001B[39m\u001B[38;5;241m.\u001B[39m_assign_dmatrix_features(dtrain)\n\u001B[0;32m   2048\u001B[0m \u001B[38;5;28;01mif\u001B[39;00m fobj \u001B[38;5;129;01mis\u001B[39;00m \u001B[38;5;28;01mNone\u001B[39;00m:\n\u001B[0;32m   2049\u001B[0m     _check_call(\n\u001B[1;32m-> 2050\u001B[0m         \u001B[43m_LIB\u001B[49m\u001B[38;5;241;43m.\u001B[39;49m\u001B[43mXGBoosterUpdateOneIter\u001B[49m\u001B[43m(\u001B[49m\n\u001B[0;32m   2051\u001B[0m \u001B[43m            \u001B[49m\u001B[38;5;28;43mself\u001B[39;49m\u001B[38;5;241;43m.\u001B[39;49m\u001B[43mhandle\u001B[49m\u001B[43m,\u001B[49m\u001B[43m \u001B[49m\u001B[43mctypes\u001B[49m\u001B[38;5;241;43m.\u001B[39;49m\u001B[43mc_int\u001B[49m\u001B[43m(\u001B[49m\u001B[43miteration\u001B[49m\u001B[43m)\u001B[49m\u001B[43m,\u001B[49m\u001B[43m \u001B[49m\u001B[43mdtrain\u001B[49m\u001B[38;5;241;43m.\u001B[39;49m\u001B[43mhandle\u001B[49m\n\u001B[0;32m   2052\u001B[0m \u001B[43m        \u001B[49m\u001B[43m)\u001B[49m\n\u001B[0;32m   2053\u001B[0m     )\n\u001B[0;32m   2054\u001B[0m \u001B[38;5;28;01melse\u001B[39;00m:\n\u001B[0;32m   2055\u001B[0m     pred \u001B[38;5;241m=\u001B[39m \u001B[38;5;28mself\u001B[39m\u001B[38;5;241m.\u001B[39mpredict(dtrain, output_margin\u001B[38;5;241m=\u001B[39m\u001B[38;5;28;01mTrue\u001B[39;00m, training\u001B[38;5;241m=\u001B[39m\u001B[38;5;28;01mTrue\u001B[39;00m)\n",
      "\u001B[1;31mKeyboardInterrupt\u001B[0m: "
     ]
    }
   ],
   "source": [
    "from sklearn.model_selection import GridSearchCV\n",
    "\n",
    "param_grid = {\n",
    "    'learning_rate': [0.001, 0.01, 0.1, 1, 10, 100],\n",
    "    'max_depth': [2, 3, 4, 5, 6, 7, 8, 9, 10],\n",
    "    'n_estimators': [50, 100, 200, 300]\n",
    "}\n",
    "\n",
    "grid_search = GridSearchCV(XGBClassifier(), param_grid=param_grid, cv=5)\n",
    "grid_search.fit(X_train, y_train)\n",
    "\n",
    "best_params = grid_search.best_params_\n",
    "print(\"Best Hyperparameters:\", best_params)"
   ],
   "metadata": {
    "collapsed": false,
    "ExecuteTime": {
     "end_time": "2023-12-28T12:25:31.301593100Z",
     "start_time": "2023-12-28T12:21:19.499491400Z"
    }
   },
   "id": "669e3381cbb06c61"
  },
  {
   "cell_type": "code",
   "execution_count": null,
   "outputs": [],
   "source": [
    "best_model = grid_search.best_estimator_\n",
    "y_pred_tuned = best_model.predict(X_test)"
   ],
   "metadata": {
    "collapsed": false,
    "ExecuteTime": {
     "end_time": "2023-12-28T12:25:31.309592800Z",
     "start_time": "2023-12-28T12:25:31.308607300Z"
    }
   },
   "id": "a011d0f41d7550f6"
  },
  {
   "cell_type": "markdown",
   "source": [],
   "metadata": {
    "collapsed": false
   },
   "id": "cd49dc9855963cab"
  }
 ],
 "metadata": {
  "kernelspec": {
   "display_name": "Python 3",
   "language": "python",
   "name": "python3"
  },
  "language_info": {
   "codemirror_mode": {
    "name": "ipython",
    "version": 2
   },
   "file_extension": ".py",
   "mimetype": "text/x-python",
   "name": "python",
   "nbconvert_exporter": "python",
   "pygments_lexer": "ipython2",
   "version": "2.7.6"
  }
 },
 "nbformat": 4,
 "nbformat_minor": 5
}
