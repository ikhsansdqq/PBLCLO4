{
 "cells": [
  {
   "cell_type": "markdown",
   "metadata": {},
   "source": [
    "# DryBeanDataset\n",
    "\n",
    "The **XGBoost** and **Random Forest** models are employed for the classification of the DryBeanDataset, a tabular dataset representing various bean types. \n",
    "\n",
    "1. Ikhsan Assidiqie\n",
    "2. Zharfan Dawud Harwiraputera\n",
    "3. Helmi Wira Tahta Haikal"
   ]
  },
  {
   "cell_type": "markdown",
   "source": [
    "## Method Summary\n",
    "\n",
    "1. **XGBOOST** \n",
    "Known for its efficiency and accuracy, XGBoost is a gradient boosting algorithm that sequentially builds multiple decision trees and optimizes their collective predictive power. It's particularly effective for tabular data classification, making it well-suited for discerning different types of beans in the DryBeanDataset.\n",
    "\n",
    "2. **Random Forest** \n",
    "This model involves constructing multiple decision trees using random subsets of the training data. Each tree contributes to the final prediction, and the Random Forest model excels in handling complex datasets. In the context of DryBeanDataset, Random Forest proves valuable for accurate classification, leveraging the diversity of decision trees to enhance overall performance."
   ],
   "metadata": {
    "collapsed": false
   }
  },
  {
   "cell_type": "code",
   "execution_count": 31,
   "metadata": {
    "ExecuteTime": {
     "end_time": "2023-12-28T07:21:47.145058Z",
     "start_time": "2023-12-28T07:21:47.020548700Z"
    }
   },
   "outputs": [],
   "source": [
    "import numpy as np\n",
    "import pandas as pd\n",
    "import seaborn as sns\n",
    "import matplotlib.pyplot as plt\n",
    "%matplotlib inline\n",
    "\n",
    "import warnings\n",
    "warnings.filterwarnings('ignore')"
   ]
  },
  {
   "cell_type": "code",
   "execution_count": 32,
   "metadata": {
    "ExecuteTime": {
     "end_time": "2023-12-28T07:21:47.166054800Z",
     "start_time": "2023-12-28T07:21:47.025654Z"
    }
   },
   "outputs": [],
   "source": [
    "data = '../../data/raw/DryBeanDataset/Dry_Bean_Dataset.csv'"
   ]
  },
  {
   "cell_type": "code",
   "execution_count": 33,
   "metadata": {
    "ExecuteTime": {
     "end_time": "2023-12-28T07:21:47.253565900Z",
     "start_time": "2023-12-28T07:21:47.029169400Z"
    }
   },
   "outputs": [],
   "source": [
    "df = pd.read_csv(data, delimiter=';')"
   ]
  },
  {
   "cell_type": "code",
   "execution_count": 34,
   "metadata": {
    "ExecuteTime": {
     "end_time": "2023-12-28T07:21:47.255567300Z",
     "start_time": "2023-12-28T07:21:47.096055600Z"
    }
   },
   "outputs": [],
   "source": [
    "df = df.replace(',', '.', regex=True)"
   ]
  },
  {
   "cell_type": "code",
   "execution_count": 35,
   "metadata": {
    "ExecuteTime": {
     "end_time": "2023-12-28T07:21:47.255567300Z",
     "start_time": "2023-12-28T07:21:47.204697Z"
    }
   },
   "outputs": [
    {
     "data": {
      "text/plain": [
       "Index(['Area', 'Perimeter', 'MajorAxisLength', 'MinorAxisLength',\n",
       "       'AspectRation', 'Eccentricity', 'ConvexArea', 'EquivDiameter', 'Extent',\n",
       "       'Solidity', 'roundness', 'Compactness', 'ShapeFactor1', 'ShapeFactor2',\n",
       "       'ShapeFactor3', 'ShapeFactor4', 'Class'],\n",
       "      dtype='object')"
      ]
     },
     "execution_count": 35,
     "metadata": {},
     "output_type": "execute_result"
    }
   ],
   "source": [
    "df.columns"
   ]
  },
  {
   "cell_type": "code",
   "execution_count": 36,
   "metadata": {
    "ExecuteTime": {
     "end_time": "2023-12-28T07:21:47.255567300Z",
     "start_time": "2023-12-28T07:21:47.210744300Z"
    }
   },
   "outputs": [],
   "source": [
    "X = df.drop('Class', axis=1)\n",
    "y = df['Class']"
   ]
  },
  {
   "cell_type": "code",
   "execution_count": 37,
   "metadata": {
    "ExecuteTime": {
     "end_time": "2023-12-28T07:21:47.256568700Z",
     "start_time": "2023-12-28T07:21:47.217788200Z"
    }
   },
   "outputs": [
    {
     "data": {
      "text/plain": [
       "Area                int64\n",
       "Perimeter          object\n",
       "MajorAxisLength    object\n",
       "MinorAxisLength    object\n",
       "AspectRation       object\n",
       "Eccentricity       object\n",
       "ConvexArea          int64\n",
       "EquivDiameter      object\n",
       "Extent             object\n",
       "Solidity           object\n",
       "roundness          object\n",
       "Compactness        object\n",
       "ShapeFactor1       object\n",
       "ShapeFactor2       object\n",
       "ShapeFactor3       object\n",
       "ShapeFactor4       object\n",
       "dtype: object"
      ]
     },
     "execution_count": 37,
     "metadata": {},
     "output_type": "execute_result"
    }
   ],
   "source": [
    "X.dtypes"
   ]
  },
  {
   "cell_type": "code",
   "execution_count": 38,
   "metadata": {
    "ExecuteTime": {
     "end_time": "2023-12-28T07:21:47.271789300Z",
     "start_time": "2023-12-28T07:21:47.223567100Z"
    }
   },
   "outputs": [],
   "source": [
    "X[['Perimeter', 'MajorAxisLength', 'MinorAxisLength', 'AspectRation', 'Eccentricity', 'EquivDiameter', 'Extent', 'Solidity', 'roundness', 'Compactness', 'ShapeFactor1', 'ShapeFactor2', 'ShapeFactor3', 'ShapeFactor4']] = X[ ['Perimeter', 'MajorAxisLength', 'MinorAxisLength', 'AspectRation', 'Eccentricity', 'EquivDiameter', 'Extent', 'Solidity', 'roundness', 'Compactness', 'ShapeFactor1', 'ShapeFactor2', 'ShapeFactor3', 'ShapeFactor4']].astype(float)"
   ]
  },
  {
   "cell_type": "code",
   "execution_count": 39,
   "metadata": {
    "ExecuteTime": {
     "end_time": "2023-12-28T07:21:47.272793700Z",
     "start_time": "2023-12-28T07:21:47.266917800Z"
    }
   },
   "outputs": [
    {
     "data": {
      "text/plain": [
       "Area                 int64\n",
       "Perimeter          float64\n",
       "MajorAxisLength    float64\n",
       "MinorAxisLength    float64\n",
       "AspectRation       float64\n",
       "Eccentricity       float64\n",
       "ConvexArea           int64\n",
       "EquivDiameter      float64\n",
       "Extent             float64\n",
       "Solidity           float64\n",
       "roundness          float64\n",
       "Compactness        float64\n",
       "ShapeFactor1       float64\n",
       "ShapeFactor2       float64\n",
       "ShapeFactor3       float64\n",
       "ShapeFactor4       float64\n",
       "dtype: object"
      ]
     },
     "execution_count": 39,
     "metadata": {},
     "output_type": "execute_result"
    }
   ],
   "source": [
    "X.dtypes"
   ]
  },
  {
   "cell_type": "code",
   "execution_count": 40,
   "metadata": {
    "ExecuteTime": {
     "end_time": "2023-12-28T07:21:47.283245500Z",
     "start_time": "2023-12-28T07:21:47.272793700Z"
    }
   },
   "outputs": [
    {
     "data": {
      "text/plain": [
       "(13611, 17)"
      ]
     },
     "execution_count": 40,
     "metadata": {},
     "output_type": "execute_result"
    }
   ],
   "source": [
    "df.shape"
   ]
  },
  {
   "cell_type": "code",
   "execution_count": 41,
   "metadata": {
    "ExecuteTime": {
     "end_time": "2023-12-28T07:21:47.327994500Z",
     "start_time": "2023-12-28T07:21:47.278242300Z"
    }
   },
   "outputs": [
    {
     "data": {
      "text/html": [
       "<div>\n",
       "<style scoped>\n",
       "    .dataframe tbody tr th:only-of-type {\n",
       "        vertical-align: middle;\n",
       "    }\n",
       "\n",
       "    .dataframe tbody tr th {\n",
       "        vertical-align: top;\n",
       "    }\n",
       "\n",
       "    .dataframe thead th {\n",
       "        text-align: right;\n",
       "    }\n",
       "</style>\n",
       "<table border=\"1\" class=\"dataframe\">\n",
       "  <thead>\n",
       "    <tr style=\"text-align: right;\">\n",
       "      <th></th>\n",
       "      <th>Area</th>\n",
       "      <th>Perimeter</th>\n",
       "      <th>MajorAxisLength</th>\n",
       "      <th>MinorAxisLength</th>\n",
       "      <th>AspectRation</th>\n",
       "      <th>Eccentricity</th>\n",
       "      <th>ConvexArea</th>\n",
       "      <th>EquivDiameter</th>\n",
       "      <th>Extent</th>\n",
       "      <th>Solidity</th>\n",
       "      <th>roundness</th>\n",
       "      <th>Compactness</th>\n",
       "      <th>ShapeFactor1</th>\n",
       "      <th>ShapeFactor2</th>\n",
       "      <th>ShapeFactor3</th>\n",
       "      <th>ShapeFactor4</th>\n",
       "      <th>Class</th>\n",
       "    </tr>\n",
       "  </thead>\n",
       "  <tbody>\n",
       "    <tr>\n",
       "      <th>0</th>\n",
       "      <td>28395</td>\n",
       "      <td>610.291</td>\n",
       "      <td>208.1781167</td>\n",
       "      <td>173.888747</td>\n",
       "      <td>1.197191424</td>\n",
       "      <td>0.549812187</td>\n",
       "      <td>28715</td>\n",
       "      <td>190.1410973</td>\n",
       "      <td>0.763922518</td>\n",
       "      <td>0.988855999</td>\n",
       "      <td>0.958027126</td>\n",
       "      <td>0.913357755</td>\n",
       "      <td>0.007331506</td>\n",
       "      <td>0.003147289</td>\n",
       "      <td>0.834222388</td>\n",
       "      <td>0.998723889</td>\n",
       "      <td>SEKER</td>\n",
       "    </tr>\n",
       "    <tr>\n",
       "      <th>1</th>\n",
       "      <td>28734</td>\n",
       "      <td>638.018</td>\n",
       "      <td>200.5247957</td>\n",
       "      <td>182.7344194</td>\n",
       "      <td>1.097356461</td>\n",
       "      <td>0.411785251</td>\n",
       "      <td>29172</td>\n",
       "      <td>191.2727505</td>\n",
       "      <td>0.783968133</td>\n",
       "      <td>0.984985603</td>\n",
       "      <td>0.887033637</td>\n",
       "      <td>0.953860842</td>\n",
       "      <td>0.006978659</td>\n",
       "      <td>0.003563624</td>\n",
       "      <td>0.909850506</td>\n",
       "      <td>0.998430331</td>\n",
       "      <td>SEKER</td>\n",
       "    </tr>\n",
       "    <tr>\n",
       "      <th>2</th>\n",
       "      <td>29380</td>\n",
       "      <td>624.11</td>\n",
       "      <td>212.8261299</td>\n",
       "      <td>175.9311426</td>\n",
       "      <td>1.209712656</td>\n",
       "      <td>0.562727317</td>\n",
       "      <td>29690</td>\n",
       "      <td>193.4109041</td>\n",
       "      <td>0.778113248</td>\n",
       "      <td>0.989558774</td>\n",
       "      <td>0.947849473</td>\n",
       "      <td>0.908774239</td>\n",
       "      <td>0.007243912</td>\n",
       "      <td>0.003047733</td>\n",
       "      <td>0.825870617</td>\n",
       "      <td>0.999066137</td>\n",
       "      <td>SEKER</td>\n",
       "    </tr>\n",
       "    <tr>\n",
       "      <th>3</th>\n",
       "      <td>30008</td>\n",
       "      <td>645.884</td>\n",
       "      <td>210.557999</td>\n",
       "      <td>182.5165157</td>\n",
       "      <td>1.153638059</td>\n",
       "      <td>0.498615976</td>\n",
       "      <td>30724</td>\n",
       "      <td>195.4670618</td>\n",
       "      <td>0.782681273</td>\n",
       "      <td>0.976695743</td>\n",
       "      <td>0.903936374</td>\n",
       "      <td>0.928328835</td>\n",
       "      <td>0.007016729</td>\n",
       "      <td>0.003214562</td>\n",
       "      <td>0.861794425</td>\n",
       "      <td>0.994198849</td>\n",
       "      <td>SEKER</td>\n",
       "    </tr>\n",
       "    <tr>\n",
       "      <th>4</th>\n",
       "      <td>30140</td>\n",
       "      <td>620.134</td>\n",
       "      <td>201.8478822</td>\n",
       "      <td>190.2792788</td>\n",
       "      <td>1.06079802</td>\n",
       "      <td>0.333679658</td>\n",
       "      <td>30417</td>\n",
       "      <td>195.896503</td>\n",
       "      <td>0.773098035</td>\n",
       "      <td>0.99089325</td>\n",
       "      <td>0.984877069</td>\n",
       "      <td>0.970515523</td>\n",
       "      <td>0.00669701</td>\n",
       "      <td>0.003664972</td>\n",
       "      <td>0.941900381</td>\n",
       "      <td>0.999166059</td>\n",
       "      <td>SEKER</td>\n",
       "    </tr>\n",
       "  </tbody>\n",
       "</table>\n",
       "</div>"
      ],
      "text/plain": [
       "    Area Perimeter MajorAxisLength MinorAxisLength AspectRation Eccentricity  \\\n",
       "0  28395   610.291     208.1781167      173.888747  1.197191424  0.549812187   \n",
       "1  28734   638.018     200.5247957     182.7344194  1.097356461  0.411785251   \n",
       "2  29380    624.11     212.8261299     175.9311426  1.209712656  0.562727317   \n",
       "3  30008   645.884      210.557999     182.5165157  1.153638059  0.498615976   \n",
       "4  30140   620.134     201.8478822     190.2792788   1.06079802  0.333679658   \n",
       "\n",
       "   ConvexArea EquivDiameter       Extent     Solidity    roundness  \\\n",
       "0       28715   190.1410973  0.763922518  0.988855999  0.958027126   \n",
       "1       29172   191.2727505  0.783968133  0.984985603  0.887033637   \n",
       "2       29690   193.4109041  0.778113248  0.989558774  0.947849473   \n",
       "3       30724   195.4670618  0.782681273  0.976695743  0.903936374   \n",
       "4       30417    195.896503  0.773098035   0.99089325  0.984877069   \n",
       "\n",
       "   Compactness ShapeFactor1 ShapeFactor2 ShapeFactor3 ShapeFactor4  Class  \n",
       "0  0.913357755  0.007331506  0.003147289  0.834222388  0.998723889  SEKER  \n",
       "1  0.953860842  0.006978659  0.003563624  0.909850506  0.998430331  SEKER  \n",
       "2  0.908774239  0.007243912  0.003047733  0.825870617  0.999066137  SEKER  \n",
       "3  0.928328835  0.007016729  0.003214562  0.861794425  0.994198849  SEKER  \n",
       "4  0.970515523   0.00669701  0.003664972  0.941900381  0.999166059  SEKER  "
      ]
     },
     "execution_count": 41,
     "metadata": {},
     "output_type": "execute_result"
    }
   ],
   "source": [
    "df.head()"
   ]
  },
  {
   "cell_type": "code",
   "execution_count": 42,
   "metadata": {
    "ExecuteTime": {
     "end_time": "2023-12-28T07:21:47.328993800Z",
     "start_time": "2023-12-28T07:21:47.290188300Z"
    }
   },
   "outputs": [
    {
     "data": {
      "text/plain": [
       "(13611, 16)"
      ]
     },
     "execution_count": 42,
     "metadata": {},
     "output_type": "execute_result"
    }
   ],
   "source": [
    "X.shape"
   ]
  },
  {
   "cell_type": "code",
   "execution_count": 43,
   "metadata": {
    "ExecuteTime": {
     "end_time": "2023-12-28T07:21:47.329992400Z",
     "start_time": "2023-12-28T07:21:47.296167900Z"
    }
   },
   "outputs": [
    {
     "data": {
      "text/html": [
       "<div>\n",
       "<style scoped>\n",
       "    .dataframe tbody tr th:only-of-type {\n",
       "        vertical-align: middle;\n",
       "    }\n",
       "\n",
       "    .dataframe tbody tr th {\n",
       "        vertical-align: top;\n",
       "    }\n",
       "\n",
       "    .dataframe thead th {\n",
       "        text-align: right;\n",
       "    }\n",
       "</style>\n",
       "<table border=\"1\" class=\"dataframe\">\n",
       "  <thead>\n",
       "    <tr style=\"text-align: right;\">\n",
       "      <th></th>\n",
       "      <th>Area</th>\n",
       "      <th>Perimeter</th>\n",
       "      <th>MajorAxisLength</th>\n",
       "      <th>MinorAxisLength</th>\n",
       "      <th>AspectRation</th>\n",
       "      <th>Eccentricity</th>\n",
       "      <th>ConvexArea</th>\n",
       "      <th>EquivDiameter</th>\n",
       "      <th>Extent</th>\n",
       "      <th>Solidity</th>\n",
       "      <th>roundness</th>\n",
       "      <th>Compactness</th>\n",
       "      <th>ShapeFactor1</th>\n",
       "      <th>ShapeFactor2</th>\n",
       "      <th>ShapeFactor3</th>\n",
       "      <th>ShapeFactor4</th>\n",
       "    </tr>\n",
       "  </thead>\n",
       "  <tbody>\n",
       "    <tr>\n",
       "      <th>0</th>\n",
       "      <td>28395</td>\n",
       "      <td>610.291</td>\n",
       "      <td>208.178117</td>\n",
       "      <td>173.888747</td>\n",
       "      <td>1.197191</td>\n",
       "      <td>0.549812</td>\n",
       "      <td>28715</td>\n",
       "      <td>190.141097</td>\n",
       "      <td>0.763923</td>\n",
       "      <td>0.988856</td>\n",
       "      <td>0.958027</td>\n",
       "      <td>0.913358</td>\n",
       "      <td>0.007332</td>\n",
       "      <td>0.003147</td>\n",
       "      <td>0.834222</td>\n",
       "      <td>0.998724</td>\n",
       "    </tr>\n",
       "    <tr>\n",
       "      <th>1</th>\n",
       "      <td>28734</td>\n",
       "      <td>638.018</td>\n",
       "      <td>200.524796</td>\n",
       "      <td>182.734419</td>\n",
       "      <td>1.097356</td>\n",
       "      <td>0.411785</td>\n",
       "      <td>29172</td>\n",
       "      <td>191.272751</td>\n",
       "      <td>0.783968</td>\n",
       "      <td>0.984986</td>\n",
       "      <td>0.887034</td>\n",
       "      <td>0.953861</td>\n",
       "      <td>0.006979</td>\n",
       "      <td>0.003564</td>\n",
       "      <td>0.909851</td>\n",
       "      <td>0.998430</td>\n",
       "    </tr>\n",
       "    <tr>\n",
       "      <th>2</th>\n",
       "      <td>29380</td>\n",
       "      <td>624.110</td>\n",
       "      <td>212.826130</td>\n",
       "      <td>175.931143</td>\n",
       "      <td>1.209713</td>\n",
       "      <td>0.562727</td>\n",
       "      <td>29690</td>\n",
       "      <td>193.410904</td>\n",
       "      <td>0.778113</td>\n",
       "      <td>0.989559</td>\n",
       "      <td>0.947849</td>\n",
       "      <td>0.908774</td>\n",
       "      <td>0.007244</td>\n",
       "      <td>0.003048</td>\n",
       "      <td>0.825871</td>\n",
       "      <td>0.999066</td>\n",
       "    </tr>\n",
       "    <tr>\n",
       "      <th>3</th>\n",
       "      <td>30008</td>\n",
       "      <td>645.884</td>\n",
       "      <td>210.557999</td>\n",
       "      <td>182.516516</td>\n",
       "      <td>1.153638</td>\n",
       "      <td>0.498616</td>\n",
       "      <td>30724</td>\n",
       "      <td>195.467062</td>\n",
       "      <td>0.782681</td>\n",
       "      <td>0.976696</td>\n",
       "      <td>0.903936</td>\n",
       "      <td>0.928329</td>\n",
       "      <td>0.007017</td>\n",
       "      <td>0.003215</td>\n",
       "      <td>0.861794</td>\n",
       "      <td>0.994199</td>\n",
       "    </tr>\n",
       "    <tr>\n",
       "      <th>4</th>\n",
       "      <td>30140</td>\n",
       "      <td>620.134</td>\n",
       "      <td>201.847882</td>\n",
       "      <td>190.279279</td>\n",
       "      <td>1.060798</td>\n",
       "      <td>0.333680</td>\n",
       "      <td>30417</td>\n",
       "      <td>195.896503</td>\n",
       "      <td>0.773098</td>\n",
       "      <td>0.990893</td>\n",
       "      <td>0.984877</td>\n",
       "      <td>0.970516</td>\n",
       "      <td>0.006697</td>\n",
       "      <td>0.003665</td>\n",
       "      <td>0.941900</td>\n",
       "      <td>0.999166</td>\n",
       "    </tr>\n",
       "  </tbody>\n",
       "</table>\n",
       "</div>"
      ],
      "text/plain": [
       "    Area  Perimeter  MajorAxisLength  MinorAxisLength  AspectRation  \\\n",
       "0  28395    610.291       208.178117       173.888747      1.197191   \n",
       "1  28734    638.018       200.524796       182.734419      1.097356   \n",
       "2  29380    624.110       212.826130       175.931143      1.209713   \n",
       "3  30008    645.884       210.557999       182.516516      1.153638   \n",
       "4  30140    620.134       201.847882       190.279279      1.060798   \n",
       "\n",
       "   Eccentricity  ConvexArea  EquivDiameter    Extent  Solidity  roundness  \\\n",
       "0      0.549812       28715     190.141097  0.763923  0.988856   0.958027   \n",
       "1      0.411785       29172     191.272751  0.783968  0.984986   0.887034   \n",
       "2      0.562727       29690     193.410904  0.778113  0.989559   0.947849   \n",
       "3      0.498616       30724     195.467062  0.782681  0.976696   0.903936   \n",
       "4      0.333680       30417     195.896503  0.773098  0.990893   0.984877   \n",
       "\n",
       "   Compactness  ShapeFactor1  ShapeFactor2  ShapeFactor3  ShapeFactor4  \n",
       "0     0.913358      0.007332      0.003147      0.834222      0.998724  \n",
       "1     0.953861      0.006979      0.003564      0.909851      0.998430  \n",
       "2     0.908774      0.007244      0.003048      0.825871      0.999066  \n",
       "3     0.928329      0.007017      0.003215      0.861794      0.994199  \n",
       "4     0.970516      0.006697      0.003665      0.941900      0.999166  "
      ]
     },
     "execution_count": 43,
     "metadata": {},
     "output_type": "execute_result"
    }
   ],
   "source": [
    "X.head()"
   ]
  },
  {
   "cell_type": "code",
   "execution_count": 44,
   "metadata": {
    "ExecuteTime": {
     "end_time": "2023-12-28T07:21:47.330993600Z",
     "start_time": "2023-12-28T07:21:47.310251200Z"
    }
   },
   "outputs": [
    {
     "name": "stdout",
     "output_type": "stream",
     "text": [
      "<class 'pandas.core.frame.DataFrame'>\n",
      "RangeIndex: 13611 entries, 0 to 13610\n",
      "Data columns (total 17 columns):\n",
      " #   Column           Non-Null Count  Dtype \n",
      "---  ------           --------------  ----- \n",
      " 0   Area             13611 non-null  int64 \n",
      " 1   Perimeter        13611 non-null  object\n",
      " 2   MajorAxisLength  13611 non-null  object\n",
      " 3   MinorAxisLength  13611 non-null  object\n",
      " 4   AspectRation     13611 non-null  object\n",
      " 5   Eccentricity     13611 non-null  object\n",
      " 6   ConvexArea       13611 non-null  int64 \n",
      " 7   EquivDiameter    13611 non-null  object\n",
      " 8   Extent           13611 non-null  object\n",
      " 9   Solidity         13611 non-null  object\n",
      " 10  roundness        13611 non-null  object\n",
      " 11  Compactness      13611 non-null  object\n",
      " 12  ShapeFactor1     13611 non-null  object\n",
      " 13  ShapeFactor2     13611 non-null  object\n",
      " 14  ShapeFactor3     13611 non-null  object\n",
      " 15  ShapeFactor4     13611 non-null  object\n",
      " 16  Class            13611 non-null  object\n",
      "dtypes: int64(2), object(15)\n",
      "memory usage: 1.8+ MB\n"
     ]
    }
   ],
   "source": [
    "df.info()"
   ]
  },
  {
   "cell_type": "code",
   "execution_count": 45,
   "metadata": {
    "ExecuteTime": {
     "end_time": "2023-12-28T07:21:47.346543Z",
     "start_time": "2023-12-28T07:21:47.323843500Z"
    }
   },
   "outputs": [
    {
     "data": {
      "text/plain": [
       "Index(['Area', 'Perimeter', 'MajorAxisLength', 'MinorAxisLength',\n",
       "       'AspectRation', 'Eccentricity', 'ConvexArea', 'EquivDiameter', 'Extent',\n",
       "       'Solidity', 'roundness', 'Compactness', 'ShapeFactor1', 'ShapeFactor2',\n",
       "       'ShapeFactor3', 'ShapeFactor4', 'Class'],\n",
       "      dtype='object')"
      ]
     },
     "execution_count": 45,
     "metadata": {},
     "output_type": "execute_result"
    }
   ],
   "source": [
    "df.columns"
   ]
  },
  {
   "cell_type": "code",
   "execution_count": 46,
   "metadata": {
    "ExecuteTime": {
     "end_time": "2023-12-28T07:21:47.351784600Z",
     "start_time": "2023-12-28T07:21:47.328993800Z"
    }
   },
   "outputs": [
    {
     "data": {
      "text/plain": [
       "Index(['Area', 'Perimeter', 'MajorAxisLength', 'MinorAxisLength',\n",
       "       'AspectRation', 'Eccentricity', 'ConvexArea', 'EquivDiameter', 'Extent',\n",
       "       'Solidity', 'roundness', 'Compactness', 'ShapeFactor1', 'ShapeFactor2',\n",
       "       'ShapeFactor3', 'ShapeFactor4'],\n",
       "      dtype='object')"
      ]
     },
     "execution_count": 46,
     "metadata": {},
     "output_type": "execute_result"
    }
   ],
   "source": [
    "X.columns"
   ]
  },
  {
   "cell_type": "code",
   "execution_count": 47,
   "metadata": {
    "ExecuteTime": {
     "end_time": "2023-12-28T07:21:47.362801100Z",
     "start_time": "2023-12-28T07:21:47.335544200Z"
    }
   },
   "outputs": [
    {
     "name": "stdout",
     "output_type": "stream",
     "text": [
      "Area               0\n",
      "Perimeter          0\n",
      "MajorAxisLength    0\n",
      "MinorAxisLength    0\n",
      "AspectRation       0\n",
      "Eccentricity       0\n",
      "ConvexArea         0\n",
      "EquivDiameter      0\n",
      "Extent             0\n",
      "Solidity           0\n",
      "roundness          0\n",
      "Compactness        0\n",
      "ShapeFactor1       0\n",
      "ShapeFactor2       0\n",
      "ShapeFactor3       0\n",
      "ShapeFactor4       0\n",
      "Class              0\n",
      "dtype: int64\n",
      "\n",
      "Clean data.\n"
     ]
    }
   ],
   "source": [
    "if (df.isnull().sum() == 0).all():\n",
    "    print(df.isnull().sum())\n",
    "    print(\"\\nClean data.\")\n",
    "else:\n",
    "    print(\"Data contains null values\")"
   ]
  },
  {
   "cell_type": "code",
   "execution_count": 48,
   "metadata": {
    "ExecuteTime": {
     "end_time": "2023-12-28T07:21:47.364809600Z",
     "start_time": "2023-12-28T07:21:47.353020900Z"
    }
   },
   "outputs": [],
   "source": [
    "from sklearn.model_selection import train_test_split\n",
    "from sklearn.preprocessing import StandardScaler"
   ]
  },
  {
   "cell_type": "code",
   "execution_count": 49,
   "metadata": {
    "ExecuteTime": {
     "end_time": "2023-12-28T07:21:47.440668900Z",
     "start_time": "2023-12-28T07:21:47.356536100Z"
    }
   },
   "outputs": [],
   "source": [
    "X_train, X_test, y_train, y_test = train_test_split(X, y, test_size=0.33, random_state=42)"
   ]
  },
  {
   "cell_type": "code",
   "execution_count": 50,
   "metadata": {
    "ExecuteTime": {
     "end_time": "2023-12-28T07:21:47.441669300Z",
     "start_time": "2023-12-28T07:21:47.366809Z"
    }
   },
   "outputs": [
    {
     "data": {
      "text/plain": [
       "((9119, 16), (4492, 16))"
      ]
     },
     "execution_count": 50,
     "metadata": {},
     "output_type": "execute_result"
    }
   ],
   "source": [
    "X_train.shape, X_test.shape"
   ]
  },
  {
   "cell_type": "markdown",
   "metadata": {},
   "source": [
    "### Feature Engineering"
   ]
  },
  {
   "cell_type": "code",
   "execution_count": 51,
   "metadata": {
    "ExecuteTime": {
     "end_time": "2023-12-28T07:21:47.469668600Z",
     "start_time": "2023-12-28T07:21:47.370832800Z"
    }
   },
   "outputs": [
    {
     "data": {
      "text/html": [
       "<div>\n",
       "<style scoped>\n",
       "    .dataframe tbody tr th:only-of-type {\n",
       "        vertical-align: middle;\n",
       "    }\n",
       "\n",
       "    .dataframe tbody tr th {\n",
       "        vertical-align: top;\n",
       "    }\n",
       "\n",
       "    .dataframe thead th {\n",
       "        text-align: right;\n",
       "    }\n",
       "</style>\n",
       "<table border=\"1\" class=\"dataframe\">\n",
       "  <thead>\n",
       "    <tr style=\"text-align: right;\">\n",
       "      <th></th>\n",
       "      <th>Area</th>\n",
       "      <th>Perimeter</th>\n",
       "      <th>MajorAxisLength</th>\n",
       "      <th>MinorAxisLength</th>\n",
       "      <th>AspectRation</th>\n",
       "      <th>Eccentricity</th>\n",
       "      <th>ConvexArea</th>\n",
       "      <th>EquivDiameter</th>\n",
       "      <th>Extent</th>\n",
       "      <th>Solidity</th>\n",
       "      <th>roundness</th>\n",
       "      <th>Compactness</th>\n",
       "      <th>ShapeFactor1</th>\n",
       "      <th>ShapeFactor2</th>\n",
       "      <th>ShapeFactor3</th>\n",
       "      <th>ShapeFactor4</th>\n",
       "    </tr>\n",
       "  </thead>\n",
       "  <tbody>\n",
       "    <tr>\n",
       "      <th>9480</th>\n",
       "      <td>48233</td>\n",
       "      <td>837.447</td>\n",
       "      <td>323.237083</td>\n",
       "      <td>191.463072</td>\n",
       "      <td>1.688248</td>\n",
       "      <td>0.805695</td>\n",
       "      <td>48934</td>\n",
       "      <td>247.814775</td>\n",
       "      <td>0.695401</td>\n",
       "      <td>0.985675</td>\n",
       "      <td>0.864250</td>\n",
       "      <td>0.766666</td>\n",
       "      <td>0.006702</td>\n",
       "      <td>0.001428</td>\n",
       "      <td>0.587776</td>\n",
       "      <td>0.992312</td>\n",
       "    </tr>\n",
       "    <tr>\n",
       "      <th>6775</th>\n",
       "      <td>56733</td>\n",
       "      <td>923.164</td>\n",
       "      <td>363.198193</td>\n",
       "      <td>200.095054</td>\n",
       "      <td>1.815128</td>\n",
       "      <td>0.834555</td>\n",
       "      <td>57297</td>\n",
       "      <td>268.765137</td>\n",
       "      <td>0.815821</td>\n",
       "      <td>0.990157</td>\n",
       "      <td>0.836542</td>\n",
       "      <td>0.739996</td>\n",
       "      <td>0.006402</td>\n",
       "      <td>0.001184</td>\n",
       "      <td>0.547594</td>\n",
       "      <td>0.993953</td>\n",
       "    </tr>\n",
       "    <tr>\n",
       "      <th>5766</th>\n",
       "      <td>45666</td>\n",
       "      <td>870.017</td>\n",
       "      <td>350.539258</td>\n",
       "      <td>166.393795</td>\n",
       "      <td>2.106685</td>\n",
       "      <td>0.880159</td>\n",
       "      <td>46356</td>\n",
       "      <td>241.130166</td>\n",
       "      <td>0.613016</td>\n",
       "      <td>0.985115</td>\n",
       "      <td>0.758136</td>\n",
       "      <td>0.687883</td>\n",
       "      <td>0.007676</td>\n",
       "      <td>0.001060</td>\n",
       "      <td>0.473184</td>\n",
       "      <td>0.996849</td>\n",
       "    </tr>\n",
       "    <tr>\n",
       "      <th>227</th>\n",
       "      <td>34623</td>\n",
       "      <td>675.213</td>\n",
       "      <td>228.194371</td>\n",
       "      <td>193.503300</td>\n",
       "      <td>1.179279</td>\n",
       "      <td>0.530035</td>\n",
       "      <td>34965</td>\n",
       "      <td>209.960408</td>\n",
       "      <td>0.759576</td>\n",
       "      <td>0.990219</td>\n",
       "      <td>0.954318</td>\n",
       "      <td>0.920095</td>\n",
       "      <td>0.006591</td>\n",
       "      <td>0.002914</td>\n",
       "      <td>0.846574</td>\n",
       "      <td>0.998347</td>\n",
       "    </tr>\n",
       "    <tr>\n",
       "      <th>7113</th>\n",
       "      <td>60716</td>\n",
       "      <td>984.188</td>\n",
       "      <td>404.263088</td>\n",
       "      <td>192.452036</td>\n",
       "      <td>2.100591</td>\n",
       "      <td>0.879415</td>\n",
       "      <td>61532</td>\n",
       "      <td>278.039587</td>\n",
       "      <td>0.819291</td>\n",
       "      <td>0.986739</td>\n",
       "      <td>0.787693</td>\n",
       "      <td>0.687769</td>\n",
       "      <td>0.006658</td>\n",
       "      <td>0.000919</td>\n",
       "      <td>0.473026</td>\n",
       "      <td>0.993635</td>\n",
       "    </tr>\n",
       "  </tbody>\n",
       "</table>\n",
       "</div>"
      ],
      "text/plain": [
       "       Area  Perimeter  MajorAxisLength  MinorAxisLength  AspectRation  \\\n",
       "9480  48233    837.447       323.237083       191.463072      1.688248   \n",
       "6775  56733    923.164       363.198193       200.095054      1.815128   \n",
       "5766  45666    870.017       350.539258       166.393795      2.106685   \n",
       "227   34623    675.213       228.194371       193.503300      1.179279   \n",
       "7113  60716    984.188       404.263088       192.452036      2.100591   \n",
       "\n",
       "      Eccentricity  ConvexArea  EquivDiameter    Extent  Solidity  roundness  \\\n",
       "9480      0.805695       48934     247.814775  0.695401  0.985675   0.864250   \n",
       "6775      0.834555       57297     268.765137  0.815821  0.990157   0.836542   \n",
       "5766      0.880159       46356     241.130166  0.613016  0.985115   0.758136   \n",
       "227       0.530035       34965     209.960408  0.759576  0.990219   0.954318   \n",
       "7113      0.879415       61532     278.039587  0.819291  0.986739   0.787693   \n",
       "\n",
       "      Compactness  ShapeFactor1  ShapeFactor2  ShapeFactor3  ShapeFactor4  \n",
       "9480     0.766666      0.006702      0.001428      0.587776      0.992312  \n",
       "6775     0.739996      0.006402      0.001184      0.547594      0.993953  \n",
       "5766     0.687883      0.007676      0.001060      0.473184      0.996849  \n",
       "227      0.920095      0.006591      0.002914      0.846574      0.998347  \n",
       "7113     0.687769      0.006658      0.000919      0.473026      0.993635  "
      ]
     },
     "execution_count": 51,
     "metadata": {},
     "output_type": "execute_result"
    }
   ],
   "source": [
    "X_train.head()"
   ]
  },
  {
   "cell_type": "code",
   "execution_count": 52,
   "metadata": {
    "ExecuteTime": {
     "end_time": "2023-12-28T07:21:47.533669600Z",
     "start_time": "2023-12-28T07:21:47.382813400Z"
    }
   },
   "outputs": [],
   "source": [
    "sta = StandardScaler()\n",
    "X_train = sta.fit_transform(X_train)\n",
    "X_test = sta.transform(X_test)"
   ]
  },
  {
   "cell_type": "code",
   "execution_count": 53,
   "metadata": {
    "ExecuteTime": {
     "end_time": "2023-12-28T07:21:47.545670100Z",
     "start_time": "2023-12-28T07:21:47.394158100Z"
    }
   },
   "outputs": [],
   "source": [
    "from sklearn.metrics import classification_report\n",
    "from sklearn.ensemble import RandomForestClassifier"
   ]
  },
  {
   "cell_type": "code",
   "execution_count": 54,
   "metadata": {
    "ExecuteTime": {
     "end_time": "2023-12-28T07:21:54.780944900Z",
     "start_time": "2023-12-28T07:21:47.397672800Z"
    }
   },
   "outputs": [
    {
     "name": "stdout",
     "output_type": "stream",
     "text": [
      "Random Forest with Entropy (Random State 100):\n",
      "              precision    recall  f1-score   support\n",
      "\n",
      "    BARBUNYA       0.94      0.91      0.92       450\n",
      "      BOMBAY       1.00      0.99      1.00       178\n",
      "        CALI       0.94      0.93      0.93       528\n",
      "    DERMASON       0.90      0.92      0.91      1155\n",
      "       HOROZ       0.97      0.95      0.96       638\n",
      "       SEKER       0.95      0.94      0.95       664\n",
      "        SIRA       0.87      0.87      0.87       879\n",
      "\n",
      "    accuracy                           0.92      4492\n",
      "   macro avg       0.94      0.93      0.93      4492\n",
      "weighted avg       0.92      0.92      0.92      4492\n"
     ]
    }
   ],
   "source": [
    "rfc_entropy_100 = RandomForestClassifier(criterion='entropy', random_state=100)\n",
    "\n",
    "# Train the classifier on the training data\n",
    "rfc_entropy_100.fit(X_train, y_train)\n",
    "\n",
    "# Make predictions on the test data\n",
    "y_pred_test_entropy_100 = rfc_entropy_100.predict(X_test)\n",
    "\n",
    "# Print the classification report comparing the true labels (y_test) with the predicted labels (y_pred_test_entropy_100)\n",
    "print(\"Random Forest with Entropy (Random State 100):\")\n",
    "print(classification_report(y_test, y_pred_test_entropy_100))"
   ]
  },
  {
   "cell_type": "code",
   "execution_count": 55,
   "metadata": {
    "ExecuteTime": {
     "end_time": "2023-12-28T07:22:01.340706Z",
     "start_time": "2023-12-28T07:21:54.776944800Z"
    }
   },
   "outputs": [
    {
     "name": "stdout",
     "output_type": "stream",
     "text": [
      "\n",
      "Random Forest with Gini Index (Random State 42):\n",
      "              precision    recall  f1-score   support\n",
      "\n",
      "    BARBUNYA       0.94      0.90      0.92       450\n",
      "      BOMBAY       1.00      0.99      1.00       178\n",
      "        CALI       0.93      0.94      0.93       528\n",
      "    DERMASON       0.90      0.93      0.91      1155\n",
      "       HOROZ       0.96      0.95      0.96       638\n",
      "       SEKER       0.94      0.94      0.94       664\n",
      "        SIRA       0.88      0.87      0.88       879\n",
      "\n",
      "    accuracy                           0.92      4492\n",
      "   macro avg       0.94      0.93      0.93      4492\n",
      "weighted avg       0.92      0.92      0.92      4492\n"
     ]
    }
   ],
   "source": [
    "# Create another RandomForestClassifier with the Gini Index as the splitting criterion and random_state set to 42\n",
    "rfc_gini_42 = RandomForestClassifier(criterion='gini', random_state=42)\n",
    "\n",
    "# Train the classifier on the training data\n",
    "rfc_gini_42.fit(X_train, y_train)\n",
    "\n",
    "# Make predictions on the test data\n",
    "y_pred_test_gini_42 = rfc_gini_42.predict(X_test)\n",
    "\n",
    "# Print the classification report comparing the true labels (y_test) with the predicted labels (y_pred_test_gini_42)\n",
    "print(\"\\nRandom Forest with Gini Index (Random State 42):\")\n",
    "print(classification_report(y_test, y_pred_test_gini_42))"
   ]
  },
  {
   "cell_type": "code",
   "execution_count": 56,
   "metadata": {
    "ExecuteTime": {
     "end_time": "2023-12-28T07:22:08.586991500Z",
     "start_time": "2023-12-28T07:22:01.342706500Z"
    }
   },
   "outputs": [
    {
     "name": "stdout",
     "output_type": "stream",
     "text": [
      "\n",
      "Random Forest with Entropy (Random State 123):\n",
      "              precision    recall  f1-score   support\n",
      "\n",
      "    BARBUNYA       0.94      0.91      0.92       450\n",
      "      BOMBAY       1.00      0.99      1.00       178\n",
      "        CALI       0.93      0.94      0.93       528\n",
      "    DERMASON       0.90      0.92      0.91      1155\n",
      "       HOROZ       0.97      0.95      0.96       638\n",
      "       SEKER       0.95      0.94      0.94       664\n",
      "        SIRA       0.87      0.88      0.87       879\n",
      "\n",
      "    accuracy                           0.92      4492\n",
      "   macro avg       0.94      0.93      0.93      4492\n",
      "weighted avg       0.92      0.92      0.92      4492\n"
     ]
    }
   ],
   "source": [
    "# Create another RandomForestClassifier with entropy as the splitting criterion and random_state set to seed 123\n",
    "rfc_entropy_123 = RandomForestClassifier(criterion='entropy', random_state=123)\n",
    "\n",
    "# Train the classifier on the training data\n",
    "rfc_entropy_123.fit(X_train, y_train)\n",
    "\n",
    "# Make predictions on the test data\n",
    "y_pred_test_entropy_123 = rfc_entropy_123.predict(X_test)\n",
    "\n",
    "# Print the classification report comparing the true labels (y_test) with the predicted labels (y_pred_test_entropy_123)\n",
    "print(\"\\nRandom Forest with Entropy (Random State 123):\")\n",
    "print(classification_report(y_test, y_pred_test_entropy_123))"
   ]
  },
  {
   "cell_type": "code",
   "execution_count": 57,
   "metadata": {
    "ExecuteTime": {
     "end_time": "2023-12-28T07:22:08.603866400Z",
     "start_time": "2023-12-28T07:22:08.588988700Z"
    }
   },
   "outputs": [
    {
     "data": {
      "text/plain": [
       "array([0.05468537, 0.11045021, 0.0928402 , 0.0874687 , 0.04591941,\n",
       "       0.03339479, 0.09237001, 0.07083673, 0.00871363, 0.01512514,\n",
       "       0.04217185, 0.08318531, 0.09433224, 0.07092904, 0.07334188,\n",
       "       0.0242355 ])"
      ]
     },
     "execution_count": 57,
     "metadata": {},
     "output_type": "execute_result"
    }
   ],
   "source": [
    "rfc_entropy_100.feature_importances_"
   ]
  },
  {
   "cell_type": "code",
   "execution_count": 58,
   "metadata": {
    "ExecuteTime": {
     "end_time": "2023-12-28T07:22:08.610077600Z",
     "start_time": "2023-12-28T07:22:08.600866900Z"
    }
   },
   "outputs": [
    {
     "data": {
      "text/plain": [
       "array([0.05041272, 0.11171383, 0.10465288, 0.08766833, 0.04581645,\n",
       "       0.04240287, 0.09290195, 0.05927302, 0.00898014, 0.01546073,\n",
       "       0.0450989 , 0.06472436, 0.10647007, 0.06008962, 0.07881908,\n",
       "       0.02551505])"
      ]
     },
     "execution_count": 58,
     "metadata": {},
     "output_type": "execute_result"
    }
   ],
   "source": [
    "rfc_entropy_123.feature_importances_"
   ]
  },
  {
   "cell_type": "code",
   "execution_count": 59,
   "metadata": {
    "ExecuteTime": {
     "end_time": "2023-12-28T07:22:08.664513Z",
     "start_time": "2023-12-28T07:22:08.611076300Z"
    }
   },
   "outputs": [
    {
     "data": {
      "text/plain": [
       "array([0.05155492, 0.10627347, 0.07394986, 0.08040893, 0.06041951,\n",
       "       0.06391154, 0.07093318, 0.06328383, 0.01140378, 0.01925531,\n",
       "       0.05292014, 0.09797342, 0.0905542 , 0.03860353, 0.08857761,\n",
       "       0.02997676])"
      ]
     },
     "execution_count": 59,
     "metadata": {},
     "output_type": "execute_result"
    }
   ],
   "source": [
    "rfc_gini_42.feature_importances_"
   ]
  },
  {
   "cell_type": "code",
   "execution_count": 60,
   "metadata": {
    "ExecuteTime": {
     "end_time": "2023-12-28T07:22:08.832302400Z",
     "start_time": "2023-12-28T07:22:08.622512900Z"
    }
   },
   "outputs": [
    {
     "data": {
      "image/png": "[encoded data removed]",
      "text/plain": [
       "<Figure size 1800x800 with 1 Axes>"
      ]
     },
     "metadata": {},
     "output_type": "display_data"
    }
   ],
   "source": [
    "feature_importance = pd.DataFrame({'rfc':rfc_entropy_100.feature_importances_},index = df.drop(columns = ['Class']).columns)\n",
    "feature_importance.sort_values('rfc',ascending = True,inplace = True)\n",
    "\n",
    "index = np.arange(len(feature_importance))\n",
    "fig, ax = plt.subplots(figsize = (18,8))\n",
    "rfc_feature = ax.barh(index, feature_importance['rfc'], label = 'Random Forest')\n",
    "ax.set(yticks = index , yticklabels = feature_importance.index)\n",
    "\n",
    "ax.legend()\n",
    "plt.show()"
   ]
  },
  {
   "cell_type": "markdown",
   "source": [
    "## Results and Analysis\n",
    "\n",
    "Following the code execution above, the project outcomes will encompass model performance metrics, aided by visualizations and insights derived from the application of Random Forest on the DryBean Dataset."
   ],
   "metadata": {
    "collapsed": false
   }
  },
  {
   "cell_type": "markdown",
   "source": [
    "## Conclusion\n",
    "\n",
    "with the available results and our team’s analysis, we concluded that dry bean classification is an astounding success with all types of models having high percentages of precision and F1-score. Our greatest result could be seen in schema four using XGBoost with a precision score of 93%, followed closely by random forest schemas with 92%."
   ],
   "metadata": {
    "collapsed": false
   }
  }
 ],
 "metadata": {
  "kernelspec": {
   "display_name": "Python 3 (ipykernel)",
   "language": "python",
   "name": "python3"
  },
  "language_info": {
   "codemirror_mode": {
    "name": "ipython",
    "version": 3
   },
   "file_extension": ".py",
   "mimetype": "text/x-python",
   "name": "python",
   "nbconvert_exporter": "python",
   "pygments_lexer": "ipython3",
   "version": "3.12.0"
  }
 },
 "nbformat": 4,
 "nbformat_minor": 4
}
