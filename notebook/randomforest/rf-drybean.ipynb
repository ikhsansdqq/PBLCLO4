{
 "cells": [
  {
   "cell_type": "markdown",
   "metadata": {},
   "source": [
    "# DryBeanDataset\n",
    "\n",
    "The **XGBoost** and **Random Forest** models are employed for the classification of the DryBeanDataset, a tabular dataset representing various bean types. \n",
    "\n",
    "1. Ikhsan Assidiqie\n",
    "2. Zharfan Dawud Harwiraputera\n",
    "3. Helmi Wira Tahta Haikal"
   ]
  },
  {
   "cell_type": "markdown",
   "source": [
    "## Method Summary\n",
    "\n",
    "1. **XGBOOST** \n",
    "Known for its efficiency and accuracy, XGBoost is a gradient boosting algorithm that sequentially builds multiple decision trees and optimizes their collective predictive power. It's particularly effective for tabular data classification, making it well-suited for discerning different types of beans in the DryBeanDataset.\n",
    "\n",
    "2. **Random Forest** \n",
    "This model involves constructing multiple decision trees using random subsets of the training data. Each tree contributes to the final prediction, and the Random Forest model excels in handling complex datasets. In the context of DryBeanDataset, Random Forest proves valuable for accurate classification, leveraging the diversity of decision trees to enhance overall performance."
   ],
   "metadata": {
    "collapsed": false
   }
  },
  {
   "cell_type": "code",
   "execution_count": 4,
   "metadata": {
    "ExecuteTime": {
     "end_time": "2023-12-28T14:57:44.701435600Z",
     "start_time": "2023-12-28T14:57:44.598401400Z"
    }
   },
   "outputs": [],
   "source": [
    "import numpy as np\n",
    "import pandas as pd\n",
    "import seaborn as sns\n",
    "import matplotlib.pyplot as plt\n",
    "%matplotlib inline\n",
    "\n",
    "import warnings\n",
    "warnings.filterwarnings('ignore')"
   ]
  },
  {
   "cell_type": "code",
   "execution_count": 5,
   "metadata": {
    "ExecuteTime": {
     "end_time": "2023-12-28T14:57:44.733783700Z",
     "start_time": "2023-12-28T14:57:44.704269500Z"
    }
   },
   "outputs": [],
   "source": [
    "data = '../../data/raw/DryBeanDataset/Dry_Bean_Dataset.csv'"
   ]
  },
  {
   "cell_type": "code",
   "execution_count": 6,
   "metadata": {
    "ExecuteTime": {
     "end_time": "2023-12-28T14:57:44.817995300Z",
     "start_time": "2023-12-28T14:57:44.735786Z"
    }
   },
   "outputs": [],
   "source": [
    "df = pd.read_csv(data, delimiter=';')"
   ]
  },
  {
   "cell_type": "code",
   "execution_count": 7,
   "metadata": {
    "ExecuteTime": {
     "end_time": "2023-12-28T14:57:44.938613Z",
     "start_time": "2023-12-28T14:57:44.804993400Z"
    }
   },
   "outputs": [],
   "source": [
    "df = df.replace(',', '.', regex=True)"
   ]
  },
  {
   "cell_type": "code",
   "execution_count": 8,
   "metadata": {
    "ExecuteTime": {
     "end_time": "2023-12-28T14:57:44.939611200Z",
     "start_time": "2023-12-28T14:57:44.917256300Z"
    }
   },
   "outputs": [
    {
     "data": {
      "text/plain": "Index(['Area', 'Perimeter', 'MajorAxisLength', 'MinorAxisLength',\n       'AspectRation', 'Eccentricity', 'ConvexArea', 'EquivDiameter', 'Extent',\n       'Solidity', 'roundness', 'Compactness', 'ShapeFactor1', 'ShapeFactor2',\n       'ShapeFactor3', 'ShapeFactor4', 'Class'],\n      dtype='object')"
     },
     "execution_count": 8,
     "metadata": {},
     "output_type": "execute_result"
    }
   ],
   "source": [
    "df.columns"
   ]
  },
  {
   "cell_type": "code",
   "execution_count": 9,
   "metadata": {
    "ExecuteTime": {
     "end_time": "2023-12-28T14:57:44.941613400Z",
     "start_time": "2023-12-28T14:57:44.926920100Z"
    }
   },
   "outputs": [],
   "source": [
    "X = df.drop('Class', axis=1)\n",
    "y = df['Class']"
   ]
  },
  {
   "cell_type": "code",
   "execution_count": 10,
   "metadata": {
    "ExecuteTime": {
     "end_time": "2023-12-28T14:57:44.957610200Z",
     "start_time": "2023-12-28T14:57:44.932598100Z"
    }
   },
   "outputs": [
    {
     "data": {
      "text/plain": "Area                int64\nPerimeter          object\nMajorAxisLength    object\nMinorAxisLength    object\nAspectRation       object\nEccentricity       object\nConvexArea          int64\nEquivDiameter      object\nExtent             object\nSolidity           object\nroundness          object\nCompactness        object\nShapeFactor1       object\nShapeFactor2       object\nShapeFactor3       object\nShapeFactor4       object\ndtype: object"
     },
     "execution_count": 10,
     "metadata": {},
     "output_type": "execute_result"
    }
   ],
   "source": [
    "X.dtypes"
   ]
  },
  {
   "cell_type": "code",
   "execution_count": 11,
   "metadata": {
    "ExecuteTime": {
     "end_time": "2023-12-28T14:57:45.030146200Z",
     "start_time": "2023-12-28T14:57:44.939611200Z"
    }
   },
   "outputs": [],
   "source": [
    "X[['Perimeter', 'MajorAxisLength', 'MinorAxisLength', 'AspectRation', 'Eccentricity', 'EquivDiameter', 'Extent', 'Solidity', 'roundness', 'Compactness', 'ShapeFactor1', 'ShapeFactor2', 'ShapeFactor3', 'ShapeFactor4']] = X[ ['Perimeter', 'MajorAxisLength', 'MinorAxisLength', 'AspectRation', 'Eccentricity', 'EquivDiameter', 'Extent', 'Solidity', 'roundness', 'Compactness', 'ShapeFactor1', 'ShapeFactor2', 'ShapeFactor3', 'ShapeFactor4']].astype(float)"
   ]
  },
  {
   "cell_type": "code",
   "execution_count": 12,
   "metadata": {
    "ExecuteTime": {
     "end_time": "2023-12-28T14:57:45.048121200Z",
     "start_time": "2023-12-28T14:57:44.986693Z"
    }
   },
   "outputs": [
    {
     "data": {
      "text/plain": "Area                 int64\nPerimeter          float64\nMajorAxisLength    float64\nMinorAxisLength    float64\nAspectRation       float64\nEccentricity       float64\nConvexArea           int64\nEquivDiameter      float64\nExtent             float64\nSolidity           float64\nroundness          float64\nCompactness        float64\nShapeFactor1       float64\nShapeFactor2       float64\nShapeFactor3       float64\nShapeFactor4       float64\ndtype: object"
     },
     "execution_count": 12,
     "metadata": {},
     "output_type": "execute_result"
    }
   ],
   "source": [
    "X.dtypes"
   ]
  },
  {
   "cell_type": "code",
   "execution_count": 13,
   "metadata": {
    "ExecuteTime": {
     "end_time": "2023-12-28T14:57:45.048628300Z",
     "start_time": "2023-12-28T14:57:44.993401800Z"
    }
   },
   "outputs": [
    {
     "data": {
      "text/plain": "(13611, 17)"
     },
     "execution_count": 13,
     "metadata": {},
     "output_type": "execute_result"
    }
   ],
   "source": [
    "df.shape"
   ]
  },
  {
   "cell_type": "code",
   "execution_count": 14,
   "metadata": {
    "ExecuteTime": {
     "end_time": "2023-12-28T14:57:45.086230700Z",
     "start_time": "2023-12-28T14:57:44.998892300Z"
    }
   },
   "outputs": [
    {
     "data": {
      "text/plain": "    Area Perimeter MajorAxisLength MinorAxisLength AspectRation Eccentricity  \\\n0  28395   610.291     208.1781167      173.888747  1.197191424  0.549812187   \n1  28734   638.018     200.5247957     182.7344194  1.097356461  0.411785251   \n2  29380    624.11     212.8261299     175.9311426  1.209712656  0.562727317   \n3  30008   645.884      210.557999     182.5165157  1.153638059  0.498615976   \n4  30140   620.134     201.8478822     190.2792788   1.06079802  0.333679658   \n\n   ConvexArea EquivDiameter       Extent     Solidity    roundness  \\\n0       28715   190.1410973  0.763922518  0.988855999  0.958027126   \n1       29172   191.2727505  0.783968133  0.984985603  0.887033637   \n2       29690   193.4109041  0.778113248  0.989558774  0.947849473   \n3       30724   195.4670618  0.782681273  0.976695743  0.903936374   \n4       30417    195.896503  0.773098035   0.99089325  0.984877069   \n\n   Compactness ShapeFactor1 ShapeFactor2 ShapeFactor3 ShapeFactor4  Class  \n0  0.913357755  0.007331506  0.003147289  0.834222388  0.998723889  SEKER  \n1  0.953860842  0.006978659  0.003563624  0.909850506  0.998430331  SEKER  \n2  0.908774239  0.007243912  0.003047733  0.825870617  0.999066137  SEKER  \n3  0.928328835  0.007016729  0.003214562  0.861794425  0.994198849  SEKER  \n4  0.970515523   0.00669701  0.003664972  0.941900381  0.999166059  SEKER  ",
      "text/html": "<div>\n<style scoped>\n    .dataframe tbody tr th:only-of-type {\n        vertical-align: middle;\n    }\n\n    .dataframe tbody tr th {\n        vertical-align: top;\n    }\n\n    .dataframe thead th {\n        text-align: right;\n    }\n</style>\n<table border=\"1\" class=\"dataframe\">\n  <thead>\n    <tr style=\"text-align: right;\">\n      <th></th>\n      <th>Area</th>\n      <th>Perimeter</th>\n      <th>MajorAxisLength</th>\n      <th>MinorAxisLength</th>\n      <th>AspectRation</th>\n      <th>Eccentricity</th>\n      <th>ConvexArea</th>\n      <th>EquivDiameter</th>\n      <th>Extent</th>\n      <th>Solidity</th>\n      <th>roundness</th>\n      <th>Compactness</th>\n      <th>ShapeFactor1</th>\n      <th>ShapeFactor2</th>\n      <th>ShapeFactor3</th>\n      <th>ShapeFactor4</th>\n      <th>Class</th>\n    </tr>\n  </thead>\n  <tbody>\n    <tr>\n      <th>0</th>\n      <td>28395</td>\n      <td>610.291</td>\n      <td>208.1781167</td>\n      <td>173.888747</td>\n      <td>1.197191424</td>\n      <td>0.549812187</td>\n      <td>28715</td>\n      <td>190.1410973</td>\n      <td>0.763922518</td>\n      <td>0.988855999</td>\n      <td>0.958027126</td>\n      <td>0.913357755</td>\n      <td>0.007331506</td>\n      <td>0.003147289</td>\n      <td>0.834222388</td>\n      <td>0.998723889</td>\n      <td>SEKER</td>\n    </tr>\n    <tr>\n      <th>1</th>\n      <td>28734</td>\n      <td>638.018</td>\n      <td>200.5247957</td>\n      <td>182.7344194</td>\n      <td>1.097356461</td>\n      <td>0.411785251</td>\n      <td>29172</td>\n      <td>191.2727505</td>\n      <td>0.783968133</td>\n      <td>0.984985603</td>\n      <td>0.887033637</td>\n      <td>0.953860842</td>\n      <td>0.006978659</td>\n      <td>0.003563624</td>\n      <td>0.909850506</td>\n      <td>0.998430331</td>\n      <td>SEKER</td>\n    </tr>\n    <tr>\n      <th>2</th>\n      <td>29380</td>\n      <td>624.11</td>\n      <td>212.8261299</td>\n      <td>175.9311426</td>\n      <td>1.209712656</td>\n      <td>0.562727317</td>\n      <td>29690</td>\n      <td>193.4109041</td>\n      <td>0.778113248</td>\n      <td>0.989558774</td>\n      <td>0.947849473</td>\n      <td>0.908774239</td>\n      <td>0.007243912</td>\n      <td>0.003047733</td>\n      <td>0.825870617</td>\n      <td>0.999066137</td>\n      <td>SEKER</td>\n    </tr>\n    <tr>\n      <th>3</th>\n      <td>30008</td>\n      <td>645.884</td>\n      <td>210.557999</td>\n      <td>182.5165157</td>\n      <td>1.153638059</td>\n      <td>0.498615976</td>\n      <td>30724</td>\n      <td>195.4670618</td>\n      <td>0.782681273</td>\n      <td>0.976695743</td>\n      <td>0.903936374</td>\n      <td>0.928328835</td>\n      <td>0.007016729</td>\n      <td>0.003214562</td>\n      <td>0.861794425</td>\n      <td>0.994198849</td>\n      <td>SEKER</td>\n    </tr>\n    <tr>\n      <th>4</th>\n      <td>30140</td>\n      <td>620.134</td>\n      <td>201.8478822</td>\n      <td>190.2792788</td>\n      <td>1.06079802</td>\n      <td>0.333679658</td>\n      <td>30417</td>\n      <td>195.896503</td>\n      <td>0.773098035</td>\n      <td>0.99089325</td>\n      <td>0.984877069</td>\n      <td>0.970515523</td>\n      <td>0.00669701</td>\n      <td>0.003664972</td>\n      <td>0.941900381</td>\n      <td>0.999166059</td>\n      <td>SEKER</td>\n    </tr>\n  </tbody>\n</table>\n</div>"
     },
     "execution_count": 14,
     "metadata": {},
     "output_type": "execute_result"
    }
   ],
   "source": [
    "df.head()"
   ]
  },
  {
   "cell_type": "code",
   "execution_count": 15,
   "metadata": {
    "ExecuteTime": {
     "end_time": "2023-12-28T14:57:45.089230700Z",
     "start_time": "2023-12-28T14:57:45.014045200Z"
    }
   },
   "outputs": [
    {
     "data": {
      "text/plain": "(13611, 16)"
     },
     "execution_count": 15,
     "metadata": {},
     "output_type": "execute_result"
    }
   ],
   "source": [
    "X.shape"
   ]
  },
  {
   "cell_type": "code",
   "execution_count": 16,
   "metadata": {
    "ExecuteTime": {
     "end_time": "2023-12-28T14:57:45.090230Z",
     "start_time": "2023-12-28T14:57:45.018688100Z"
    }
   },
   "outputs": [
    {
     "data": {
      "text/plain": "    Area  Perimeter  MajorAxisLength  MinorAxisLength  AspectRation  \\\n0  28395    610.291       208.178117       173.888747      1.197191   \n1  28734    638.018       200.524796       182.734419      1.097356   \n2  29380    624.110       212.826130       175.931143      1.209713   \n3  30008    645.884       210.557999       182.516516      1.153638   \n4  30140    620.134       201.847882       190.279279      1.060798   \n\n   Eccentricity  ConvexArea  EquivDiameter    Extent  Solidity  roundness  \\\n0      0.549812       28715     190.141097  0.763923  0.988856   0.958027   \n1      0.411785       29172     191.272751  0.783968  0.984986   0.887034   \n2      0.562727       29690     193.410904  0.778113  0.989559   0.947849   \n3      0.498616       30724     195.467062  0.782681  0.976696   0.903936   \n4      0.333680       30417     195.896503  0.773098  0.990893   0.984877   \n\n   Compactness  ShapeFactor1  ShapeFactor2  ShapeFactor3  ShapeFactor4  \n0     0.913358      0.007332      0.003147      0.834222      0.998724  \n1     0.953861      0.006979      0.003564      0.909851      0.998430  \n2     0.908774      0.007244      0.003048      0.825871      0.999066  \n3     0.928329      0.007017      0.003215      0.861794      0.994199  \n4     0.970516      0.006697      0.003665      0.941900      0.999166  ",
      "text/html": "<div>\n<style scoped>\n    .dataframe tbody tr th:only-of-type {\n        vertical-align: middle;\n    }\n\n    .dataframe tbody tr th {\n        vertical-align: top;\n    }\n\n    .dataframe thead th {\n        text-align: right;\n    }\n</style>\n<table border=\"1\" class=\"dataframe\">\n  <thead>\n    <tr style=\"text-align: right;\">\n      <th></th>\n      <th>Area</th>\n      <th>Perimeter</th>\n      <th>MajorAxisLength</th>\n      <th>MinorAxisLength</th>\n      <th>AspectRation</th>\n      <th>Eccentricity</th>\n      <th>ConvexArea</th>\n      <th>EquivDiameter</th>\n      <th>Extent</th>\n      <th>Solidity</th>\n      <th>roundness</th>\n      <th>Compactness</th>\n      <th>ShapeFactor1</th>\n      <th>ShapeFactor2</th>\n      <th>ShapeFactor3</th>\n      <th>ShapeFactor4</th>\n    </tr>\n  </thead>\n  <tbody>\n    <tr>\n      <th>0</th>\n      <td>28395</td>\n      <td>610.291</td>\n      <td>208.178117</td>\n      <td>173.888747</td>\n      <td>1.197191</td>\n      <td>0.549812</td>\n      <td>28715</td>\n      <td>190.141097</td>\n      <td>0.763923</td>\n      <td>0.988856</td>\n      <td>0.958027</td>\n      <td>0.913358</td>\n      <td>0.007332</td>\n      <td>0.003147</td>\n      <td>0.834222</td>\n      <td>0.998724</td>\n    </tr>\n    <tr>\n      <th>1</th>\n      <td>28734</td>\n      <td>638.018</td>\n      <td>200.524796</td>\n      <td>182.734419</td>\n      <td>1.097356</td>\n      <td>0.411785</td>\n      <td>29172</td>\n      <td>191.272751</td>\n      <td>0.783968</td>\n      <td>0.984986</td>\n      <td>0.887034</td>\n      <td>0.953861</td>\n      <td>0.006979</td>\n      <td>0.003564</td>\n      <td>0.909851</td>\n      <td>0.998430</td>\n    </tr>\n    <tr>\n      <th>2</th>\n      <td>29380</td>\n      <td>624.110</td>\n      <td>212.826130</td>\n      <td>175.931143</td>\n      <td>1.209713</td>\n      <td>0.562727</td>\n      <td>29690</td>\n      <td>193.410904</td>\n      <td>0.778113</td>\n      <td>0.989559</td>\n      <td>0.947849</td>\n      <td>0.908774</td>\n      <td>0.007244</td>\n      <td>0.003048</td>\n      <td>0.825871</td>\n      <td>0.999066</td>\n    </tr>\n    <tr>\n      <th>3</th>\n      <td>30008</td>\n      <td>645.884</td>\n      <td>210.557999</td>\n      <td>182.516516</td>\n      <td>1.153638</td>\n      <td>0.498616</td>\n      <td>30724</td>\n      <td>195.467062</td>\n      <td>0.782681</td>\n      <td>0.976696</td>\n      <td>0.903936</td>\n      <td>0.928329</td>\n      <td>0.007017</td>\n      <td>0.003215</td>\n      <td>0.861794</td>\n      <td>0.994199</td>\n    </tr>\n    <tr>\n      <th>4</th>\n      <td>30140</td>\n      <td>620.134</td>\n      <td>201.847882</td>\n      <td>190.279279</td>\n      <td>1.060798</td>\n      <td>0.333680</td>\n      <td>30417</td>\n      <td>195.896503</td>\n      <td>0.773098</td>\n      <td>0.990893</td>\n      <td>0.984877</td>\n      <td>0.970516</td>\n      <td>0.006697</td>\n      <td>0.003665</td>\n      <td>0.941900</td>\n      <td>0.999166</td>\n    </tr>\n  </tbody>\n</table>\n</div>"
     },
     "execution_count": 16,
     "metadata": {},
     "output_type": "execute_result"
    }
   ],
   "source": [
    "X.head()"
   ]
  },
  {
   "cell_type": "code",
   "execution_count": 17,
   "metadata": {
    "ExecuteTime": {
     "end_time": "2023-12-28T14:57:45.105982500Z",
     "start_time": "2023-12-28T14:57:45.031145500Z"
    }
   },
   "outputs": [
    {
     "name": "stdout",
     "output_type": "stream",
     "text": [
      "<class 'pandas.core.frame.DataFrame'>\n",
      "RangeIndex: 13611 entries, 0 to 13610\n",
      "Data columns (total 17 columns):\n",
      " #   Column           Non-Null Count  Dtype \n",
      "---  ------           --------------  ----- \n",
      " 0   Area             13611 non-null  int64 \n",
      " 1   Perimeter        13611 non-null  object\n",
      " 2   MajorAxisLength  13611 non-null  object\n",
      " 3   MinorAxisLength  13611 non-null  object\n",
      " 4   AspectRation     13611 non-null  object\n",
      " 5   Eccentricity     13611 non-null  object\n",
      " 6   ConvexArea       13611 non-null  int64 \n",
      " 7   EquivDiameter    13611 non-null  object\n",
      " 8   Extent           13611 non-null  object\n",
      " 9   Solidity         13611 non-null  object\n",
      " 10  roundness        13611 non-null  object\n",
      " 11  Compactness      13611 non-null  object\n",
      " 12  ShapeFactor1     13611 non-null  object\n",
      " 13  ShapeFactor2     13611 non-null  object\n",
      " 14  ShapeFactor3     13611 non-null  object\n",
      " 15  ShapeFactor4     13611 non-null  object\n",
      " 16  Class            13611 non-null  object\n",
      "dtypes: int64(2), object(15)\n",
      "memory usage: 1.8+ MB\n"
     ]
    }
   ],
   "source": [
    "df.info()"
   ]
  },
  {
   "cell_type": "code",
   "execution_count": 18,
   "metadata": {
    "ExecuteTime": {
     "end_time": "2023-12-28T14:57:45.117990100Z",
     "start_time": "2023-12-28T14:57:45.045125200Z"
    }
   },
   "outputs": [
    {
     "data": {
      "text/plain": "Index(['Area', 'Perimeter', 'MajorAxisLength', 'MinorAxisLength',\n       'AspectRation', 'Eccentricity', 'ConvexArea', 'EquivDiameter', 'Extent',\n       'Solidity', 'roundness', 'Compactness', 'ShapeFactor1', 'ShapeFactor2',\n       'ShapeFactor3', 'ShapeFactor4', 'Class'],\n      dtype='object')"
     },
     "execution_count": 18,
     "metadata": {},
     "output_type": "execute_result"
    }
   ],
   "source": [
    "df.columns"
   ]
  },
  {
   "cell_type": "code",
   "execution_count": 19,
   "metadata": {
    "ExecuteTime": {
     "end_time": "2023-12-28T14:57:45.118991100Z",
     "start_time": "2023-12-28T14:57:45.051635900Z"
    }
   },
   "outputs": [
    {
     "data": {
      "text/plain": "Index(['Area', 'Perimeter', 'MajorAxisLength', 'MinorAxisLength',\n       'AspectRation', 'Eccentricity', 'ConvexArea', 'EquivDiameter', 'Extent',\n       'Solidity', 'roundness', 'Compactness', 'ShapeFactor1', 'ShapeFactor2',\n       'ShapeFactor3', 'ShapeFactor4'],\n      dtype='object')"
     },
     "execution_count": 19,
     "metadata": {},
     "output_type": "execute_result"
    }
   ],
   "source": [
    "X.columns"
   ]
  },
  {
   "cell_type": "code",
   "execution_count": 20,
   "metadata": {
    "ExecuteTime": {
     "end_time": "2023-12-28T14:57:45.239698300Z",
     "start_time": "2023-12-28T14:57:45.091229700Z"
    }
   },
   "outputs": [
    {
     "name": "stdout",
     "output_type": "stream",
     "text": [
      "Area               0\n",
      "Perimeter          0\n",
      "MajorAxisLength    0\n",
      "MinorAxisLength    0\n",
      "AspectRation       0\n",
      "Eccentricity       0\n",
      "ConvexArea         0\n",
      "EquivDiameter      0\n",
      "Extent             0\n",
      "Solidity           0\n",
      "roundness          0\n",
      "Compactness        0\n",
      "ShapeFactor1       0\n",
      "ShapeFactor2       0\n",
      "ShapeFactor3       0\n",
      "ShapeFactor4       0\n",
      "Class              0\n",
      "dtype: int64\n",
      "\n",
      "Clean data.\n"
     ]
    }
   ],
   "source": [
    "if (df.isnull().sum() == 0).all():\n",
    "    print(df.isnull().sum())\n",
    "    print(\"\\nClean data.\")\n",
    "else:\n",
    "    print(\"Data contains null values\")"
   ]
  },
  {
   "cell_type": "code",
   "execution_count": 21,
   "metadata": {
    "ExecuteTime": {
     "end_time": "2023-12-28T14:57:45.331697100Z",
     "start_time": "2023-12-28T14:57:45.220689500Z"
    }
   },
   "outputs": [],
   "source": [
    "from sklearn.model_selection import train_test_split\n",
    "from sklearn.preprocessing import StandardScaler\n",
    "from sklearn.metrics import classification_report\n",
    "from sklearn.ensemble import RandomForestClassifier"
   ]
  },
  {
   "cell_type": "code",
   "execution_count": 22,
   "metadata": {
    "ExecuteTime": {
     "end_time": "2023-12-28T14:57:45.441993500Z",
     "start_time": "2023-12-28T14:57:45.332698100Z"
    }
   },
   "outputs": [],
   "source": [
    "X_train, X_test, y_train, y_test = train_test_split(X, y, test_size=0.33, random_state=42)"
   ]
  },
  {
   "cell_type": "code",
   "outputs": [],
   "source": [
    "from sklearn.model_selection import GridSearchCV\n",
    "\n",
    "param_grid = {\n",
    "    'criterion': ['gini', 'entropy'],\n",
    "    'max_depth': [2, 3, 4, 5, 6, 7, 8, 9, 10],\n",
    "    'n_estimators': [50, 100, 200, 300]\n",
    "}\n",
    "\n",
    "grid_search = GridSearchCV(RandomForestClassifier(), param_grid=param_grid, cv=5)\n",
    "grid_search.fit(X_train, y_train)\n",
    "\n",
    "best_params = grid_search.best_params_\n",
    "print(\"Best Hyperparameters for Random Forest:\", best_params)"
   ],
   "metadata": {
    "collapsed": false,
    "is_executing": true,
    "ExecuteTime": {
     "start_time": "2023-12-28T14:59:17.179645400Z"
    }
   },
   "execution_count": null
  },
  {
   "cell_type": "code",
   "execution_count": null,
   "metadata": {
    "ExecuteTime": {
     "start_time": "2023-12-28T14:57:45.536789700Z"
    }
   },
   "outputs": [],
   "source": [
    "X_train.shape, X_test.shape"
   ]
  },
  {
   "cell_type": "markdown",
   "metadata": {},
   "source": [
    "### Feature Engineering"
   ]
  },
  {
   "cell_type": "code",
   "execution_count": null,
   "metadata": {
    "ExecuteTime": {
     "start_time": "2023-12-28T14:57:45.538792100Z"
    }
   },
   "outputs": [],
   "source": [
    "X_train.head()"
   ]
  },
  {
   "cell_type": "code",
   "execution_count": null,
   "metadata": {
    "ExecuteTime": {
     "start_time": "2023-12-28T14:57:45.539790600Z"
    }
   },
   "outputs": [],
   "source": [
    "sta = StandardScaler()\n",
    "X_train = sta.fit_transform(X_train)\n",
    "X_test = sta.transform(X_test)"
   ]
  },
  {
   "cell_type": "code",
   "execution_count": null,
   "metadata": {
    "ExecuteTime": {
     "start_time": "2023-12-28T14:57:45.541792700Z"
    }
   },
   "outputs": [],
   "source": [
    "rfc_entropy_100 = RandomForestClassifier(criterion='entropy', random_state=100)\n",
    "\n",
    "# Train the classifier on the training data\n",
    "rfc_entropy_100.fit(X_train, y_train)\n",
    "\n",
    "# Make predictions on the test data\n",
    "y_pred_test_entropy_100 = rfc_entropy_100.predict(X_test)\n",
    "\n",
    "# Print the classification report comparing the true labels (y_test) with the predicted labels (y_pred_test_entropy_100)\n",
    "print(\"Random Forest with Entropy (Random State 100):\")\n",
    "print(classification_report(y_test, y_pred_test_entropy_100))"
   ]
  },
  {
   "cell_type": "code",
   "execution_count": null,
   "metadata": {
    "ExecuteTime": {
     "start_time": "2023-12-28T14:57:45.542792100Z"
    }
   },
   "outputs": [],
   "source": [
    "# Create another RandomForestClassifier with the Gini Index as the splitting criterion and random_state set to 42\n",
    "rfc_gini_42 = RandomForestClassifier(criterion='gini', random_state=42)\n",
    "\n",
    "# Train the classifier on the training data\n",
    "rfc_gini_42.fit(X_train, y_train)\n",
    "\n",
    "# Make predictions on the test data\n",
    "y_pred_test_gini_42 = rfc_gini_42.predict(X_test)\n",
    "\n",
    "# Print the classification report comparing the true labels (y_test) with the predicted labels (y_pred_test_gini_42)\n",
    "print(\"\\nRandom Forest with Gini Index (Random State 42):\")\n",
    "print(classification_report(y_test, y_pred_test_gini_42))"
   ]
  },
  {
   "cell_type": "code",
   "execution_count": 24,
   "metadata": {
    "ExecuteTime": {
     "end_time": "2023-12-28T14:57:52.633607400Z",
     "start_time": "2023-12-28T14:57:45.613791400Z"
    }
   },
   "outputs": [
    {
     "name": "stdout",
     "output_type": "stream",
     "text": [
      "\n",
      "Random Forest with Entropy (Random State 123):\n",
      "              precision    recall  f1-score   support\n",
      "\n",
      "    BARBUNYA       0.94      0.90      0.92       450\n",
      "      BOMBAY       1.00      0.99      1.00       178\n",
      "        CALI       0.93      0.94      0.93       528\n",
      "    DERMASON       0.91      0.92      0.92      1155\n",
      "       HOROZ       0.97      0.95      0.96       638\n",
      "       SEKER       0.95      0.94      0.94       664\n",
      "        SIRA       0.87      0.88      0.88       879\n",
      "\n",
      "    accuracy                           0.92      4492\n",
      "   macro avg       0.94      0.93      0.94      4492\n",
      "weighted avg       0.92      0.92      0.92      4492\n"
     ]
    }
   ],
   "source": [
    "# Create another RandomForestClassifier with entropy as the splitting criterion and random_state set to seed 123\n",
    "rfc_entropy_123 = RandomForestClassifier(criterion='entropy', random_state=123)\n",
    "\n",
    "# Train the classifier on the training data\n",
    "rfc_entropy_123.fit(X_train, y_train)\n",
    "\n",
    "# Make predictions on the test data\n",
    "y_pred_test_entropy_123 = rfc_entropy_123.predict(X_test)\n",
    "\n",
    "# Print the classification report comparing the true labels (y_test) with the predicted labels (y_pred_test_entropy_123)\n",
    "print(\"\\nRandom Forest with Entropy (Random State 123):\")\n",
    "print(classification_report(y_test, y_pred_test_entropy_123))"
   ]
  },
  {
   "cell_type": "code",
   "execution_count": 25,
   "metadata": {
    "ExecuteTime": {
     "end_time": "2023-12-28T14:57:52.645917100Z",
     "start_time": "2023-12-28T14:57:52.634608700Z"
    }
   },
   "outputs": [
    {
     "ename": "NameError",
     "evalue": "name 'rfc_entropy_100' is not defined",
     "output_type": "error",
     "traceback": [
      "\u001B[1;31m---------------------------------------------------------------------------\u001B[0m",
      "\u001B[1;31mNameError\u001B[0m                                 Traceback (most recent call last)",
      "Cell \u001B[1;32mIn[25], line 1\u001B[0m\n\u001B[1;32m----> 1\u001B[0m \u001B[43mrfc_entropy_100\u001B[49m\u001B[38;5;241m.\u001B[39mfeature_importances_\n",
      "\u001B[1;31mNameError\u001B[0m: name 'rfc_entropy_100' is not defined"
     ]
    }
   ],
   "source": [
    "rfc_entropy_100.feature_importances_"
   ]
  },
  {
   "cell_type": "code",
   "execution_count": null,
   "metadata": {
    "ExecuteTime": {
     "end_time": "2023-12-28T14:57:52.647918700Z",
     "start_time": "2023-12-28T14:57:52.646917500Z"
    }
   },
   "outputs": [],
   "source": [
    "rfc_entropy_123.feature_importances_"
   ]
  },
  {
   "cell_type": "code",
   "execution_count": null,
   "metadata": {
    "ExecuteTime": {
     "start_time": "2023-12-28T14:57:52.648919Z"
    }
   },
   "outputs": [],
   "source": [
    "rfc_gini_42.feature_importances_"
   ]
  },
  {
   "cell_type": "code",
   "execution_count": null,
   "metadata": {
    "ExecuteTime": {
     "start_time": "2023-12-28T14:57:52.649919400Z"
    }
   },
   "outputs": [],
   "source": [
    "feature_importance = pd.DataFrame({'rfc':rfc_entropy_100.feature_importances_},index = df.drop(columns = ['Class']).columns)\n",
    "feature_importance.sort_values('rfc',ascending = True,inplace = True)\n",
    "\n",
    "index = np.arange(len(feature_importance))\n",
    "fig, ax = plt.subplots(figsize = (18,8))\n",
    "rfc_feature = ax.barh(index, feature_importance['rfc'], label = 'Random Forest')\n",
    "ax.set(yticks = index , yticklabels = feature_importance.index)\n",
    "\n",
    "ax.legend()\n",
    "plt.show()"
   ]
  },
  {
   "cell_type": "markdown",
   "source": [
    "## Results and Analysis\n",
    "\n",
    "Following the code execution above, the project outcomes will encompass model performance metrics, aided by visualizations and insights derived from the application of Random Forest on the DryBean Dataset."
   ],
   "metadata": {
    "collapsed": false
   }
  },
  {
   "cell_type": "markdown",
   "source": [
    "## Conclusion\n",
    "\n",
    "with the available results and our team’s analysis, we concluded that dry bean classification is an astounding success with all types of models having high percentages of precision and F1-score. Our greatest result could be seen in schema four using XGBoost with a precision score of 93%, followed closely by random forest schemas with 92%."
   ],
   "metadata": {
    "collapsed": false
   }
  }
 ],
 "metadata": {
  "kernelspec": {
   "display_name": "Python 3 (ipykernel)",
   "language": "python",
   "name": "python3"
  },
  "language_info": {
   "codemirror_mode": {
    "name": "ipython",
    "version": 3
   },
   "file_extension": ".py",
   "mimetype": "text/x-python",
   "name": "python",
   "nbconvert_exporter": "python",
   "pygments_lexer": "ipython3",
   "version": "3.12.0"
  }
 },
 "nbformat": 4,
 "nbformat_minor": 4
}
